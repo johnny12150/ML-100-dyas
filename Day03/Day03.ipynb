{
 "cells": [
  {
   "cell_type": "code",
   "execution_count": 1,
   "metadata": {},
   "outputs": [],
   "source": [
    "import pandas as pd\n",
    "import io\n",
    "import requests\n",
    "\n",
    "url = \"https://raw.githubusercontent.com/johnny12150/Data_Analytics_Course/master/Lecture%202/Data_and_Images/Batting.csv\"\n",
    "s=requests.get(url).content\n",
    "PlayerDF = pd.read_csv(io.StringIO(s.decode('utf-8')))"
   ]
  },
  {
   "cell_type": "markdown",
   "metadata": {},
   "source": [
    "## Data Cleaning"
   ]
  },
  {
   "cell_type": "markdown",
   "metadata": {},
   "source": [
    "### 1.檢查缺值(missing data)"
   ]
  },
  {
   "cell_type": "code",
   "execution_count": 2,
   "metadata": {},
   "outputs": [
    {
     "data": {
      "text/plain": [
       "playerID        0\n",
       "yearID          0\n",
       "stint           0\n",
       "teamID          0\n",
       "lgID          737\n",
       "G               0\n",
       "AB              0\n",
       "R               0\n",
       "H               0\n",
       "2B              0\n",
       "3B              0\n",
       "HR              0\n",
       "RBI           424\n",
       "SB           1300\n",
       "CS          23456\n",
       "BB              0\n",
       "SO           7838\n",
       "IBB         36565\n",
       "HBP          2810\n",
       "SH           6338\n",
       "SF          36034\n",
       "GIDP        26110\n",
       "dtype: int64"
      ]
     },
     "execution_count": 2,
     "metadata": {},
     "output_type": "execute_result"
    }
   ],
   "source": [
    "# 計算缺值數目\n",
    "PlayerDF.isnull().sum()"
   ]
  },
  {
   "cell_type": "code",
   "execution_count": 3,
   "metadata": {},
   "outputs": [
    {
     "data": {
      "text/plain": [
       "playerID    102816\n",
       "yearID      102816\n",
       "stint       102816\n",
       "teamID      102816\n",
       "lgID        102079\n",
       "G           102816\n",
       "AB          102816\n",
       "R           102816\n",
       "H           102816\n",
       "2B          102816\n",
       "3B          102816\n",
       "HR          102816\n",
       "RBI         102392\n",
       "SB          101516\n",
       "CS           79360\n",
       "BB          102816\n",
       "SO           94978\n",
       "IBB          66251\n",
       "HBP         100006\n",
       "SH           96478\n",
       "SF           66782\n",
       "GIDP         76706\n",
       "dtype: int64"
      ]
     },
     "execution_count": 3,
     "metadata": {},
     "output_type": "execute_result"
    }
   ],
   "source": [
    "# 計算各欄位值總數\n",
    "PlayerDF.count()"
   ]
  },
  {
   "cell_type": "markdown",
   "metadata": {},
   "source": [
    "## 2.處理缺值"
   ]
  },
  {
   "cell_type": "markdown",
   "metadata": {},
   "source": [
    "### 將有缺值的row直接移除"
   ]
  },
  {
   "cell_type": "code",
   "execution_count": 4,
   "metadata": {},
   "outputs": [],
   "source": [
    "PlayerDF.dropna(inplace=True)"
   ]
  },
  {
   "cell_type": "markdown",
   "metadata": {},
   "source": [
    "沒有缺值"
   ]
  },
  {
   "cell_type": "code",
   "execution_count": 5,
   "metadata": {},
   "outputs": [
    {
     "data": {
      "text/plain": [
       "playerID    0\n",
       "yearID      0\n",
       "stint       0\n",
       "teamID      0\n",
       "lgID        0\n",
       "G           0\n",
       "AB          0\n",
       "R           0\n",
       "H           0\n",
       "2B          0\n",
       "3B          0\n",
       "HR          0\n",
       "RBI         0\n",
       "SB          0\n",
       "CS          0\n",
       "BB          0\n",
       "SO          0\n",
       "IBB         0\n",
       "HBP         0\n",
       "SH          0\n",
       "SF          0\n",
       "GIDP        0\n",
       "dtype: int64"
      ]
     },
     "execution_count": 5,
     "metadata": {},
     "output_type": "execute_result"
    }
   ],
   "source": [
    "PlayerDF.isnull().sum()"
   ]
  },
  {
   "cell_type": "markdown",
   "metadata": {},
   "source": [
    "資料從10萬筆剩下6萬筆"
   ]
  },
  {
   "cell_type": "code",
   "execution_count": 6,
   "metadata": {},
   "outputs": [
    {
     "data": {
      "text/plain": [
       "playerID    66175\n",
       "yearID      66175\n",
       "stint       66175\n",
       "teamID      66175\n",
       "lgID        66175\n",
       "G           66175\n",
       "AB          66175\n",
       "R           66175\n",
       "H           66175\n",
       "2B          66175\n",
       "3B          66175\n",
       "HR          66175\n",
       "RBI         66175\n",
       "SB          66175\n",
       "CS          66175\n",
       "BB          66175\n",
       "SO          66175\n",
       "IBB         66175\n",
       "HBP         66175\n",
       "SH          66175\n",
       "SF          66175\n",
       "GIDP        66175\n",
       "dtype: int64"
      ]
     },
     "execution_count": 6,
     "metadata": {},
     "output_type": "execute_result"
    }
   ],
   "source": [
    "PlayerDF.count()"
   ]
  },
  {
   "cell_type": "code",
   "execution_count": 7,
   "metadata": {},
   "outputs": [
    {
     "data": {
      "text/plain": [
       "4560    0.0\n",
       "5088    0.0\n",
       "5177    0.0\n",
       "5415    0.0\n",
       "5747    0.0\n",
       "Name: IBB, dtype: float64"
      ]
     },
     "execution_count": 7,
     "metadata": {},
     "output_type": "execute_result"
    }
   ],
   "source": [
    "PlayerDF.IBB.head(5)"
   ]
  },
  {
   "cell_type": "markdown",
   "metadata": {},
   "source": [
    "### 移除整個欄位都是Nan/0 "
   ]
  },
  {
   "cell_type": "code",
   "execution_count": 8,
   "metadata": {},
   "outputs": [],
   "source": [
    "# Remove column IBB\n",
    "PlayerDF.drop('IBB', axis=1, inplace=True)"
   ]
  },
  {
   "cell_type": "code",
   "execution_count": 9,
   "metadata": {},
   "outputs": [
    {
     "name": "stdout",
     "output_type": "stream",
     "text": [
      "<class 'pandas.core.frame.DataFrame'>\n",
      "Int64Index: 66175 entries, 4560 to 102815\n",
      "Data columns (total 21 columns):\n",
      "playerID    66175 non-null object\n",
      "yearID      66175 non-null int64\n",
      "stint       66175 non-null int64\n",
      "teamID      66175 non-null object\n",
      "lgID        66175 non-null object\n",
      "G           66175 non-null int64\n",
      "AB          66175 non-null int64\n",
      "R           66175 non-null int64\n",
      "H           66175 non-null int64\n",
      "2B          66175 non-null int64\n",
      "3B          66175 non-null int64\n",
      "HR          66175 non-null int64\n",
      "RBI         66175 non-null float64\n",
      "SB          66175 non-null float64\n",
      "CS          66175 non-null float64\n",
      "BB          66175 non-null int64\n",
      "SO          66175 non-null float64\n",
      "HBP         66175 non-null float64\n",
      "SH          66175 non-null float64\n",
      "SF          66175 non-null float64\n",
      "GIDP        66175 non-null float64\n",
      "dtypes: float64(8), int64(10), object(3)\n",
      "memory usage: 11.1+ MB\n"
     ]
    }
   ],
   "source": [
    "PlayerDF.info()"
   ]
  },
  {
   "cell_type": "code",
   "execution_count": null,
   "metadata": {},
   "outputs": [],
   "source": []
  }
 ],
 "metadata": {
  "kernelspec": {
   "display_name": "Python 3",
   "language": "python",
   "name": "python3"
  },
  "language_info": {
   "codemirror_mode": {
    "name": "ipython",
    "version": 3
   },
   "file_extension": ".py",
   "mimetype": "text/x-python",
   "name": "python",
   "nbconvert_exporter": "python",
   "pygments_lexer": "ipython3",
   "version": "3.5.5"
  }
 },
 "nbformat": 4,
 "nbformat_minor": 2
}
