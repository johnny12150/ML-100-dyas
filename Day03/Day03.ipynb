{
 "cells": [
  {
   "cell_type": "code",
   "execution_count": 2,
   "metadata": {},
   "outputs": [],
   "source": [
    "import pandas as pd\n",
    "import io\n",
    "import requests\n",
    "\n",
    "url = \"https://raw.githubusercontent.com/johnny12150/Data_Analytics_Course/master/Lecture%202/Data_and_Images/Batting.csv\"\n",
    "s=requests.get(url).content\n",
    "PlayerDF = pd.read_csv(io.StringIO(s.decode('utf-8')))"
   ]
  },
  {
   "cell_type": "markdown",
   "metadata": {},
   "source": [
    "## Data Cleaning"
   ]
  },
  {
   "cell_type": "markdown",
   "metadata": {},
   "source": [
    "### 1.檢查缺值(missing data)"
   ]
  },
  {
   "cell_type": "code",
   "execution_count": 2,
   "metadata": {},
   "outputs": [
    {
     "data": {
      "text/plain": [
       "playerID        0\n",
       "yearID          0\n",
       "stint           0\n",
       "teamID          0\n",
       "lgID          737\n",
       "G               0\n",
       "AB              0\n",
       "R               0\n",
       "H               0\n",
       "2B              0\n",
       "3B              0\n",
       "HR              0\n",
       "RBI           424\n",
       "SB           1300\n",
       "CS          23456\n",
       "BB              0\n",
       "SO           7838\n",
       "IBB         36565\n",
       "HBP          2810\n",
       "SH           6338\n",
       "SF          36034\n",
       "GIDP        26110\n",
       "dtype: int64"
      ]
     },
     "execution_count": 2,
     "metadata": {},
     "output_type": "execute_result"
    }
   ],
   "source": [
    "# 計算缺值數目\n",
    "PlayerDF.isnull().sum()"
   ]
  },
  {
   "cell_type": "code",
   "execution_count": 3,
   "metadata": {},
   "outputs": [
    {
     "data": {
      "text/plain": [
       "playerID    102816\n",
       "yearID      102816\n",
       "stint       102816\n",
       "teamID      102816\n",
       "lgID        102079\n",
       "G           102816\n",
       "AB          102816\n",
       "R           102816\n",
       "H           102816\n",
       "2B          102816\n",
       "3B          102816\n",
       "HR          102816\n",
       "RBI         102392\n",
       "SB          101516\n",
       "CS           79360\n",
       "BB          102816\n",
       "SO           94978\n",
       "IBB          66251\n",
       "HBP         100006\n",
       "SH           96478\n",
       "SF           66782\n",
       "GIDP         76706\n",
       "dtype: int64"
      ]
     },
     "execution_count": 3,
     "metadata": {},
     "output_type": "execute_result"
    }
   ],
   "source": [
    "# 計算各欄位值總數\n",
    "PlayerDF.count()"
   ]
  },
  {
   "cell_type": "markdown",
   "metadata": {},
   "source": [
    "## 2.處理缺值"
   ]
  },
  {
   "cell_type": "markdown",
   "metadata": {},
   "source": [
    "### 將有缺值的row直接移除"
   ]
  },
  {
   "cell_type": "code",
   "execution_count": 4,
   "metadata": {},
   "outputs": [],
   "source": [
    "PlayerDF.dropna(inplace=True)"
   ]
  },
  {
   "cell_type": "markdown",
   "metadata": {},
   "source": [
    "沒有缺值"
   ]
  },
  {
   "cell_type": "code",
   "execution_count": 5,
   "metadata": {},
   "outputs": [
    {
     "data": {
      "text/plain": [
       "playerID    0\n",
       "yearID      0\n",
       "stint       0\n",
       "teamID      0\n",
       "lgID        0\n",
       "G           0\n",
       "AB          0\n",
       "R           0\n",
       "H           0\n",
       "2B          0\n",
       "3B          0\n",
       "HR          0\n",
       "RBI         0\n",
       "SB          0\n",
       "CS          0\n",
       "BB          0\n",
       "SO          0\n",
       "IBB         0\n",
       "HBP         0\n",
       "SH          0\n",
       "SF          0\n",
       "GIDP        0\n",
       "dtype: int64"
      ]
     },
     "execution_count": 5,
     "metadata": {},
     "output_type": "execute_result"
    }
   ],
   "source": [
    "PlayerDF.isnull().sum()"
   ]
  },
  {
   "cell_type": "markdown",
   "metadata": {},
   "source": [
    "資料從10萬筆剩下6萬筆"
   ]
  },
  {
   "cell_type": "code",
   "execution_count": 6,
   "metadata": {},
   "outputs": [
    {
     "data": {
      "text/plain": [
       "playerID    66175\n",
       "yearID      66175\n",
       "stint       66175\n",
       "teamID      66175\n",
       "lgID        66175\n",
       "G           66175\n",
       "AB          66175\n",
       "R           66175\n",
       "H           66175\n",
       "2B          66175\n",
       "3B          66175\n",
       "HR          66175\n",
       "RBI         66175\n",
       "SB          66175\n",
       "CS          66175\n",
       "BB          66175\n",
       "SO          66175\n",
       "IBB         66175\n",
       "HBP         66175\n",
       "SH          66175\n",
       "SF          66175\n",
       "GIDP        66175\n",
       "dtype: int64"
      ]
     },
     "execution_count": 6,
     "metadata": {},
     "output_type": "execute_result"
    }
   ],
   "source": [
    "PlayerDF.count()"
   ]
  },
  {
   "cell_type": "code",
   "execution_count": 7,
   "metadata": {},
   "outputs": [
    {
     "data": {
      "text/plain": [
       "4560    0.0\n",
       "5088    0.0\n",
       "5177    0.0\n",
       "5415    0.0\n",
       "5747    0.0\n",
       "Name: IBB, dtype: float64"
      ]
     },
     "execution_count": 7,
     "metadata": {},
     "output_type": "execute_result"
    }
   ],
   "source": [
    "PlayerDF.IBB.head(5)"
   ]
  },
  {
   "cell_type": "markdown",
   "metadata": {},
   "source": [
    "### 移除整個欄位都是Nan/0 "
   ]
  },
  {
   "cell_type": "code",
   "execution_count": 8,
   "metadata": {},
   "outputs": [],
   "source": [
    "# Remove column IBB\n",
    "# axis =0 刪除row, axis =1 刪除column\n",
    "PlayerDF.drop('IBB', axis=1, inplace=True)"
   ]
  },
  {
   "cell_type": "code",
   "execution_count": 9,
   "metadata": {},
   "outputs": [
    {
     "name": "stdout",
     "output_type": "stream",
     "text": [
      "<class 'pandas.core.frame.DataFrame'>\n",
      "Int64Index: 66175 entries, 4560 to 102815\n",
      "Data columns (total 21 columns):\n",
      "playerID    66175 non-null object\n",
      "yearID      66175 non-null int64\n",
      "stint       66175 non-null int64\n",
      "teamID      66175 non-null object\n",
      "lgID        66175 non-null object\n",
      "G           66175 non-null int64\n",
      "AB          66175 non-null int64\n",
      "R           66175 non-null int64\n",
      "H           66175 non-null int64\n",
      "2B          66175 non-null int64\n",
      "3B          66175 non-null int64\n",
      "HR          66175 non-null int64\n",
      "RBI         66175 non-null float64\n",
      "SB          66175 non-null float64\n",
      "CS          66175 non-null float64\n",
      "BB          66175 non-null int64\n",
      "SO          66175 non-null float64\n",
      "HBP         66175 non-null float64\n",
      "SH          66175 non-null float64\n",
      "SF          66175 non-null float64\n",
      "GIDP        66175 non-null float64\n",
      "dtypes: float64(8), int64(10), object(3)\n",
      "memory usage: 11.1+ MB\n"
     ]
    }
   ],
   "source": [
    "PlayerDF.info()"
   ]
  },
  {
   "cell_type": "markdown",
   "metadata": {},
   "source": [
    "### 利用sklearn來取代Nan值"
   ]
  },
  {
   "cell_type": "code",
   "execution_count": 1,
   "metadata": {},
   "outputs": [],
   "source": [
    "from sklearn.preprocessing import Imputer\n",
    "# 使用平均值取代NaN\n",
    "imputer = Imputer(missing_values = \"NaN\", strategy = \"mean\", axis = 0)"
   ]
  },
  {
   "cell_type": "code",
   "execution_count": 15,
   "metadata": {},
   "outputs": [
    {
     "ename": "ValueError",
     "evalue": "could not convert string to float: 'AL'",
     "output_type": "error",
     "traceback": [
      "\u001b[0;31m---------------------------------------------------------------------------\u001b[0m",
      "\u001b[0;31mValueError\u001b[0m                                Traceback (most recent call last)",
      "\u001b[0;32m<ipython-input-15-69e4afaf1d14>\u001b[0m in \u001b[0;36m<module>\u001b[0;34m()\u001b[0m\n\u001b[0;32m----> 1\u001b[0;31m \u001b[0mimputer\u001b[0m \u001b[0;34m=\u001b[0m \u001b[0mimputer\u001b[0m\u001b[0;34m.\u001b[0m\u001b[0mfit\u001b[0m\u001b[0;34m(\u001b[0m\u001b[0mPlayerDF\u001b[0m\u001b[0;34m.\u001b[0m\u001b[0mvalues\u001b[0m\u001b[0;34m[\u001b[0m \u001b[0;34m:\u001b[0m \u001b[0;34m,\u001b[0m \u001b[0;36m4\u001b[0m\u001b[0;34m:\u001b[0m\u001b[0;36m5\u001b[0m\u001b[0;34m]\u001b[0m\u001b[0;34m)\u001b[0m\u001b[0;34m\u001b[0m\u001b[0m\n\u001b[0m\u001b[1;32m      2\u001b[0m \u001b[0;31m# 不能是1d array\u001b[0m\u001b[0;34m\u001b[0m\u001b[0;34m\u001b[0m\u001b[0m\n\u001b[1;32m      3\u001b[0m \u001b[0mimputer\u001b[0m\u001b[0;34m\u001b[0m\u001b[0m\n",
      "\u001b[0;32m/anaconda3/lib/python3.5/site-packages/sklearn/preprocessing/imputation.py\u001b[0m in \u001b[0;36mfit\u001b[0;34m(self, X, y)\u001b[0m\n\u001b[1;32m    153\u001b[0m         \u001b[0;32mif\u001b[0m \u001b[0mself\u001b[0m\u001b[0;34m.\u001b[0m\u001b[0maxis\u001b[0m \u001b[0;34m==\u001b[0m \u001b[0;36m0\u001b[0m\u001b[0;34m:\u001b[0m\u001b[0;34m\u001b[0m\u001b[0m\n\u001b[1;32m    154\u001b[0m             X = check_array(X, accept_sparse='csc', dtype=np.float64,\n\u001b[0;32m--> 155\u001b[0;31m                             force_all_finite=False)\n\u001b[0m\u001b[1;32m    156\u001b[0m \u001b[0;34m\u001b[0m\u001b[0m\n\u001b[1;32m    157\u001b[0m             \u001b[0;32mif\u001b[0m \u001b[0msparse\u001b[0m\u001b[0;34m.\u001b[0m\u001b[0missparse\u001b[0m\u001b[0;34m(\u001b[0m\u001b[0mX\u001b[0m\u001b[0;34m)\u001b[0m\u001b[0;34m:\u001b[0m\u001b[0;34m\u001b[0m\u001b[0m\n",
      "\u001b[0;32m/anaconda3/lib/python3.5/site-packages/sklearn/utils/validation.py\u001b[0m in \u001b[0;36mcheck_array\u001b[0;34m(array, accept_sparse, dtype, order, copy, force_all_finite, ensure_2d, allow_nd, ensure_min_samples, ensure_min_features, warn_on_dtype, estimator)\u001b[0m\n\u001b[1;32m    431\u001b[0m                                       force_all_finite)\n\u001b[1;32m    432\u001b[0m     \u001b[0;32melse\u001b[0m\u001b[0;34m:\u001b[0m\u001b[0;34m\u001b[0m\u001b[0m\n\u001b[0;32m--> 433\u001b[0;31m         \u001b[0marray\u001b[0m \u001b[0;34m=\u001b[0m \u001b[0mnp\u001b[0m\u001b[0;34m.\u001b[0m\u001b[0marray\u001b[0m\u001b[0;34m(\u001b[0m\u001b[0marray\u001b[0m\u001b[0;34m,\u001b[0m \u001b[0mdtype\u001b[0m\u001b[0;34m=\u001b[0m\u001b[0mdtype\u001b[0m\u001b[0;34m,\u001b[0m \u001b[0morder\u001b[0m\u001b[0;34m=\u001b[0m\u001b[0morder\u001b[0m\u001b[0;34m,\u001b[0m \u001b[0mcopy\u001b[0m\u001b[0;34m=\u001b[0m\u001b[0mcopy\u001b[0m\u001b[0;34m)\u001b[0m\u001b[0;34m\u001b[0m\u001b[0m\n\u001b[0m\u001b[1;32m    434\u001b[0m \u001b[0;34m\u001b[0m\u001b[0m\n\u001b[1;32m    435\u001b[0m         \u001b[0;32mif\u001b[0m \u001b[0mensure_2d\u001b[0m\u001b[0;34m:\u001b[0m\u001b[0;34m\u001b[0m\u001b[0m\n",
      "\u001b[0;31mValueError\u001b[0m: could not convert string to float: 'AL'"
     ]
    }
   ],
   "source": [
    "# imputer 不能直接處理 missing categorical values\n",
    "# ref: https://stackoverflow.com/questions/25239958/impute-categorical-missing-values-in-scikit-learn\n",
    "imputer = imputer.fit(PlayerDF.values[ : , 4:5])\n",
    "# 使用數組PlayerDF去“訓練”一個Imputer類\n",
    "# 不能是1d array\n",
    "imputer"
   ]
  },
  {
   "cell_type": "code",
   "execution_count": 10,
   "metadata": {},
   "outputs": [],
   "source": [
    "# 處理unhashable type: 'slice' 所以用.values\n",
    "# X is a dataframe and can't be accessed via slice terminology like X[:, 3]. You must access via iloc or X.values.\n",
    "# 然後用該類(剛練的)對象去處理缺失值\n",
    "PlayerDF.values[ : , 4:5] = imputer.transform(PlayerDF.values[ : , 4:5])"
   ]
  },
  {
   "cell_type": "code",
   "execution_count": 11,
   "metadata": {},
   "outputs": [
    {
     "data": {
      "text/plain": [
       "737"
      ]
     },
     "execution_count": 11,
     "metadata": {},
     "output_type": "execute_result"
    }
   ],
   "source": [
    "PlayerDF.lgID.isnull().sum()"
   ]
  },
  {
   "cell_type": "code",
   "execution_count": 14,
   "metadata": {},
   "outputs": [
    {
     "data": {
      "text/plain": [
       "array([[nan],\n",
       "       [nan],\n",
       "       [nan],\n",
       "       ...,\n",
       "       ['NL'],\n",
       "       ['AL'],\n",
       "       ['AL']], dtype=object)"
      ]
     },
     "execution_count": 14,
     "metadata": {},
     "output_type": "execute_result"
    }
   ],
   "source": [
    "PlayerDF.values[ : , 4:5]"
   ]
  },
  {
   "cell_type": "code",
   "execution_count": null,
   "metadata": {},
   "outputs": [],
   "source": []
  }
 ],
 "metadata": {
  "kernelspec": {
   "display_name": "Python 3",
   "language": "python",
   "name": "python3"
  },
  "language_info": {
   "codemirror_mode": {
    "name": "ipython",
    "version": 3
   },
   "file_extension": ".py",
   "mimetype": "text/x-python",
   "name": "python",
   "nbconvert_exporter": "python",
   "pygments_lexer": "ipython3",
   "version": "3.5.5"
  }
 },
 "nbformat": 4,
 "nbformat_minor": 2
}
