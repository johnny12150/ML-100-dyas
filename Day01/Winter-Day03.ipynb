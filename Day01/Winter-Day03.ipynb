{
 "cells": [
  {
   "cell_type": "markdown",
   "metadata": {},
   "source": [
    "# DL 快速入門"
   ]
  },
  {
   "cell_type": "markdown",
   "metadata": {},
   "source": [
    "### 影片一：（38分56秒）\n",
    "* 影片：https://goo.gl/agSPTQ\n",
    "* 講義：https://goo.gl/zVG7XY\n",
    "\n",
    "### 影片二：（46分30秒）\n",
    "* 影片：https://goo.gl/1z3Kt7\n",
    "* 講義：https://goo.gl/TeXg32"
   ]
  },
  {
   "cell_type": "markdown",
   "metadata": {},
   "source": [
    "## 1. ML\n",
    "![](./img/MLroadMap.png)"
   ]
  },
  {
   "cell_type": "markdown",
   "metadata": {},
   "source": [
    "> https://www.inside.com.tw/article/9945-machine-learning\n",
    "\n",
    "* Semi-Supervised: 只有部分資料有label(正解)\n",
    "* Reinforce Learning: 從評價中學習\n",
    "* Structure Learning: input是物件, output也是"
   ]
  },
  {
   "cell_type": "markdown",
   "metadata": {},
   "source": [
    "![](https://morvanzhou.github.io/static/results/ML-intro/L1l2regularization3.png)\n",
    "#### L1 Regularization\n",
    "loss = MSE + L1 (所有weight的絕對值和)"
   ]
  },
  {
   "cell_type": "markdown",
   "metadata": {},
   "source": [
    "### 梯度\n",
    "> https://medium.com/@chih.sheng.huang821/%E6%A9%9F%E5%99%A8%E5%AD%B8%E7%BF%92-%E5%9F%BA%E7%A4%8E%E6%95%B8%E5%AD%B8-%E4%B8%89-%E6%A2%AF%E5%BA%A6%E6%9C%80%E4%BD%B3%E8%A7%A3%E7%9B%B8%E9%97%9C%E7%AE%97%E6%B3%95-gradient-descent-optimization-algorithms-b61ed1478bd7\n",
    "\n",
    "梯度下降法(gradient descent，GD)是一種不斷去更新參數找解的方法"
   ]
  },
  {
   "cell_type": "markdown",
   "metadata": {},
   "source": [
    "## 2. DL"
   ]
  },
  {
   "cell_type": "markdown",
   "metadata": {},
   "source": [
    "### Learning Rate\n",
    "> https://codinfox.github.io/machine%20learning/2017/05/30/kaffe-my-nn-framework-1/\n",
    "\n",
    "![](https://codinfox.github.io/public/post_img/2017-05-30-kaffe-my-nn-framework-1/lr.png)"
   ]
  },
  {
   "cell_type": "markdown",
   "metadata": {},
   "source": [
    "## Hands On"
   ]
  },
  {
   "cell_type": "markdown",
   "metadata": {},
   "source": [
    "![](https://cdn-images-1.medium.com/max/1600/1*owtcbjwjdMaM70G0rCwk4A.png)"
   ]
  },
  {
   "cell_type": "code",
   "execution_count": 1,
   "metadata": {},
   "outputs": [],
   "source": [
    "import pandas as pd\n",
    "import numpy as np"
   ]
  },
  {
   "cell_type": "code",
   "execution_count": 2,
   "metadata": {},
   "outputs": [
    {
     "data": {
      "text/plain": [
       "passengerid       0\n",
       "survived          0\n",
       "pclass            0\n",
       "name              0\n",
       "sex               0\n",
       "age              50\n",
       "sibsp             0\n",
       "parch             0\n",
       "ticket            0\n",
       "fare              1\n",
       "cabin          1014\n",
       "embarked          0\n",
       "dtype: int64"
      ]
     },
     "execution_count": 2,
     "metadata": {},
     "output_type": "execute_result"
    }
   ],
   "source": [
    "titanic_df =pd.read_csv('titanic_new.csv')\n",
    "titanic_df_select = titanic_df\n",
    "titanic_df_select.columns = titanic_df_select.columns.str.lower()\n",
    "# will cause copy warning\n",
    "# titanic_df_select = titanic_df_select[['pclass', 'sex', 'age', 'sibsp', 'parch', 'embarked', 'fare']]\n",
    "titanic_df_select = titanic_df_select.loc[:, ['pclass', 'sex', 'age', 'sibsp', 'parch', 'embarked', 'fare']]\n",
    "titanic_df.isnull().sum()"
   ]
  },
  {
   "cell_type": "code",
   "execution_count": 3,
   "metadata": {},
   "outputs": [],
   "source": [
    "titanic_df_select['age'] = titanic_df_select['age'].fillna(titanic_df_select['age'].mean())\n",
    "titanic_df_select['fare'] = titanic_df_select['fare'].fillna(titanic_df_select['fare'].mean())\n",
    "titanic_df_select['sex'] = titanic_df_select['sex'].map({'female': 0, 'male': 1}).astype(int)"
   ]
  },
  {
   "cell_type": "code",
   "execution_count": 4,
   "metadata": {},
   "outputs": [],
   "source": [
    "Embarked = list(set(titanic_df_select['embarked']))\n",
    "titanic_df_select['embarked'] = titanic_df_select['embarked'].map({'C': 0, 'Q': 1, 'S':2}).astype(int)"
   ]
  },
  {
   "cell_type": "code",
   "execution_count": 5,
   "metadata": {},
   "outputs": [
    {
     "data": {
      "text/plain": [
       "array([[0., 0., 1.],\n",
       "       [1., 0., 0.],\n",
       "       [0., 0., 1.],\n",
       "       ...,\n",
       "       [0., 0., 1.],\n",
       "       [0., 0., 1.],\n",
       "       [1., 0., 0.]])"
      ]
     },
     "execution_count": 5,
     "metadata": {},
     "output_type": "execute_result"
    }
   ],
   "source": [
    "def oneHot(data):\n",
    "    X = len(set(data))\n",
    "    ohe = np.zeros((len(data), X))\n",
    "    for i in range(len(data)):\n",
    "        ohe[i][data[i]] = 1\n",
    "    return ohe\n",
    "\n",
    "oneHot(titanic_df_select['embarked'])"
   ]
  },
  {
   "cell_type": "code",
   "execution_count": 6,
   "metadata": {},
   "outputs": [],
   "source": [
    "df = pd.DataFrame(oneHot(titanic_df_select['embarked']), columns= Embarked)"
   ]
  },
  {
   "cell_type": "code",
   "execution_count": 7,
   "metadata": {},
   "outputs": [
    {
     "data": {
      "text/html": [
       "<div>\n",
       "<style scoped>\n",
       "    .dataframe tbody tr th:only-of-type {\n",
       "        vertical-align: middle;\n",
       "    }\n",
       "\n",
       "    .dataframe tbody tr th {\n",
       "        vertical-align: top;\n",
       "    }\n",
       "\n",
       "    .dataframe thead th {\n",
       "        text-align: right;\n",
       "    }\n",
       "</style>\n",
       "<table border=\"1\" class=\"dataframe\">\n",
       "  <thead>\n",
       "    <tr style=\"text-align: right;\">\n",
       "      <th></th>\n",
       "      <th>Q</th>\n",
       "      <th>C</th>\n",
       "      <th>S</th>\n",
       "    </tr>\n",
       "  </thead>\n",
       "  <tbody>\n",
       "    <tr>\n",
       "      <th>0</th>\n",
       "      <td>0.0</td>\n",
       "      <td>0.0</td>\n",
       "      <td>1.0</td>\n",
       "    </tr>\n",
       "    <tr>\n",
       "      <th>1</th>\n",
       "      <td>1.0</td>\n",
       "      <td>0.0</td>\n",
       "      <td>0.0</td>\n",
       "    </tr>\n",
       "    <tr>\n",
       "      <th>2</th>\n",
       "      <td>0.0</td>\n",
       "      <td>0.0</td>\n",
       "      <td>1.0</td>\n",
       "    </tr>\n",
       "    <tr>\n",
       "      <th>3</th>\n",
       "      <td>0.0</td>\n",
       "      <td>0.0</td>\n",
       "      <td>1.0</td>\n",
       "    </tr>\n",
       "    <tr>\n",
       "      <th>4</th>\n",
       "      <td>0.0</td>\n",
       "      <td>0.0</td>\n",
       "      <td>1.0</td>\n",
       "    </tr>\n",
       "  </tbody>\n",
       "</table>\n",
       "</div>"
      ],
      "text/plain": [
       "     Q    C    S\n",
       "0  0.0  0.0  1.0\n",
       "1  1.0  0.0  0.0\n",
       "2  0.0  0.0  1.0\n",
       "3  0.0  0.0  1.0\n",
       "4  0.0  0.0  1.0"
      ]
     },
     "execution_count": 7,
     "metadata": {},
     "output_type": "execute_result"
    }
   ],
   "source": [
    "df.head()"
   ]
  },
  {
   "cell_type": "code",
   "execution_count": 8,
   "metadata": {},
   "outputs": [],
   "source": [
    "# avoid reIndexing error\n",
    "titanic_df_select_new = titanic_df_select"
   ]
  },
  {
   "cell_type": "code",
   "execution_count": 9,
   "metadata": {},
   "outputs": [],
   "source": [
    "titanic_df_select = pd.concat([titanic_df_select_new, df], axis=1)"
   ]
  },
  {
   "cell_type": "code",
   "execution_count": 10,
   "metadata": {},
   "outputs": [],
   "source": [
    "titanic_df_select.head()\n",
    "titanic_df_label = titanic_df_select['fare']\n",
    "titanic_df_select = titanic_df_select.drop(['fare'], axis=1)\n",
    "titanic_df_select = titanic_df_select.drop(['embarked'], axis=1)"
   ]
  },
  {
   "cell_type": "code",
   "execution_count": 11,
   "metadata": {},
   "outputs": [
    {
     "data": {
      "text/plain": [
       "0     7.2500\n",
       "1    71.2833\n",
       "2     7.9250\n",
       "3    53.1000\n",
       "4     8.0500\n",
       "Name: fare, dtype: float64"
      ]
     },
     "execution_count": 11,
     "metadata": {},
     "output_type": "execute_result"
    }
   ],
   "source": [
    "titanic_df_label.head()"
   ]
  },
  {
   "cell_type": "code",
   "execution_count": 12,
   "metadata": {},
   "outputs": [],
   "source": [
    "def df_norm(df):\n",
    "    df_norm = ((df - df.min())/ (df.max() - df.min()))\n",
    "    return df_norm\n",
    "\n",
    "titanic_df_label = df_norm(titanic_df_label)\n",
    "titanic_df_select['age'] = df_norm(titanic_df_select['age'])"
   ]
  },
  {
   "cell_type": "code",
   "execution_count": 13,
   "metadata": {},
   "outputs": [
    {
     "data": {
      "text/html": [
       "<div>\n",
       "<style scoped>\n",
       "    .dataframe tbody tr th:only-of-type {\n",
       "        vertical-align: middle;\n",
       "    }\n",
       "\n",
       "    .dataframe tbody tr th {\n",
       "        vertical-align: top;\n",
       "    }\n",
       "\n",
       "    .dataframe thead th {\n",
       "        text-align: right;\n",
       "    }\n",
       "</style>\n",
       "<table border=\"1\" class=\"dataframe\">\n",
       "  <thead>\n",
       "    <tr style=\"text-align: right;\">\n",
       "      <th></th>\n",
       "      <th>pclass</th>\n",
       "      <th>sex</th>\n",
       "      <th>age</th>\n",
       "      <th>sibsp</th>\n",
       "      <th>parch</th>\n",
       "      <th>Q</th>\n",
       "      <th>C</th>\n",
       "      <th>S</th>\n",
       "    </tr>\n",
       "  </thead>\n",
       "  <tbody>\n",
       "    <tr>\n",
       "      <th>0</th>\n",
       "      <td>3</td>\n",
       "      <td>1</td>\n",
       "      <td>0.273456</td>\n",
       "      <td>1</td>\n",
       "      <td>0</td>\n",
       "      <td>0.0</td>\n",
       "      <td>0.0</td>\n",
       "      <td>1.0</td>\n",
       "    </tr>\n",
       "    <tr>\n",
       "      <th>1</th>\n",
       "      <td>1</td>\n",
       "      <td>0</td>\n",
       "      <td>0.473882</td>\n",
       "      <td>1</td>\n",
       "      <td>0</td>\n",
       "      <td>1.0</td>\n",
       "      <td>0.0</td>\n",
       "      <td>0.0</td>\n",
       "    </tr>\n",
       "    <tr>\n",
       "      <th>2</th>\n",
       "      <td>3</td>\n",
       "      <td>0</td>\n",
       "      <td>0.323563</td>\n",
       "      <td>0</td>\n",
       "      <td>0</td>\n",
       "      <td>0.0</td>\n",
       "      <td>0.0</td>\n",
       "      <td>1.0</td>\n",
       "    </tr>\n",
       "    <tr>\n",
       "      <th>3</th>\n",
       "      <td>1</td>\n",
       "      <td>0</td>\n",
       "      <td>0.436302</td>\n",
       "      <td>1</td>\n",
       "      <td>0</td>\n",
       "      <td>0.0</td>\n",
       "      <td>0.0</td>\n",
       "      <td>1.0</td>\n",
       "    </tr>\n",
       "    <tr>\n",
       "      <th>4</th>\n",
       "      <td>3</td>\n",
       "      <td>1</td>\n",
       "      <td>0.436302</td>\n",
       "      <td>0</td>\n",
       "      <td>0</td>\n",
       "      <td>0.0</td>\n",
       "      <td>0.0</td>\n",
       "      <td>1.0</td>\n",
       "    </tr>\n",
       "  </tbody>\n",
       "</table>\n",
       "</div>"
      ],
      "text/plain": [
       "   pclass  sex       age  sibsp  parch    Q    C    S\n",
       "0       3    1  0.273456      1      0  0.0  0.0  1.0\n",
       "1       1    0  0.473882      1      0  1.0  0.0  0.0\n",
       "2       3    0  0.323563      0      0  0.0  0.0  1.0\n",
       "3       1    0  0.436302      1      0  0.0  0.0  1.0\n",
       "4       3    1  0.436302      0      0  0.0  0.0  1.0"
      ]
     },
     "execution_count": 13,
     "metadata": {},
     "output_type": "execute_result"
    }
   ],
   "source": [
    "trainX = titanic_df_select[:1000]\n",
    "testX = titanic_df_select[1000:]\n",
    "trainY = titanic_df_label[:1000]\n",
    "testY = titanic_df_label[1000:]\n",
    "trainX.head()"
   ]
  },
  {
   "cell_type": "code",
   "execution_count": 14,
   "metadata": {},
   "outputs": [
    {
     "name": "stderr",
     "output_type": "stream",
     "text": [
      "Using TensorFlow backend.\n"
     ]
    },
    {
     "name": "stdout",
     "output_type": "stream",
     "text": [
      "_________________________________________________________________\n",
      "Layer (type)                 Output Shape              Param #   \n",
      "=================================================================\n",
      "dense1 (Dense)               (None, 5)                 45        \n",
      "_________________________________________________________________\n",
      "output_layer (Dense)         (None, 1)                 6         \n",
      "=================================================================\n",
      "Total params: 51\n",
      "Trainable params: 51\n",
      "Non-trainable params: 0\n",
      "_________________________________________________________________\n"
     ]
    }
   ],
   "source": [
    "from keras.models import Sequential\n",
    "from keras.layers import Dense, Activation\n",
    "\n",
    "model = Sequential()\n",
    "model.add(Dense(5, input_dim=8, activation='relu', name='dense1')) # 8*5 + 5 = 45\n",
    "model.add(Dense(1, activation='relu', name='output_layer')) # 5*1 + 1 =6\n",
    "model.summary()"
   ]
  },
  {
   "cell_type": "code",
   "execution_count": 15,
   "metadata": {},
   "outputs": [
    {
     "name": "stdout",
     "output_type": "stream",
     "text": [
      "Train on 800 samples, validate on 200 samples\n",
      "Epoch 1/10\n",
      "800/800 [==============================] - 0s 266us/step - loss: 0.0143 - val_loss: 0.0131\n",
      "Epoch 2/10\n",
      "800/800 [==============================] - 0s 32us/step - loss: 0.0143 - val_loss: 0.0131\n",
      "Epoch 3/10\n",
      "800/800 [==============================] - 0s 34us/step - loss: 0.0143 - val_loss: 0.0131\n",
      "Epoch 4/10\n",
      "800/800 [==============================] - 0s 33us/step - loss: 0.0143 - val_loss: 0.0131\n",
      "Epoch 5/10\n",
      "800/800 [==============================] - 0s 34us/step - loss: 0.0143 - val_loss: 0.0131\n",
      "Epoch 6/10\n",
      "800/800 [==============================] - 0s 34us/step - loss: 0.0143 - val_loss: 0.0131\n",
      "Epoch 7/10\n",
      "800/800 [==============================] - 0s 34us/step - loss: 0.0143 - val_loss: 0.0131\n",
      "Epoch 8/10\n",
      "800/800 [==============================] - 0s 33us/step - loss: 0.0143 - val_loss: 0.0131\n",
      "Epoch 9/10\n",
      "800/800 [==============================] - 0s 34us/step - loss: 0.0143 - val_loss: 0.0131\n",
      "Epoch 10/10\n",
      "800/800 [==============================] - 0s 34us/step - loss: 0.0143 - val_loss: 0.0131\n"
     ]
    }
   ],
   "source": [
    "model.compile(loss='MSE', optimizer='adam')\n",
    "train_history = model.fit(x=trainX, y=trainY, validation_split=0.2, epochs=10, batch_size=30, verbose=1)"
   ]
  },
  {
   "cell_type": "code",
   "execution_count": 16,
   "metadata": {},
   "outputs": [
    {
     "data": {
      "image/png": "[encoded data removed]",
      "text/plain": [
       "<Figure size 432x288 with 1 Axes>"
      ]
     },
     "metadata": {
      "needs_background": "light"
     },
     "output_type": "display_data"
    }
   ],
   "source": [
    "%matplotlib inline\n",
    "import matplotlib.pyplot as plt\n",
    "def show_train_history(train_history, train, validation):\n",
    "    plt.plot(train_history.history[train])\n",
    "    plt.plot(train_history.history[validation])\n",
    "    plt.title('Train History')\n",
    "    plt.ylabel(train)\n",
    "    plt.xlabel('Epoch')\n",
    "    plt.legend(['train', 'validation'], loc='center right')\n",
    "    plt.show()\n",
    "    \n",
    "show_train_history(train_history, 'loss', 'val_loss')"
   ]
  },
  {
   "cell_type": "markdown",
   "metadata": {},
   "source": [
    "### Model Compare"
   ]
  },
  {
   "cell_type": "markdown",
   "metadata": {},
   "source": [
    "### 1. 寬"
   ]
  },
  {
   "cell_type": "code",
   "execution_count": 19,
   "metadata": {},
   "outputs": [
    {
     "name": "stdout",
     "output_type": "stream",
     "text": [
      "_________________________________________________________________\n",
      "Layer (type)                 Output Shape              Param #   \n",
      "=================================================================\n",
      "dense1 (Dense)               (None, 200)               1800      \n",
      "_________________________________________________________________\n",
      "output_layer (Dense)         (None, 1)                 201       \n",
      "=================================================================\n",
      "Total params: 2,001\n",
      "Trainable params: 2,001\n",
      "Non-trainable params: 0\n",
      "_________________________________________________________________\n"
     ]
    }
   ],
   "source": [
    "model1 = Sequential()\n",
    "model1.add(Dense(200, input_dim=8, activation='relu', name='dense1')) \n",
    "model1.add(Dense(1, activation='relu', name='output_layer')) \n",
    "model1.summary()"
   ]
  },
  {
   "cell_type": "code",
   "execution_count": 28,
   "metadata": {},
   "outputs": [
    {
     "name": "stdout",
     "output_type": "stream",
     "text": [
      "Train on 800 samples, validate on 200 samples\n",
      "Epoch 1/10\n",
      "800/800 [==============================] - 0s 520us/step - loss: 0.0143 - val_loss: 0.0131\n",
      "Epoch 2/10\n",
      "800/800 [==============================] - 0s 29us/step - loss: 0.0143 - val_loss: 0.0131\n",
      "Epoch 3/10\n",
      "800/800 [==============================] - 0s 31us/step - loss: 0.0143 - val_loss: 0.0131\n",
      "Epoch 4/10\n",
      "800/800 [==============================] - 0s 32us/step - loss: 0.0143 - val_loss: 0.0131\n",
      "Epoch 5/10\n",
      "800/800 [==============================] - 0s 29us/step - loss: 0.0143 - val_loss: 0.0131\n",
      "Epoch 6/10\n",
      "800/800 [==============================] - 0s 36us/step - loss: 0.0143 - val_loss: 0.0131\n",
      "Epoch 7/10\n",
      "800/800 [==============================] - 0s 35us/step - loss: 0.0143 - val_loss: 0.0131\n",
      "Epoch 8/10\n",
      "800/800 [==============================] - 0s 34us/step - loss: 0.0143 - val_loss: 0.0131\n",
      "Epoch 9/10\n",
      "800/800 [==============================] - 0s 35us/step - loss: 0.0143 - val_loss: 0.0131\n",
      "Epoch 10/10\n",
      "800/800 [==============================] - 0s 32us/step - loss: 0.0143 - val_loss: 0.0131\n"
     ]
    }
   ],
   "source": [
    "model1.compile(loss='MSE', optimizer='adam')\n",
    "train_history1 = model1.fit(x=trainX, y=trainY, validation_split=0.2, epochs=10, batch_size=30, verbose=1)"
   ]
  },
  {
   "cell_type": "code",
   "execution_count": 29,
   "metadata": {},
   "outputs": [
    {
     "data": {
      "image/png": "[encoded data removed]",
      "text/plain": [
       "<Figure size 432x288 with 1 Axes>"
      ]
     },
     "metadata": {
      "needs_background": "light"
     },
     "output_type": "display_data"
    }
   ],
   "source": [
    "show_train_history(train_history1, 'loss', 'val_loss')"
   ]
  },
  {
   "cell_type": "markdown",
   "metadata": {},
   "source": [
    "### 加深"
   ]
  },
  {
   "cell_type": "code",
   "execution_count": 27,
   "metadata": {},
   "outputs": [
    {
     "name": "stdout",
     "output_type": "stream",
     "text": [
      "_________________________________________________________________\n",
      "Layer (type)                 Output Shape              Param #   \n",
      "=================================================================\n",
      "dense1 (Dense)               (None, 47)                423       \n",
      "_________________________________________________________________\n",
      "dense2 (Dense)               (None, 20)                960       \n",
      "_________________________________________________________________\n",
      "dense3 (Dense)               (None, 20)                420       \n",
      "_________________________________________________________________\n",
      "dense4 (Dense)               (None, 10)                210       \n",
      "_________________________________________________________________\n",
      "output_layer (Dense)         (None, 1)                 11        \n",
      "=================================================================\n",
      "Total params: 2,024\n",
      "Trainable params: 2,024\n",
      "Non-trainable params: 0\n",
      "_________________________________________________________________\n"
     ]
    }
   ],
   "source": [
    "model2 = Sequential()\n",
    "model2.add(Dense(47, input_dim=8, activation='relu', name='dense1')) \n",
    "model2.add(Dense(20, activation='relu', name='dense2')) \n",
    "model2.add(Dense(20, activation='relu', name='dense3'))\n",
    "model2.add(Dense(10, activation='relu', name='dense4')) \n",
    "model2.add(Dense(1, activation='relu', name='output_layer'))\n",
    "model2.summary()"
   ]
  },
  {
   "cell_type": "code",
   "execution_count": 30,
   "metadata": {},
   "outputs": [
    {
     "name": "stdout",
     "output_type": "stream",
     "text": [
      "Train on 800 samples, validate on 200 samples\n",
      "Epoch 1/10\n",
      "800/800 [==============================] - 0s 398us/step - loss: 0.0130 - val_loss: 0.0083\n",
      "Epoch 2/10\n",
      "800/800 [==============================] - 0s 39us/step - loss: 0.0097 - val_loss: 0.0058\n",
      "Epoch 3/10\n",
      "800/800 [==============================] - 0s 43us/step - loss: 0.0070 - val_loss: 0.0045\n",
      "Epoch 4/10\n",
      "800/800 [==============================] - 0s 41us/step - loss: 0.0060 - val_loss: 0.0038\n",
      "Epoch 5/10\n",
      "800/800 [==============================] - 0s 40us/step - loss: 0.0057 - val_loss: 0.0038\n",
      "Epoch 6/10\n",
      "800/800 [==============================] - 0s 42us/step - loss: 0.0056 - val_loss: 0.0035\n",
      "Epoch 7/10\n",
      "800/800 [==============================] - 0s 39us/step - loss: 0.0052 - val_loss: 0.0035\n",
      "Epoch 8/10\n",
      "800/800 [==============================] - 0s 43us/step - loss: 0.0051 - val_loss: 0.0035\n",
      "Epoch 9/10\n",
      "800/800 [==============================] - 0s 44us/step - loss: 0.0051 - val_loss: 0.0038\n",
      "Epoch 10/10\n",
      "800/800 [==============================] - 0s 44us/step - loss: 0.0052 - val_loss: 0.0045\n"
     ]
    }
   ],
   "source": [
    "model2.compile(loss='MSE', optimizer='adam')\n",
    "train_history2 = model2.fit(x=trainX, y=trainY, validation_split=0.2, epochs=10, batch_size=30, verbose=1)"
   ]
  },
  {
   "cell_type": "code",
   "execution_count": 31,
   "metadata": {},
   "outputs": [
    {
     "data": {
      "image/png": "[encoded data removed]",
      "text/plain": [
       "<Figure size 432x288 with 1 Axes>"
      ]
     },
     "metadata": {
      "needs_background": "light"
     },
     "output_type": "display_data"
    }
   ],
   "source": [
    "show_train_history(train_history2, 'loss', 'val_loss')"
   ]
  },
  {
   "cell_type": "code",
   "execution_count": null,
   "metadata": {},
   "outputs": [],
   "source": []
  }
 ],
 "metadata": {
  "kernelspec": {
   "display_name": "Python 3",
   "language": "python",
   "name": "python3"
  },
  "language_info": {
   "codemirror_mode": {
    "name": "ipython",
    "version": 3
   },
   "file_extension": ".py",
   "mimetype": "text/x-python",
   "name": "python",
   "nbconvert_exporter": "python",
   "pygments_lexer": "ipython3",
   "version": "3.5.5"
  }
 },
 "nbformat": 4,
 "nbformat_minor": 2
}
