{
 "cells": [
  {
   "cell_type": "markdown",
   "metadata": {},
   "source": [
    "# DL 快速入門"
   ]
  },
  {
   "cell_type": "markdown",
   "metadata": {},
   "source": [
    "### 影片一：（38分56秒）\n",
    "* 影片：https://goo.gl/agSPTQ\n",
    "* 講義：https://goo.gl/zVG7XY\n",
    "\n",
    "### 影片二：（46分30秒）\n",
    "* 影片：https://goo.gl/1z3Kt7\n",
    "* 講義：https://goo.gl/TeXg32"
   ]
  },
  {
   "cell_type": "markdown",
   "metadata": {},
   "source": [
    "## 1. ML\n",
    "![](./img/MLroadMap.png)"
   ]
  },
  {
   "cell_type": "markdown",
   "metadata": {},
   "source": [
    "> https://www.inside.com.tw/article/9945-machine-learning\n",
    "\n",
    "* Semi-Supervised: 只有部分資料有label(正解)\n",
    "* Reinforce Learning: 從評價中學習\n",
    "* Structure Learning: input是物件, output也是"
   ]
  },
  {
   "cell_type": "markdown",
   "metadata": {},
   "source": [
    "![](https://morvanzhou.github.io/static/results/ML-intro/L1l2regularization3.png)\n",
    "#### L1 Regularization\n",
    "loss = MSE + L1 (所有weight的絕對值和)"
   ]
  },
  {
   "cell_type": "markdown",
   "metadata": {},
   "source": [
    "### 梯度\n",
    "> https://medium.com/@chih.sheng.huang821/%E6%A9%9F%E5%99%A8%E5%AD%B8%E7%BF%92-%E5%9F%BA%E7%A4%8E%E6%95%B8%E5%AD%B8-%E4%B8%89-%E6%A2%AF%E5%BA%A6%E6%9C%80%E4%BD%B3%E8%A7%A3%E7%9B%B8%E9%97%9C%E7%AE%97%E6%B3%95-gradient-descent-optimization-algorithms-b61ed1478bd7\n",
    "\n",
    "梯度下降法(gradient descent，GD)是一種不斷去更新參數找解的方法"
   ]
  },
  {
   "cell_type": "markdown",
   "metadata": {},
   "source": [
    "## 2. DL"
   ]
  },
  {
   "cell_type": "markdown",
   "metadata": {},
   "source": [
    "### Learning Rate\n",
    "> https://codinfox.github.io/machine%20learning/2017/05/30/kaffe-my-nn-framework-1/\n",
    "\n",
    "![](https://codinfox.github.io/public/post_img/2017-05-30-kaffe-my-nn-framework-1/lr.png)"
   ]
  },
  {
   "cell_type": "markdown",
   "metadata": {},
   "source": [
    "## Hands On"
   ]
  },
  {
   "cell_type": "markdown",
   "metadata": {},
   "source": [
    "![](https://cdn-images-1.medium.com/max/1600/1*owtcbjwjdMaM70G0rCwk4A.png)"
   ]
  },
  {
   "cell_type": "code",
   "execution_count": 1,
   "metadata": {},
   "outputs": [],
   "source": [
    "import pandas as pd\n",
    "import numpy as np"
   ]
  },
  {
   "cell_type": "code",
   "execution_count": 2,
   "metadata": {},
   "outputs": [
    {
     "data": {
      "text/plain": [
       "passengerid       0\n",
       "survived          0\n",
       "pclass            0\n",
       "name              0\n",
       "sex               0\n",
       "age              50\n",
       "sibsp             0\n",
       "parch             0\n",
       "ticket            0\n",
       "fare              1\n",
       "cabin          1014\n",
       "embarked          0\n",
       "dtype: int64"
      ]
     },
     "execution_count": 2,
     "metadata": {},
     "output_type": "execute_result"
    }
   ],
   "source": [
    "titanic_df =pd.read_csv('titanic_new.csv')\n",
    "titanic_df_select = titanic_df\n",
    "titanic_df_select.columns = titanic_df_select.columns.str.lower()\n",
    "# will cause copy warning\n",
    "# titanic_df_select = titanic_df_select[['pclass', 'sex', 'age', 'sibsp', 'parch', 'embarked', 'fare']]\n",
    "titanic_df_select = titanic_df_select.loc[:, ['pclass', 'sex', 'age', 'sibsp', 'parch', 'embarked', 'fare']]\n",
    "titanic_df.isnull().sum()"
   ]
  },
  {
   "cell_type": "code",
   "execution_count": 3,
   "metadata": {},
   "outputs": [],
   "source": [
    "titanic_df_select['age'] = titanic_df_select['age'].fillna(titanic_df_select['age'].mean())\n",
    "titanic_df_select['fare'] = titanic_df_select['fare'].fillna(titanic_df_select['fare'].mean())\n",
    "titanic_df_select['sex'] = titanic_df_select['sex'].map({'female': 0, 'male': 1}).astype(int)"
   ]
  },
  {
   "cell_type": "code",
   "execution_count": 4,
   "metadata": {},
   "outputs": [],
   "source": [
    "Embarked = list(set(titanic_df_select['embarked']))\n",
    "titanic_df_select['embarked'] = titanic_df_select['embarked'].map({'C': 0, 'Q': 1, 'S':2}).astype(int)"
   ]
  },
  {
   "cell_type": "code",
   "execution_count": 5,
   "metadata": {},
   "outputs": [
    {
     "data": {
      "text/plain": [
       "array([[0., 0., 1.],\n",
       "       [1., 0., 0.],\n",
       "       [0., 0., 1.],\n",
       "       ...,\n",
       "       [0., 0., 1.],\n",
       "       [0., 0., 1.],\n",
       "       [1., 0., 0.]])"
      ]
     },
     "execution_count": 5,
     "metadata": {},
     "output_type": "execute_result"
    }
   ],
   "source": [
    "def oneHot(data):\n",
    "    X = len(set(data))\n",
    "    ohe = np.zeros((len(data), X))\n",
    "    for i in range(len(data)):\n",
    "        ohe[i][data[i]] = 1\n",
    "    return ohe\n",
    "\n",
    "oneHot(titanic_df_select['embarked'])"
   ]
  },
  {
   "cell_type": "code",
   "execution_count": 6,
   "metadata": {},
   "outputs": [],
   "source": [
    "df = pd.DataFrame(oneHot(titanic_df_select['embarked']), columns= Embarked)"
   ]
  },
  {
   "cell_type": "code",
   "execution_count": 7,
   "metadata": {},
   "outputs": [
    {
     "data": {
      "text/html": [
       "<div>\n",
       "<style scoped>\n",
       "    .dataframe tbody tr th:only-of-type {\n",
       "        vertical-align: middle;\n",
       "    }\n",
       "\n",
       "    .dataframe tbody tr th {\n",
       "        vertical-align: top;\n",
       "    }\n",
       "\n",
       "    .dataframe thead th {\n",
       "        text-align: right;\n",
       "    }\n",
       "</style>\n",
       "<table border=\"1\" class=\"dataframe\">\n",
       "  <thead>\n",
       "    <tr style=\"text-align: right;\">\n",
       "      <th></th>\n",
       "      <th>Q</th>\n",
       "      <th>S</th>\n",
       "      <th>C</th>\n",
       "    </tr>\n",
       "  </thead>\n",
       "  <tbody>\n",
       "    <tr>\n",
       "      <th>0</th>\n",
       "      <td>0.0</td>\n",
       "      <td>0.0</td>\n",
       "      <td>1.0</td>\n",
       "    </tr>\n",
       "    <tr>\n",
       "      <th>1</th>\n",
       "      <td>1.0</td>\n",
       "      <td>0.0</td>\n",
       "      <td>0.0</td>\n",
       "    </tr>\n",
       "    <tr>\n",
       "      <th>2</th>\n",
       "      <td>0.0</td>\n",
       "      <td>0.0</td>\n",
       "      <td>1.0</td>\n",
       "    </tr>\n",
       "    <tr>\n",
       "      <th>3</th>\n",
       "      <td>0.0</td>\n",
       "      <td>0.0</td>\n",
       "      <td>1.0</td>\n",
       "    </tr>\n",
       "    <tr>\n",
       "      <th>4</th>\n",
       "      <td>0.0</td>\n",
       "      <td>0.0</td>\n",
       "      <td>1.0</td>\n",
       "    </tr>\n",
       "  </tbody>\n",
       "</table>\n",
       "</div>"
      ],
      "text/plain": [
       "     Q    S    C\n",
       "0  0.0  0.0  1.0\n",
       "1  1.0  0.0  0.0\n",
       "2  0.0  0.0  1.0\n",
       "3  0.0  0.0  1.0\n",
       "4  0.0  0.0  1.0"
      ]
     },
     "execution_count": 7,
     "metadata": {},
     "output_type": "execute_result"
    }
   ],
   "source": [
    "df.head()"
   ]
  },
  {
   "cell_type": "code",
   "execution_count": 8,
   "metadata": {},
   "outputs": [],
   "source": [
    "# avoid reIndexing error\n",
    "titanic_df_select_new = titanic_df_select"
   ]
  },
  {
   "cell_type": "code",
   "execution_count": 9,
   "metadata": {},
   "outputs": [],
   "source": [
    "titanic_df_select = pd.concat([titanic_df_select_new, df], axis=1)"
   ]
  },
  {
   "cell_type": "markdown",
   "metadata": {},
   "source": [
    "## 1.預測船的票價"
   ]
  },
  {
   "cell_type": "code",
   "execution_count": 10,
   "metadata": {},
   "outputs": [],
   "source": [
    "titanic_df_label = titanic_df_select['fare']\n",
    "titanic_df_select = titanic_df_select.drop(['fare'], axis=1)\n",
    "titanic_df_select = titanic_df_select.drop(['embarked'], axis=1)"
   ]
  },
  {
   "cell_type": "code",
   "execution_count": 11,
   "metadata": {},
   "outputs": [
    {
     "data": {
      "text/plain": [
       "0     7.2500\n",
       "1    71.2833\n",
       "2     7.9250\n",
       "3    53.1000\n",
       "4     8.0500\n",
       "Name: fare, dtype: float64"
      ]
     },
     "execution_count": 11,
     "metadata": {},
     "output_type": "execute_result"
    }
   ],
   "source": [
    "titanic_df_label.head()"
   ]
  },
  {
   "cell_type": "code",
   "execution_count": 12,
   "metadata": {},
   "outputs": [],
   "source": [
    "def df_norm(df):\n",
    "    df_norm = ((df - df.min())/ (df.max() - df.min()))\n",
    "    return df_norm\n",
    "\n",
    "titanic_df_label = df_norm(titanic_df_label)\n",
    "titanic_df_select['age'] = df_norm(titanic_df_select['age'])"
   ]
  },
  {
   "cell_type": "code",
   "execution_count": 13,
   "metadata": {},
   "outputs": [
    {
     "data": {
      "text/html": [
       "<div>\n",
       "<style scoped>\n",
       "    .dataframe tbody tr th:only-of-type {\n",
       "        vertical-align: middle;\n",
       "    }\n",
       "\n",
       "    .dataframe tbody tr th {\n",
       "        vertical-align: top;\n",
       "    }\n",
       "\n",
       "    .dataframe thead th {\n",
       "        text-align: right;\n",
       "    }\n",
       "</style>\n",
       "<table border=\"1\" class=\"dataframe\">\n",
       "  <thead>\n",
       "    <tr style=\"text-align: right;\">\n",
       "      <th></th>\n",
       "      <th>pclass</th>\n",
       "      <th>sex</th>\n",
       "      <th>age</th>\n",
       "      <th>sibsp</th>\n",
       "      <th>parch</th>\n",
       "      <th>Q</th>\n",
       "      <th>S</th>\n",
       "      <th>C</th>\n",
       "    </tr>\n",
       "  </thead>\n",
       "  <tbody>\n",
       "    <tr>\n",
       "      <th>0</th>\n",
       "      <td>3</td>\n",
       "      <td>1</td>\n",
       "      <td>0.273456</td>\n",
       "      <td>1</td>\n",
       "      <td>0</td>\n",
       "      <td>0.0</td>\n",
       "      <td>0.0</td>\n",
       "      <td>1.0</td>\n",
       "    </tr>\n",
       "    <tr>\n",
       "      <th>1</th>\n",
       "      <td>1</td>\n",
       "      <td>0</td>\n",
       "      <td>0.473882</td>\n",
       "      <td>1</td>\n",
       "      <td>0</td>\n",
       "      <td>1.0</td>\n",
       "      <td>0.0</td>\n",
       "      <td>0.0</td>\n",
       "    </tr>\n",
       "    <tr>\n",
       "      <th>2</th>\n",
       "      <td>3</td>\n",
       "      <td>0</td>\n",
       "      <td>0.323563</td>\n",
       "      <td>0</td>\n",
       "      <td>0</td>\n",
       "      <td>0.0</td>\n",
       "      <td>0.0</td>\n",
       "      <td>1.0</td>\n",
       "    </tr>\n",
       "    <tr>\n",
       "      <th>3</th>\n",
       "      <td>1</td>\n",
       "      <td>0</td>\n",
       "      <td>0.436302</td>\n",
       "      <td>1</td>\n",
       "      <td>0</td>\n",
       "      <td>0.0</td>\n",
       "      <td>0.0</td>\n",
       "      <td>1.0</td>\n",
       "    </tr>\n",
       "    <tr>\n",
       "      <th>4</th>\n",
       "      <td>3</td>\n",
       "      <td>1</td>\n",
       "      <td>0.436302</td>\n",
       "      <td>0</td>\n",
       "      <td>0</td>\n",
       "      <td>0.0</td>\n",
       "      <td>0.0</td>\n",
       "      <td>1.0</td>\n",
       "    </tr>\n",
       "  </tbody>\n",
       "</table>\n",
       "</div>"
      ],
      "text/plain": [
       "   pclass  sex       age  sibsp  parch    Q    S    C\n",
       "0       3    1  0.273456      1      0  0.0  0.0  1.0\n",
       "1       1    0  0.473882      1      0  1.0  0.0  0.0\n",
       "2       3    0  0.323563      0      0  0.0  0.0  1.0\n",
       "3       1    0  0.436302      1      0  0.0  0.0  1.0\n",
       "4       3    1  0.436302      0      0  0.0  0.0  1.0"
      ]
     },
     "execution_count": 13,
     "metadata": {},
     "output_type": "execute_result"
    }
   ],
   "source": [
    "trainX = titanic_df_select[:1000]\n",
    "testX = titanic_df_select[1000:]\n",
    "trainY = titanic_df_label[:1000]\n",
    "testY = titanic_df_label[1000:]\n",
    "trainX.head()"
   ]
  },
  {
   "cell_type": "code",
   "execution_count": 14,
   "metadata": {},
   "outputs": [
    {
     "name": "stderr",
     "output_type": "stream",
     "text": [
      "Using TensorFlow backend.\n"
     ]
    },
    {
     "name": "stdout",
     "output_type": "stream",
     "text": [
      "_________________________________________________________________\n",
      "Layer (type)                 Output Shape              Param #   \n",
      "=================================================================\n",
      "dense1 (Dense)               (None, 5)                 45        \n",
      "_________________________________________________________________\n",
      "output_layer (Dense)         (None, 1)                 6         \n",
      "=================================================================\n",
      "Total params: 51\n",
      "Trainable params: 51\n",
      "Non-trainable params: 0\n",
      "_________________________________________________________________\n"
     ]
    }
   ],
   "source": [
    "from keras.models import Sequential\n",
    "from keras.layers import Dense, Activation\n",
    "\n",
    "model = Sequential()\n",
    "model.add(Dense(5, input_dim=8, activation='relu', name='dense1')) # 8*5 + 5 = 45\n",
    "model.add(Dense(1, activation='relu', name='output_layer')) # 5*1 + 1 =6\n",
    "model.summary()"
   ]
  },
  {
   "cell_type": "code",
   "execution_count": 15,
   "metadata": {},
   "outputs": [
    {
     "name": "stdout",
     "output_type": "stream",
     "text": [
      "Train on 800 samples, validate on 200 samples\n",
      "Epoch 1/100\n",
      "800/800 [==============================] - 0s 203us/step - loss: 0.0143 - val_loss: 0.0122\n",
      "Epoch 2/100\n",
      "800/800 [==============================] - 0s 30us/step - loss: 0.0142 - val_loss: 0.0116\n",
      "Epoch 3/100\n",
      "800/800 [==============================] - 0s 25us/step - loss: 0.0140 - val_loss: 0.0110\n",
      "Epoch 4/100\n",
      "800/800 [==============================] - 0s 27us/step - loss: 0.0130 - val_loss: 0.0093\n",
      "Epoch 5/100\n",
      "800/800 [==============================] - 0s 28us/step - loss: 0.0122 - val_loss: 0.0097\n",
      "Epoch 6/100\n",
      "800/800 [==============================] - 0s 27us/step - loss: 0.0120 - val_loss: 0.0094\n",
      "Epoch 7/100\n",
      "800/800 [==============================] - 0s 26us/step - loss: 0.0119 - val_loss: 0.0094\n",
      "Epoch 8/100\n",
      "800/800 [==============================] - 0s 27us/step - loss: 0.0119 - val_loss: 0.0094\n",
      "Epoch 9/100\n",
      "800/800 [==============================] - 0s 28us/step - loss: 0.0119 - val_loss: 0.0093\n",
      "Epoch 10/100\n",
      "800/800 [==============================] - 0s 27us/step - loss: 0.0119 - val_loss: 0.0094\n",
      "Epoch 11/100\n",
      "800/800 [==============================] - 0s 27us/step - loss: 0.0118 - val_loss: 0.0093\n",
      "Epoch 12/100\n",
      "800/800 [==============================] - 0s 29us/step - loss: 0.0118 - val_loss: 0.0092\n",
      "Epoch 13/100\n",
      "800/800 [==============================] - 0s 29us/step - loss: 0.0116 - val_loss: 0.0092\n",
      "Epoch 14/100\n",
      "800/800 [==============================] - 0s 27us/step - loss: 0.0112 - val_loss: 0.0092\n",
      "Epoch 15/100\n",
      "800/800 [==============================] - 0s 27us/step - loss: 0.0109 - val_loss: 0.0090\n",
      "Epoch 16/100\n",
      "800/800 [==============================] - 0s 27us/step - loss: 0.0105 - val_loss: 0.0090\n",
      "Epoch 17/100\n",
      "800/800 [==============================] - 0s 27us/step - loss: 0.0100 - val_loss: 0.0090\n",
      "Epoch 18/100\n",
      "800/800 [==============================] - 0s 27us/step - loss: 0.0098 - val_loss: 0.0089\n",
      "Epoch 19/100\n",
      "800/800 [==============================] - 0s 27us/step - loss: 0.0096 - val_loss: 0.0087\n",
      "Epoch 20/100\n",
      "800/800 [==============================] - 0s 27us/step - loss: 0.0094 - val_loss: 0.0088\n",
      "Epoch 21/100\n",
      "800/800 [==============================] - 0s 26us/step - loss: 0.0090 - val_loss: 0.0088\n",
      "Epoch 22/100\n",
      "800/800 [==============================] - 0s 27us/step - loss: 0.0084 - val_loss: 0.0082\n",
      "Epoch 23/100\n",
      "800/800 [==============================] - 0s 29us/step - loss: 0.0082 - val_loss: 0.0080\n",
      "Epoch 24/100\n",
      "800/800 [==============================] - 0s 27us/step - loss: 0.0081 - val_loss: 0.0083\n",
      "Epoch 25/100\n",
      "800/800 [==============================] - 0s 29us/step - loss: 0.0081 - val_loss: 0.0082\n",
      "Epoch 26/100\n",
      "800/800 [==============================] - 0s 27us/step - loss: 0.0082 - val_loss: 0.0080\n",
      "Epoch 27/100\n",
      "800/800 [==============================] - 0s 27us/step - loss: 0.0081 - val_loss: 0.0081\n",
      "Epoch 28/100\n",
      "800/800 [==============================] - 0s 27us/step - loss: 0.0080 - val_loss: 0.0081\n",
      "Epoch 29/100\n",
      "800/800 [==============================] - 0s 27us/step - loss: 0.0079 - val_loss: 0.0079\n",
      "Epoch 30/100\n",
      "800/800 [==============================] - 0s 27us/step - loss: 0.0075 - val_loss: 0.0075\n",
      "Epoch 31/100\n",
      "800/800 [==============================] - 0s 26us/step - loss: 0.0072 - val_loss: 0.0071\n",
      "Epoch 32/100\n",
      "800/800 [==============================] - 0s 27us/step - loss: 0.0069 - val_loss: 0.0068\n",
      "Epoch 33/100\n",
      "800/800 [==============================] - 0s 27us/step - loss: 0.0066 - val_loss: 0.0066\n",
      "Epoch 34/100\n",
      "800/800 [==============================] - 0s 27us/step - loss: 0.0064 - val_loss: 0.0066\n",
      "Epoch 35/100\n",
      "800/800 [==============================] - 0s 27us/step - loss: 0.0064 - val_loss: 0.0064\n",
      "Epoch 36/100\n",
      "800/800 [==============================] - 0s 28us/step - loss: 0.0063 - val_loss: 0.0063\n",
      "Epoch 37/100\n",
      "800/800 [==============================] - 0s 27us/step - loss: 0.0063 - val_loss: 0.0062\n",
      "Epoch 38/100\n",
      "800/800 [==============================] - 0s 27us/step - loss: 0.0063 - val_loss: 0.0062\n",
      "Epoch 39/100\n",
      "800/800 [==============================] - 0s 27us/step - loss: 0.0062 - val_loss: 0.0062\n",
      "Epoch 40/100\n",
      "800/800 [==============================] - 0s 27us/step - loss: 0.0062 - val_loss: 0.0061\n",
      "Epoch 41/100\n",
      "800/800 [==============================] - 0s 27us/step - loss: 0.0061 - val_loss: 0.0059\n",
      "Epoch 42/100\n",
      "800/800 [==============================] - 0s 33us/step - loss: 0.0061 - val_loss: 0.0059\n",
      "Epoch 43/100\n",
      "800/800 [==============================] - 0s 27us/step - loss: 0.0061 - val_loss: 0.0059\n",
      "Epoch 44/100\n",
      "800/800 [==============================] - 0s 28us/step - loss: 0.0061 - val_loss: 0.0058\n",
      "Epoch 45/100\n",
      "800/800 [==============================] - 0s 26us/step - loss: 0.0061 - val_loss: 0.0057\n",
      "Epoch 46/100\n",
      "800/800 [==============================] - 0s 26us/step - loss: 0.0060 - val_loss: 0.0057\n",
      "Epoch 47/100\n",
      "800/800 [==============================] - 0s 26us/step - loss: 0.0061 - val_loss: 0.0056\n",
      "Epoch 48/100\n",
      "800/800 [==============================] - 0s 27us/step - loss: 0.0060 - val_loss: 0.0055\n",
      "Epoch 49/100\n",
      "800/800 [==============================] - 0s 26us/step - loss: 0.0060 - val_loss: 0.0055\n",
      "Epoch 50/100\n",
      "800/800 [==============================] - 0s 27us/step - loss: 0.0060 - val_loss: 0.0056\n",
      "Epoch 51/100\n",
      "800/800 [==============================] - 0s 27us/step - loss: 0.0060 - val_loss: 0.0055\n",
      "Epoch 52/100\n",
      "800/800 [==============================] - 0s 26us/step - loss: 0.0059 - val_loss: 0.0055\n",
      "Epoch 53/100\n",
      "800/800 [==============================] - 0s 27us/step - loss: 0.0059 - val_loss: 0.0052\n",
      "Epoch 54/100\n",
      "800/800 [==============================] - 0s 27us/step - loss: 0.0058 - val_loss: 0.0052\n",
      "Epoch 55/100\n",
      "800/800 [==============================] - 0s 27us/step - loss: 0.0058 - val_loss: 0.0051\n",
      "Epoch 56/100\n",
      "800/800 [==============================] - 0s 27us/step - loss: 0.0058 - val_loss: 0.0050\n",
      "Epoch 57/100\n",
      "800/800 [==============================] - 0s 28us/step - loss: 0.0058 - val_loss: 0.0049\n",
      "Epoch 58/100\n",
      "800/800 [==============================] - 0s 28us/step - loss: 0.0056 - val_loss: 0.0048\n",
      "Epoch 59/100\n",
      "800/800 [==============================] - 0s 27us/step - loss: 0.0056 - val_loss: 0.0047\n",
      "Epoch 60/100\n",
      "800/800 [==============================] - 0s 27us/step - loss: 0.0055 - val_loss: 0.0046\n",
      "Epoch 61/100\n",
      "800/800 [==============================] - 0s 26us/step - loss: 0.0055 - val_loss: 0.0046\n",
      "Epoch 62/100\n",
      "800/800 [==============================] - 0s 26us/step - loss: 0.0054 - val_loss: 0.0045\n",
      "Epoch 63/100\n",
      "800/800 [==============================] - 0s 25us/step - loss: 0.0054 - val_loss: 0.0044\n",
      "Epoch 64/100\n",
      "800/800 [==============================] - 0s 26us/step - loss: 0.0054 - val_loss: 0.0044\n",
      "Epoch 65/100\n",
      "800/800 [==============================] - 0s 25us/step - loss: 0.0054 - val_loss: 0.0044\n",
      "Epoch 66/100\n",
      "800/800 [==============================] - 0s 25us/step - loss: 0.0054 - val_loss: 0.0044\n",
      "Epoch 67/100\n",
      "800/800 [==============================] - 0s 23us/step - loss: 0.0054 - val_loss: 0.0043\n",
      "Epoch 68/100\n",
      "800/800 [==============================] - 0s 24us/step - loss: 0.0053 - val_loss: 0.0043\n",
      "Epoch 69/100\n",
      "800/800 [==============================] - 0s 26us/step - loss: 0.0054 - val_loss: 0.0042\n",
      "Epoch 70/100\n",
      "800/800 [==============================] - 0s 26us/step - loss: 0.0054 - val_loss: 0.0044\n",
      "Epoch 71/100\n",
      "800/800 [==============================] - 0s 26us/step - loss: 0.0053 - val_loss: 0.0042\n",
      "Epoch 72/100\n",
      "800/800 [==============================] - 0s 26us/step - loss: 0.0053 - val_loss: 0.0043\n",
      "Epoch 73/100\n",
      "800/800 [==============================] - 0s 24us/step - loss: 0.0053 - val_loss: 0.0043\n",
      "Epoch 74/100\n",
      "800/800 [==============================] - 0s 26us/step - loss: 0.0053 - val_loss: 0.0042\n",
      "Epoch 75/100\n",
      "800/800 [==============================] - 0s 25us/step - loss: 0.0053 - val_loss: 0.0042\n",
      "Epoch 76/100\n",
      "800/800 [==============================] - 0s 24us/step - loss: 0.0053 - val_loss: 0.0042\n",
      "Epoch 77/100\n",
      "800/800 [==============================] - 0s 24us/step - loss: 0.0053 - val_loss: 0.0041\n",
      "Epoch 78/100\n",
      "800/800 [==============================] - 0s 23us/step - loss: 0.0053 - val_loss: 0.0041\n",
      "Epoch 79/100\n",
      "800/800 [==============================] - 0s 24us/step - loss: 0.0053 - val_loss: 0.0041\n",
      "Epoch 80/100\n",
      "800/800 [==============================] - 0s 25us/step - loss: 0.0052 - val_loss: 0.0042\n",
      "Epoch 81/100\n",
      "800/800 [==============================] - 0s 27us/step - loss: 0.0053 - val_loss: 0.0040\n",
      "Epoch 82/100\n",
      "800/800 [==============================] - 0s 24us/step - loss: 0.0052 - val_loss: 0.0042\n",
      "Epoch 83/100\n",
      "800/800 [==============================] - 0s 24us/step - loss: 0.0052 - val_loss: 0.0041\n",
      "Epoch 84/100\n",
      "800/800 [==============================] - 0s 24us/step - loss: 0.0052 - val_loss: 0.0040\n",
      "Epoch 85/100\n",
      "800/800 [==============================] - 0s 23us/step - loss: 0.0052 - val_loss: 0.0041\n",
      "Epoch 86/100\n",
      "800/800 [==============================] - 0s 25us/step - loss: 0.0052 - val_loss: 0.0040\n",
      "Epoch 87/100\n",
      "800/800 [==============================] - 0s 27us/step - loss: 0.0052 - val_loss: 0.0040\n",
      "Epoch 88/100\n",
      "800/800 [==============================] - 0s 25us/step - loss: 0.0052 - val_loss: 0.0040\n",
      "Epoch 89/100\n",
      "800/800 [==============================] - 0s 24us/step - loss: 0.0052 - val_loss: 0.0040\n",
      "Epoch 90/100\n",
      "800/800 [==============================] - 0s 23us/step - loss: 0.0052 - val_loss: 0.0040\n",
      "Epoch 91/100\n",
      "800/800 [==============================] - 0s 25us/step - loss: 0.0052 - val_loss: 0.0040\n",
      "Epoch 92/100\n",
      "800/800 [==============================] - 0s 25us/step - loss: 0.0052 - val_loss: 0.0040\n",
      "Epoch 93/100\n",
      "800/800 [==============================] - 0s 24us/step - loss: 0.0052 - val_loss: 0.0039\n",
      "Epoch 94/100\n",
      "800/800 [==============================] - 0s 24us/step - loss: 0.0052 - val_loss: 0.0040\n",
      "Epoch 95/100\n",
      "800/800 [==============================] - 0s 23us/step - loss: 0.0052 - val_loss: 0.0039\n",
      "Epoch 96/100\n",
      "800/800 [==============================] - 0s 25us/step - loss: 0.0052 - val_loss: 0.0040\n",
      "Epoch 97/100\n",
      "800/800 [==============================] - 0s 24us/step - loss: 0.0052 - val_loss: 0.0039\n",
      "Epoch 98/100\n",
      "800/800 [==============================] - 0s 24us/step - loss: 0.0052 - val_loss: 0.0039\n",
      "Epoch 99/100\n",
      "800/800 [==============================] - 0s 24us/step - loss: 0.0052 - val_loss: 0.0040\n",
      "Epoch 100/100\n",
      "800/800 [==============================] - 0s 26us/step - loss: 0.0052 - val_loss: 0.0038\n"
     ]
    }
   ],
   "source": [
    "model.compile(loss='MSE', optimizer='adam')\n",
    "train_history = model.fit(x=trainX, y=trainY, validation_split=0.2, epochs=100, batch_size=30, verbose=1)"
   ]
  },
  {
   "cell_type": "code",
   "execution_count": 16,
   "metadata": {},
   "outputs": [
    {
     "data": {
      "image/png": "[encoded data removed]",
      "text/plain": [
       "<Figure size 432x288 with 1 Axes>"
      ]
     },
     "metadata": {
      "needs_background": "light"
     },
     "output_type": "display_data"
    }
   ],
   "source": [
    "%matplotlib inline\n",
    "import matplotlib.pyplot as plt\n",
    "def show_train_history(train_history, train, validation):\n",
    "    plt.plot(train_history.history[train])\n",
    "    plt.plot(train_history.history[validation])\n",
    "    plt.title('Train History')\n",
    "    plt.ylabel(train)\n",
    "    plt.xlabel('Epoch')\n",
    "    plt.legend(['train', 'validation'], loc='center right')\n",
    "    plt.show()\n",
    "    \n",
    "show_train_history(train_history, 'loss', 'val_loss')"
   ]
  },
  {
   "cell_type": "markdown",
   "metadata": {},
   "source": [
    "### Model Compare"
   ]
  },
  {
   "cell_type": "markdown",
   "metadata": {},
   "source": [
    "### 1. 寬"
   ]
  },
  {
   "cell_type": "code",
   "execution_count": 17,
   "metadata": {},
   "outputs": [
    {
     "name": "stdout",
     "output_type": "stream",
     "text": [
      "_________________________________________________________________\n",
      "Layer (type)                 Output Shape              Param #   \n",
      "=================================================================\n",
      "dense1 (Dense)               (None, 200)               1800      \n",
      "_________________________________________________________________\n",
      "output_layer (Dense)         (None, 1)                 201       \n",
      "=================================================================\n",
      "Total params: 2,001\n",
      "Trainable params: 2,001\n",
      "Non-trainable params: 0\n",
      "_________________________________________________________________\n"
     ]
    }
   ],
   "source": [
    "model1 = Sequential()\n",
    "model1.add(Dense(200, input_dim=8, activation='relu', name='dense1')) \n",
    "model1.add(Dense(1, activation='relu', name='output_layer')) \n",
    "model1.summary()"
   ]
  },
  {
   "cell_type": "code",
   "execution_count": 18,
   "metadata": {},
   "outputs": [
    {
     "name": "stdout",
     "output_type": "stream",
     "text": [
      "Train on 800 samples, validate on 200 samples\n",
      "Epoch 1/100\n",
      "800/800 [==============================] - 0s 233us/step - loss: 0.0143 - val_loss: 0.0131\n",
      "Epoch 2/100\n",
      "800/800 [==============================] - 0s 31us/step - loss: 0.0143 - val_loss: 0.0131\n",
      "Epoch 3/100\n",
      "800/800 [==============================] - 0s 26us/step - loss: 0.0143 - val_loss: 0.0131\n",
      "Epoch 4/100\n",
      "800/800 [==============================] - 0s 26us/step - loss: 0.0143 - val_loss: 0.0131\n",
      "Epoch 5/100\n",
      "800/800 [==============================] - 0s 26us/step - loss: 0.0143 - val_loss: 0.0131\n",
      "Epoch 6/100\n",
      "800/800 [==============================] - 0s 26us/step - loss: 0.0143 - val_loss: 0.0131\n",
      "Epoch 7/100\n",
      "800/800 [==============================] - 0s 26us/step - loss: 0.0143 - val_loss: 0.0131\n",
      "Epoch 8/100\n",
      "800/800 [==============================] - 0s 27us/step - loss: 0.0143 - val_loss: 0.0131\n",
      "Epoch 9/100\n",
      "800/800 [==============================] - 0s 27us/step - loss: 0.0143 - val_loss: 0.0131\n",
      "Epoch 10/100\n",
      "800/800 [==============================] - 0s 27us/step - loss: 0.0143 - val_loss: 0.0131\n",
      "Epoch 11/100\n",
      "800/800 [==============================] - 0s 29us/step - loss: 0.0143 - val_loss: 0.0131\n",
      "Epoch 12/100\n",
      "800/800 [==============================] - 0s 27us/step - loss: 0.0143 - val_loss: 0.0131\n",
      "Epoch 13/100\n",
      "800/800 [==============================] - 0s 27us/step - loss: 0.0143 - val_loss: 0.0131\n",
      "Epoch 14/100\n",
      "800/800 [==============================] - 0s 28us/step - loss: 0.0143 - val_loss: 0.0131\n",
      "Epoch 15/100\n",
      "800/800 [==============================] - 0s 28us/step - loss: 0.0143 - val_loss: 0.0131\n",
      "Epoch 16/100\n",
      "800/800 [==============================] - 0s 27us/step - loss: 0.0143 - val_loss: 0.0131\n",
      "Epoch 17/100\n",
      "800/800 [==============================] - 0s 27us/step - loss: 0.0143 - val_loss: 0.0131\n",
      "Epoch 18/100\n",
      "800/800 [==============================] - 0s 26us/step - loss: 0.0143 - val_loss: 0.0131\n",
      "Epoch 19/100\n",
      "800/800 [==============================] - 0s 26us/step - loss: 0.0143 - val_loss: 0.0131\n",
      "Epoch 20/100\n",
      "800/800 [==============================] - 0s 28us/step - loss: 0.0143 - val_loss: 0.0131\n",
      "Epoch 21/100\n",
      "800/800 [==============================] - 0s 27us/step - loss: 0.0143 - val_loss: 0.0131\n",
      "Epoch 22/100\n",
      "800/800 [==============================] - 0s 27us/step - loss: 0.0143 - val_loss: 0.0131\n",
      "Epoch 23/100\n",
      "800/800 [==============================] - 0s 28us/step - loss: 0.0143 - val_loss: 0.0131\n",
      "Epoch 24/100\n",
      "800/800 [==============================] - 0s 27us/step - loss: 0.0143 - val_loss: 0.0131\n",
      "Epoch 25/100\n",
      "800/800 [==============================] - 0s 27us/step - loss: 0.0143 - val_loss: 0.0131\n",
      "Epoch 26/100\n",
      "800/800 [==============================] - 0s 28us/step - loss: 0.0143 - val_loss: 0.0131\n",
      "Epoch 27/100\n",
      "800/800 [==============================] - 0s 27us/step - loss: 0.0143 - val_loss: 0.0131\n",
      "Epoch 28/100\n",
      "800/800 [==============================] - 0s 26us/step - loss: 0.0143 - val_loss: 0.0131\n",
      "Epoch 29/100\n",
      "800/800 [==============================] - 0s 28us/step - loss: 0.0143 - val_loss: 0.0131\n",
      "Epoch 30/100\n",
      "800/800 [==============================] - 0s 27us/step - loss: 0.0143 - val_loss: 0.0131\n",
      "Epoch 31/100\n",
      "800/800 [==============================] - 0s 28us/step - loss: 0.0143 - val_loss: 0.0131\n",
      "Epoch 32/100\n",
      "800/800 [==============================] - 0s 28us/step - loss: 0.0143 - val_loss: 0.0131\n",
      "Epoch 33/100\n",
      "800/800 [==============================] - 0s 27us/step - loss: 0.0143 - val_loss: 0.0131\n",
      "Epoch 34/100\n",
      "800/800 [==============================] - 0s 26us/step - loss: 0.0143 - val_loss: 0.0131\n",
      "Epoch 35/100\n",
      "800/800 [==============================] - 0s 28us/step - loss: 0.0143 - val_loss: 0.0131\n",
      "Epoch 36/100\n",
      "800/800 [==============================] - 0s 27us/step - loss: 0.0143 - val_loss: 0.0131\n",
      "Epoch 37/100\n",
      "800/800 [==============================] - 0s 27us/step - loss: 0.0143 - val_loss: 0.0131\n",
      "Epoch 38/100\n",
      "800/800 [==============================] - 0s 27us/step - loss: 0.0143 - val_loss: 0.0131\n",
      "Epoch 39/100\n",
      "800/800 [==============================] - 0s 27us/step - loss: 0.0143 - val_loss: 0.0131\n",
      "Epoch 40/100\n",
      "800/800 [==============================] - 0s 26us/step - loss: 0.0143 - val_loss: 0.0131\n",
      "Epoch 41/100\n",
      "800/800 [==============================] - 0s 27us/step - loss: 0.0143 - val_loss: 0.0131\n",
      "Epoch 42/100\n",
      "800/800 [==============================] - 0s 26us/step - loss: 0.0143 - val_loss: 0.0131\n",
      "Epoch 43/100\n",
      "800/800 [==============================] - 0s 24us/step - loss: 0.0143 - val_loss: 0.0131\n",
      "Epoch 44/100\n",
      "800/800 [==============================] - 0s 25us/step - loss: 0.0143 - val_loss: 0.0131\n",
      "Epoch 45/100\n",
      "800/800 [==============================] - 0s 25us/step - loss: 0.0143 - val_loss: 0.0131\n",
      "Epoch 46/100\n",
      "800/800 [==============================] - 0s 24us/step - loss: 0.0143 - val_loss: 0.0131\n",
      "Epoch 47/100\n",
      "800/800 [==============================] - 0s 25us/step - loss: 0.0143 - val_loss: 0.0131\n",
      "Epoch 48/100\n",
      "800/800 [==============================] - 0s 25us/step - loss: 0.0143 - val_loss: 0.0131\n",
      "Epoch 49/100\n",
      "800/800 [==============================] - 0s 25us/step - loss: 0.0143 - val_loss: 0.0131\n",
      "Epoch 50/100\n",
      "800/800 [==============================] - 0s 25us/step - loss: 0.0143 - val_loss: 0.0131\n",
      "Epoch 51/100\n",
      "800/800 [==============================] - 0s 25us/step - loss: 0.0143 - val_loss: 0.0131\n",
      "Epoch 52/100\n",
      "800/800 [==============================] - 0s 25us/step - loss: 0.0143 - val_loss: 0.0131\n",
      "Epoch 53/100\n",
      "800/800 [==============================] - 0s 27us/step - loss: 0.0143 - val_loss: 0.0131\n",
      "Epoch 54/100\n",
      "800/800 [==============================] - 0s 29us/step - loss: 0.0143 - val_loss: 0.0131\n",
      "Epoch 55/100\n",
      "800/800 [==============================] - 0s 26us/step - loss: 0.0143 - val_loss: 0.0131\n",
      "Epoch 56/100\n",
      "800/800 [==============================] - 0s 24us/step - loss: 0.0143 - val_loss: 0.0131\n",
      "Epoch 57/100\n",
      "800/800 [==============================] - 0s 25us/step - loss: 0.0143 - val_loss: 0.0131\n",
      "Epoch 58/100\n",
      "800/800 [==============================] - 0s 26us/step - loss: 0.0143 - val_loss: 0.0131\n",
      "Epoch 59/100\n",
      "800/800 [==============================] - 0s 26us/step - loss: 0.0143 - val_loss: 0.0131\n",
      "Epoch 60/100\n",
      "800/800 [==============================] - 0s 27us/step - loss: 0.0143 - val_loss: 0.0131\n",
      "Epoch 61/100\n",
      "800/800 [==============================] - 0s 26us/step - loss: 0.0143 - val_loss: 0.0131\n",
      "Epoch 62/100\n",
      "800/800 [==============================] - 0s 25us/step - loss: 0.0143 - val_loss: 0.0131\n",
      "Epoch 63/100\n",
      "800/800 [==============================] - 0s 24us/step - loss: 0.0143 - val_loss: 0.0131\n",
      "Epoch 64/100\n",
      "800/800 [==============================] - 0s 25us/step - loss: 0.0143 - val_loss: 0.0131\n",
      "Epoch 65/100\n",
      "800/800 [==============================] - 0s 24us/step - loss: 0.0143 - val_loss: 0.0131\n",
      "Epoch 66/100\n",
      "800/800 [==============================] - 0s 25us/step - loss: 0.0143 - val_loss: 0.0131\n",
      "Epoch 67/100\n",
      "800/800 [==============================] - 0s 29us/step - loss: 0.0143 - val_loss: 0.0131\n",
      "Epoch 68/100\n",
      "800/800 [==============================] - 0s 33us/step - loss: 0.0143 - val_loss: 0.0131\n",
      "Epoch 69/100\n",
      "800/800 [==============================] - 0s 28us/step - loss: 0.0143 - val_loss: 0.0131\n",
      "Epoch 70/100\n",
      "800/800 [==============================] - 0s 27us/step - loss: 0.0143 - val_loss: 0.0131\n",
      "Epoch 71/100\n",
      "800/800 [==============================] - 0s 28us/step - loss: 0.0143 - val_loss: 0.0131\n",
      "Epoch 72/100\n",
      "800/800 [==============================] - 0s 27us/step - loss: 0.0143 - val_loss: 0.0131\n",
      "Epoch 73/100\n",
      "800/800 [==============================] - 0s 25us/step - loss: 0.0143 - val_loss: 0.0131\n",
      "Epoch 74/100\n",
      "800/800 [==============================] - 0s 24us/step - loss: 0.0143 - val_loss: 0.0131\n",
      "Epoch 75/100\n",
      "800/800 [==============================] - 0s 24us/step - loss: 0.0143 - val_loss: 0.0131\n",
      "Epoch 76/100\n",
      "800/800 [==============================] - 0s 23us/step - loss: 0.0143 - val_loss: 0.0131\n",
      "Epoch 77/100\n",
      "800/800 [==============================] - 0s 24us/step - loss: 0.0143 - val_loss: 0.0131\n",
      "Epoch 78/100\n",
      "800/800 [==============================] - 0s 25us/step - loss: 0.0143 - val_loss: 0.0131\n",
      "Epoch 79/100\n",
      "800/800 [==============================] - 0s 25us/step - loss: 0.0143 - val_loss: 0.0131\n",
      "Epoch 80/100\n",
      "800/800 [==============================] - 0s 25us/step - loss: 0.0143 - val_loss: 0.0131\n",
      "Epoch 81/100\n",
      "800/800 [==============================] - 0s 24us/step - loss: 0.0143 - val_loss: 0.0131\n",
      "Epoch 82/100\n",
      "800/800 [==============================] - 0s 24us/step - loss: 0.0143 - val_loss: 0.0131\n",
      "Epoch 83/100\n",
      "800/800 [==============================] - 0s 24us/step - loss: 0.0143 - val_loss: 0.0131\n",
      "Epoch 84/100\n",
      "800/800 [==============================] - 0s 25us/step - loss: 0.0143 - val_loss: 0.0131\n",
      "Epoch 85/100\n",
      "800/800 [==============================] - 0s 23us/step - loss: 0.0143 - val_loss: 0.0131\n",
      "Epoch 86/100\n",
      "800/800 [==============================] - 0s 25us/step - loss: 0.0143 - val_loss: 0.0131\n",
      "Epoch 87/100\n",
      "800/800 [==============================] - 0s 28us/step - loss: 0.0143 - val_loss: 0.0131\n",
      "Epoch 88/100\n",
      "800/800 [==============================] - 0s 27us/step - loss: 0.0143 - val_loss: 0.0131\n",
      "Epoch 89/100\n",
      "800/800 [==============================] - 0s 24us/step - loss: 0.0143 - val_loss: 0.0131\n",
      "Epoch 90/100\n",
      "800/800 [==============================] - 0s 24us/step - loss: 0.0143 - val_loss: 0.0131\n",
      "Epoch 91/100\n",
      "800/800 [==============================] - 0s 23us/step - loss: 0.0143 - val_loss: 0.0131\n",
      "Epoch 92/100\n",
      "800/800 [==============================] - 0s 24us/step - loss: 0.0143 - val_loss: 0.0131\n",
      "Epoch 93/100\n",
      "800/800 [==============================] - 0s 25us/step - loss: 0.0143 - val_loss: 0.0131\n",
      "Epoch 94/100\n",
      "800/800 [==============================] - 0s 24us/step - loss: 0.0143 - val_loss: 0.0131\n",
      "Epoch 95/100\n",
      "800/800 [==============================] - 0s 24us/step - loss: 0.0143 - val_loss: 0.0131\n",
      "Epoch 96/100\n",
      "800/800 [==============================] - 0s 23us/step - loss: 0.0143 - val_loss: 0.0131\n",
      "Epoch 97/100\n",
      "800/800 [==============================] - 0s 26us/step - loss: 0.0143 - val_loss: 0.0131\n",
      "Epoch 98/100\n",
      "800/800 [==============================] - 0s 25us/step - loss: 0.0143 - val_loss: 0.0131\n",
      "Epoch 99/100\n",
      "800/800 [==============================] - 0s 24us/step - loss: 0.0143 - val_loss: 0.0131\n",
      "Epoch 100/100\n",
      "800/800 [==============================] - 0s 24us/step - loss: 0.0143 - val_loss: 0.0131\n"
     ]
    }
   ],
   "source": [
    "model1.compile(loss='MSE', optimizer='adam')\n",
    "train_history1 = model1.fit(x=trainX, y=trainY, validation_split=0.2, epochs=100, batch_size=30, verbose=1)"
   ]
  },
  {
   "cell_type": "code",
   "execution_count": 19,
   "metadata": {},
   "outputs": [
    {
     "data": {
      "image/png": "[encoded data removed]",
      "text/plain": [
       "<Figure size 432x288 with 1 Axes>"
      ]
     },
     "metadata": {
      "needs_background": "light"
     },
     "output_type": "display_data"
    }
   ],
   "source": [
    "show_train_history(train_history1, 'loss', 'val_loss')"
   ]
  },
  {
   "cell_type": "markdown",
   "metadata": {},
   "source": [
    "### 加深"
   ]
  },
  {
   "cell_type": "code",
   "execution_count": 20,
   "metadata": {},
   "outputs": [
    {
     "name": "stdout",
     "output_type": "stream",
     "text": [
      "_________________________________________________________________\n",
      "Layer (type)                 Output Shape              Param #   \n",
      "=================================================================\n",
      "dense1 (Dense)               (None, 47)                423       \n",
      "_________________________________________________________________\n",
      "dense2 (Dense)               (None, 20)                960       \n",
      "_________________________________________________________________\n",
      "dense3 (Dense)               (None, 20)                420       \n",
      "_________________________________________________________________\n",
      "dense4 (Dense)               (None, 10)                210       \n",
      "_________________________________________________________________\n",
      "output_layer (Dense)         (None, 1)                 11        \n",
      "=================================================================\n",
      "Total params: 2,024\n",
      "Trainable params: 2,024\n",
      "Non-trainable params: 0\n",
      "_________________________________________________________________\n"
     ]
    }
   ],
   "source": [
    "model2 = Sequential()\n",
    "model2.add(Dense(47, input_dim=8, activation='relu', name='dense1')) \n",
    "model2.add(Dense(20, activation='relu', name='dense2')) \n",
    "model2.add(Dense(20, activation='relu', name='dense3'))\n",
    "model2.add(Dense(10, activation='relu', name='dense4')) \n",
    "model2.add(Dense(1, activation='relu', name='output_layer'))\n",
    "model2.summary()"
   ]
  },
  {
   "cell_type": "code",
   "execution_count": 21,
   "metadata": {},
   "outputs": [
    {
     "name": "stdout",
     "output_type": "stream",
     "text": [
      "Train on 800 samples, validate on 200 samples\n",
      "Epoch 1/100\n",
      "800/800 [==============================] - 0s 392us/step - loss: 0.0090 - val_loss: 0.0051\n",
      "Epoch 2/100\n",
      "800/800 [==============================] - 0s 35us/step - loss: 0.0065 - val_loss: 0.0041\n",
      "Epoch 3/100\n",
      "800/800 [==============================] - 0s 33us/step - loss: 0.0057 - val_loss: 0.0039\n",
      "Epoch 4/100\n",
      "800/800 [==============================] - 0s 39us/step - loss: 0.0053 - val_loss: 0.0038\n",
      "Epoch 5/100\n",
      "800/800 [==============================] - 0s 41us/step - loss: 0.0049 - val_loss: 0.0037\n",
      "Epoch 6/100\n",
      "800/800 [==============================] - 0s 39us/step - loss: 0.0048 - val_loss: 0.0037\n",
      "Epoch 7/100\n",
      "800/800 [==============================] - 0s 42us/step - loss: 0.0047 - val_loss: 0.0037\n",
      "Epoch 8/100\n",
      "800/800 [==============================] - 0s 38us/step - loss: 0.0048 - val_loss: 0.0037\n",
      "Epoch 9/100\n",
      "800/800 [==============================] - 0s 38us/step - loss: 0.0046 - val_loss: 0.0038\n",
      "Epoch 10/100\n",
      "800/800 [==============================] - 0s 38us/step - loss: 0.0047 - val_loss: 0.0038\n",
      "Epoch 11/100\n",
      "800/800 [==============================] - 0s 37us/step - loss: 0.0050 - val_loss: 0.0039\n",
      "Epoch 12/100\n",
      "800/800 [==============================] - 0s 34us/step - loss: 0.0047 - val_loss: 0.0032\n",
      "Epoch 13/100\n",
      "800/800 [==============================] - 0s 34us/step - loss: 0.0046 - val_loss: 0.0036\n",
      "Epoch 14/100\n",
      "800/800 [==============================] - 0s 36us/step - loss: 0.0045 - val_loss: 0.0035\n",
      "Epoch 15/100\n",
      "800/800 [==============================] - 0s 43us/step - loss: 0.0044 - val_loss: 0.0036\n",
      "Epoch 16/100\n",
      "800/800 [==============================] - 0s 45us/step - loss: 0.0044 - val_loss: 0.0036\n",
      "Epoch 17/100\n",
      "800/800 [==============================] - 0s 45us/step - loss: 0.0044 - val_loss: 0.0036\n",
      "Epoch 18/100\n",
      "800/800 [==============================] - 0s 40us/step - loss: 0.0043 - val_loss: 0.0036\n",
      "Epoch 19/100\n",
      "800/800 [==============================] - 0s 41us/step - loss: 0.0044 - val_loss: 0.0036\n",
      "Epoch 20/100\n",
      "800/800 [==============================] - 0s 38us/step - loss: 0.0043 - val_loss: 0.0040\n",
      "Epoch 21/100\n",
      "800/800 [==============================] - 0s 34us/step - loss: 0.0043 - val_loss: 0.0038\n",
      "Epoch 22/100\n",
      "800/800 [==============================] - 0s 37us/step - loss: 0.0043 - val_loss: 0.0037\n",
      "Epoch 23/100\n",
      "800/800 [==============================] - 0s 37us/step - loss: 0.0043 - val_loss: 0.0034\n",
      "Epoch 24/100\n",
      "800/800 [==============================] - 0s 36us/step - loss: 0.0044 - val_loss: 0.0039\n",
      "Epoch 25/100\n",
      "800/800 [==============================] - 0s 35us/step - loss: 0.0045 - val_loss: 0.0035\n",
      "Epoch 26/100\n",
      "800/800 [==============================] - 0s 34us/step - loss: 0.0047 - val_loss: 0.0037\n",
      "Epoch 27/100\n",
      "800/800 [==============================] - 0s 36us/step - loss: 0.0043 - val_loss: 0.0035\n",
      "Epoch 28/100\n",
      "800/800 [==============================] - 0s 37us/step - loss: 0.0042 - val_loss: 0.0038\n",
      "Epoch 29/100\n",
      "800/800 [==============================] - 0s 35us/step - loss: 0.0042 - val_loss: 0.0037\n",
      "Epoch 30/100\n",
      "800/800 [==============================] - 0s 34us/step - loss: 0.0043 - val_loss: 0.0038\n",
      "Epoch 31/100\n",
      "800/800 [==============================] - 0s 35us/step - loss: 0.0045 - val_loss: 0.0037\n",
      "Epoch 32/100\n",
      "800/800 [==============================] - 0s 35us/step - loss: 0.0042 - val_loss: 0.0037\n",
      "Epoch 33/100\n",
      "800/800 [==============================] - 0s 35us/step - loss: 0.0041 - val_loss: 0.0036\n",
      "Epoch 34/100\n",
      "800/800 [==============================] - 0s 34us/step - loss: 0.0041 - val_loss: 0.0035\n",
      "Epoch 35/100\n",
      "800/800 [==============================] - 0s 36us/step - loss: 0.0041 - val_loss: 0.0035\n",
      "Epoch 36/100\n",
      "800/800 [==============================] - 0s 35us/step - loss: 0.0041 - val_loss: 0.0035\n",
      "Epoch 37/100\n",
      "800/800 [==============================] - 0s 34us/step - loss: 0.0041 - val_loss: 0.0035\n",
      "Epoch 38/100\n",
      "800/800 [==============================] - 0s 35us/step - loss: 0.0041 - val_loss: 0.0036\n",
      "Epoch 39/100\n",
      "800/800 [==============================] - 0s 34us/step - loss: 0.0040 - val_loss: 0.0037\n",
      "Epoch 40/100\n",
      "800/800 [==============================] - 0s 36us/step - loss: 0.0041 - val_loss: 0.0039\n",
      "Epoch 41/100\n",
      "800/800 [==============================] - 0s 35us/step - loss: 0.0042 - val_loss: 0.0037\n",
      "Epoch 42/100\n",
      "800/800 [==============================] - 0s 37us/step - loss: 0.0043 - val_loss: 0.0041\n",
      "Epoch 43/100\n",
      "800/800 [==============================] - 0s 35us/step - loss: 0.0043 - val_loss: 0.0036\n",
      "Epoch 44/100\n",
      "800/800 [==============================] - 0s 34us/step - loss: 0.0041 - val_loss: 0.0036\n",
      "Epoch 45/100\n",
      "800/800 [==============================] - 0s 35us/step - loss: 0.0040 - val_loss: 0.0034\n",
      "Epoch 46/100\n",
      "800/800 [==============================] - 0s 34us/step - loss: 0.0041 - val_loss: 0.0035\n",
      "Epoch 47/100\n",
      "800/800 [==============================] - 0s 38us/step - loss: 0.0042 - val_loss: 0.0035\n",
      "Epoch 48/100\n",
      "800/800 [==============================] - 0s 36us/step - loss: 0.0042 - val_loss: 0.0037\n",
      "Epoch 49/100\n",
      "800/800 [==============================] - 0s 33us/step - loss: 0.0042 - val_loss: 0.0035\n",
      "Epoch 50/100\n",
      "800/800 [==============================] - 0s 34us/step - loss: 0.0040 - val_loss: 0.0036\n",
      "Epoch 51/100\n",
      "800/800 [==============================] - 0s 35us/step - loss: 0.0040 - val_loss: 0.0036\n",
      "Epoch 52/100\n",
      "800/800 [==============================] - 0s 35us/step - loss: 0.0040 - val_loss: 0.0036\n",
      "Epoch 53/100\n",
      "800/800 [==============================] - 0s 34us/step - loss: 0.0039 - val_loss: 0.0035\n",
      "Epoch 54/100\n",
      "800/800 [==============================] - 0s 35us/step - loss: 0.0040 - val_loss: 0.0036\n",
      "Epoch 55/100\n",
      "800/800 [==============================] - 0s 35us/step - loss: 0.0040 - val_loss: 0.0037\n",
      "Epoch 56/100\n",
      "800/800 [==============================] - 0s 34us/step - loss: 0.0040 - val_loss: 0.0035\n",
      "Epoch 57/100\n",
      "800/800 [==============================] - 0s 34us/step - loss: 0.0039 - val_loss: 0.0037\n",
      "Epoch 58/100\n",
      "800/800 [==============================] - 0s 36us/step - loss: 0.0041 - val_loss: 0.0035\n",
      "Epoch 59/100\n",
      "800/800 [==============================] - 0s 34us/step - loss: 0.0039 - val_loss: 0.0037\n",
      "Epoch 60/100\n",
      "800/800 [==============================] - 0s 34us/step - loss: 0.0039 - val_loss: 0.0037\n",
      "Epoch 61/100\n",
      "800/800 [==============================] - 0s 34us/step - loss: 0.0040 - val_loss: 0.0036\n",
      "Epoch 62/100\n",
      "800/800 [==============================] - 0s 35us/step - loss: 0.0040 - val_loss: 0.0036\n",
      "Epoch 63/100\n",
      "800/800 [==============================] - 0s 36us/step - loss: 0.0039 - val_loss: 0.0036\n",
      "Epoch 64/100\n",
      "800/800 [==============================] - 0s 36us/step - loss: 0.0039 - val_loss: 0.0036\n",
      "Epoch 65/100\n",
      "800/800 [==============================] - 0s 35us/step - loss: 0.0039 - val_loss: 0.0036\n",
      "Epoch 66/100\n",
      "800/800 [==============================] - 0s 37us/step - loss: 0.0039 - val_loss: 0.0037\n",
      "Epoch 67/100\n",
      "800/800 [==============================] - 0s 34us/step - loss: 0.0040 - val_loss: 0.0037\n",
      "Epoch 68/100\n",
      "800/800 [==============================] - 0s 34us/step - loss: 0.0039 - val_loss: 0.0036\n",
      "Epoch 69/100\n",
      "800/800 [==============================] - 0s 35us/step - loss: 0.0041 - val_loss: 0.0037\n",
      "Epoch 70/100\n",
      "800/800 [==============================] - 0s 33us/step - loss: 0.0040 - val_loss: 0.0036\n",
      "Epoch 71/100\n",
      "800/800 [==============================] - 0s 35us/step - loss: 0.0040 - val_loss: 0.0036\n",
      "Epoch 72/100\n",
      "800/800 [==============================] - 0s 34us/step - loss: 0.0040 - val_loss: 0.0039\n",
      "Epoch 73/100\n",
      "800/800 [==============================] - 0s 35us/step - loss: 0.0040 - val_loss: 0.0035\n",
      "Epoch 74/100\n",
      "800/800 [==============================] - 0s 34us/step - loss: 0.0040 - val_loss: 0.0038\n",
      "Epoch 75/100\n",
      "800/800 [==============================] - 0s 36us/step - loss: 0.0040 - val_loss: 0.0035\n",
      "Epoch 76/100\n",
      "800/800 [==============================] - 0s 34us/step - loss: 0.0039 - val_loss: 0.0036\n",
      "Epoch 77/100\n",
      "800/800 [==============================] - 0s 35us/step - loss: 0.0040 - val_loss: 0.0038\n",
      "Epoch 78/100\n",
      "800/800 [==============================] - 0s 34us/step - loss: 0.0039 - val_loss: 0.0035\n",
      "Epoch 79/100\n",
      "800/800 [==============================] - 0s 34us/step - loss: 0.0039 - val_loss: 0.0037\n",
      "Epoch 80/100\n",
      "800/800 [==============================] - 0s 35us/step - loss: 0.0040 - val_loss: 0.0039\n",
      "Epoch 81/100\n",
      "800/800 [==============================] - 0s 34us/step - loss: 0.0040 - val_loss: 0.0036\n",
      "Epoch 82/100\n",
      "800/800 [==============================] - 0s 34us/step - loss: 0.0039 - val_loss: 0.0037\n",
      "Epoch 83/100\n",
      "800/800 [==============================] - 0s 35us/step - loss: 0.0038 - val_loss: 0.0036\n",
      "Epoch 84/100\n",
      "800/800 [==============================] - 0s 35us/step - loss: 0.0040 - val_loss: 0.0038\n",
      "Epoch 85/100\n",
      "800/800 [==============================] - 0s 35us/step - loss: 0.0040 - val_loss: 0.0038\n",
      "Epoch 86/100\n",
      "800/800 [==============================] - 0s 35us/step - loss: 0.0040 - val_loss: 0.0038\n",
      "Epoch 87/100\n",
      "800/800 [==============================] - 0s 35us/step - loss: 0.0041 - val_loss: 0.0041\n",
      "Epoch 88/100\n",
      "800/800 [==============================] - 0s 34us/step - loss: 0.0040 - val_loss: 0.0037\n",
      "Epoch 89/100\n",
      "800/800 [==============================] - 0s 34us/step - loss: 0.0040 - val_loss: 0.0037\n",
      "Epoch 90/100\n",
      "800/800 [==============================] - 0s 35us/step - loss: 0.0039 - val_loss: 0.0038\n",
      "Epoch 91/100\n",
      "800/800 [==============================] - 0s 35us/step - loss: 0.0039 - val_loss: 0.0036\n",
      "Epoch 92/100\n",
      "800/800 [==============================] - 0s 34us/step - loss: 0.0039 - val_loss: 0.0035\n",
      "Epoch 93/100\n",
      "800/800 [==============================] - 0s 35us/step - loss: 0.0039 - val_loss: 0.0036\n",
      "Epoch 94/100\n",
      "800/800 [==============================] - 0s 35us/step - loss: 0.0038 - val_loss: 0.0038\n",
      "Epoch 95/100\n",
      "800/800 [==============================] - 0s 35us/step - loss: 0.0039 - val_loss: 0.0038\n",
      "Epoch 96/100\n",
      "800/800 [==============================] - 0s 35us/step - loss: 0.0038 - val_loss: 0.0037\n",
      "Epoch 97/100\n",
      "800/800 [==============================] - 0s 35us/step - loss: 0.0040 - val_loss: 0.0039\n",
      "Epoch 98/100\n",
      "800/800 [==============================] - 0s 36us/step - loss: 0.0041 - val_loss: 0.0039\n",
      "Epoch 99/100\n",
      "800/800 [==============================] - 0s 34us/step - loss: 0.0040 - val_loss: 0.0033\n",
      "Epoch 100/100\n",
      "800/800 [==============================] - 0s 35us/step - loss: 0.0038 - val_loss: 0.0038\n"
     ]
    }
   ],
   "source": [
    "model2.compile(loss='MSE', optimizer='adam')\n",
    "train_history2 = model2.fit(x=trainX, y=trainY, validation_split=0.2, epochs=100, batch_size=30, verbose=1)"
   ]
  },
  {
   "cell_type": "code",
   "execution_count": 22,
   "metadata": {},
   "outputs": [
    {
     "data": {
      "image/png": "[encoded data removed]",
      "text/plain": [
       "<Figure size 432x288 with 1 Axes>"
      ]
     },
     "metadata": {
      "needs_background": "light"
     },
     "output_type": "display_data"
    }
   ],
   "source": [
    "show_train_history(train_history2, 'loss', 'val_loss')"
   ]
  },
  {
   "cell_type": "markdown",
   "metadata": {},
   "source": [
    "### 2.預測生存率"
   ]
  },
  {
   "cell_type": "code",
   "execution_count": 38,
   "metadata": {},
   "outputs": [
    {
     "data": {
      "text/html": [
       "<div>\n",
       "<style scoped>\n",
       "    .dataframe tbody tr th:only-of-type {\n",
       "        vertical-align: middle;\n",
       "    }\n",
       "\n",
       "    .dataframe tbody tr th {\n",
       "        vertical-align: top;\n",
       "    }\n",
       "\n",
       "    .dataframe thead th {\n",
       "        text-align: right;\n",
       "    }\n",
       "</style>\n",
       "<table border=\"1\" class=\"dataframe\">\n",
       "  <thead>\n",
       "    <tr style=\"text-align: right;\">\n",
       "      <th></th>\n",
       "      <th>pclass</th>\n",
       "      <th>sex</th>\n",
       "      <th>age</th>\n",
       "      <th>sibsp</th>\n",
       "      <th>parch</th>\n",
       "      <th>fare</th>\n",
       "      <th>embarked</th>\n",
       "    </tr>\n",
       "  </thead>\n",
       "  <tbody>\n",
       "    <tr>\n",
       "      <th>0</th>\n",
       "      <td>3</td>\n",
       "      <td>male</td>\n",
       "      <td>22.0</td>\n",
       "      <td>1</td>\n",
       "      <td>0</td>\n",
       "      <td>7.2500</td>\n",
       "      <td>S</td>\n",
       "    </tr>\n",
       "    <tr>\n",
       "      <th>1</th>\n",
       "      <td>1</td>\n",
       "      <td>female</td>\n",
       "      <td>38.0</td>\n",
       "      <td>1</td>\n",
       "      <td>0</td>\n",
       "      <td>71.2833</td>\n",
       "      <td>C</td>\n",
       "    </tr>\n",
       "    <tr>\n",
       "      <th>2</th>\n",
       "      <td>3</td>\n",
       "      <td>female</td>\n",
       "      <td>26.0</td>\n",
       "      <td>0</td>\n",
       "      <td>0</td>\n",
       "      <td>7.9250</td>\n",
       "      <td>S</td>\n",
       "    </tr>\n",
       "    <tr>\n",
       "      <th>3</th>\n",
       "      <td>1</td>\n",
       "      <td>female</td>\n",
       "      <td>35.0</td>\n",
       "      <td>1</td>\n",
       "      <td>0</td>\n",
       "      <td>53.1000</td>\n",
       "      <td>S</td>\n",
       "    </tr>\n",
       "    <tr>\n",
       "      <th>4</th>\n",
       "      <td>3</td>\n",
       "      <td>male</td>\n",
       "      <td>35.0</td>\n",
       "      <td>0</td>\n",
       "      <td>0</td>\n",
       "      <td>8.0500</td>\n",
       "      <td>S</td>\n",
       "    </tr>\n",
       "  </tbody>\n",
       "</table>\n",
       "</div>"
      ],
      "text/plain": [
       "   pclass     sex   age  sibsp  parch     fare embarked\n",
       "0       3    male  22.0      1      0   7.2500        S\n",
       "1       1  female  38.0      1      0  71.2833        C\n",
       "2       3  female  26.0      0      0   7.9250        S\n",
       "3       1  female  35.0      1      0  53.1000        S\n",
       "4       3    male  35.0      0      0   8.0500        S"
      ]
     },
     "execution_count": 38,
     "metadata": {},
     "output_type": "execute_result"
    }
   ],
   "source": [
    "titanic_df_select2 = titanic_df\n",
    "titanic_df_select2.columns = titanic_df_select2.columns.str.lower()\n",
    "titanic_df_select2 = titanic_df_select2.drop(['ticket'], axis=1)\n",
    "titanic_df_select2 = titanic_df_select2.drop(['name'], axis=1)\n",
    "titanic_df_select2 = titanic_df_select2.drop(['cabin'], axis=1)\n",
    "titanic_df_select2 = titanic_df_select2.drop(['passengerid'], axis=1)\n",
    "titanic_df_label2 = oneHot(titanic_df_select2['survived'])\n",
    "titanic_df_select2 = titanic_df_select2.drop(['survived'], axis=1)\n",
    "titanic_df_select2.head()\n",
    "# titanic_df_select2 = titanic_df_select2.loc[:, ['pclass', 'sex', 'age', 'sibsp', 'parch', 'embarked', 'fare']]"
   ]
  },
  {
   "cell_type": "code",
   "execution_count": 39,
   "metadata": {},
   "outputs": [],
   "source": [
    "titanic_df_select2['age'] = titanic_df_select2['age'].fillna(titanic_df_select2['age'].mean())\n",
    "titanic_df_select2['fare'] = titanic_df_select2['fare'].fillna(titanic_df_select2['fare'].mean())\n",
    "titanic_df_select2['sex'] = titanic_df_select2['sex'].map({'female': 0, 'male': 1}).astype(int)\n",
    "titanic_df_select2['embarked'] = titanic_df_select2['embarked'].map({'C': 0, 'Q': 1, 'S':2}).astype(int)\n",
    "df2 = pd.DataFrame(oneHot(titanic_df_select2['embarked']), columns= Embarked)\n",
    "titanic_df_select_new2 = titanic_df_select2\n",
    "titanic_df_select2 = pd.concat([titanic_df_select_new2, df2], axis=1)\n",
    "titanic_df_select2['age'] = df_norm(titanic_df_select2['age'])\n",
    "trainX2 = titanic_df_select2[:1000]\n",
    "testX2 = titanic_df_select2[1000:]\n",
    "trainY2 = titanic_df_label2[:1000]\n",
    "testY2 = titanic_df_label2[1000:]"
   ]
  },
  {
   "cell_type": "code",
   "execution_count": 40,
   "metadata": {},
   "outputs": [
    {
     "name": "stdout",
     "output_type": "stream",
     "text": [
      "_________________________________________________________________\n",
      "Layer (type)                 Output Shape              Param #   \n",
      "=================================================================\n",
      "dense_7 (Dense)              (None, 5)                 55        \n",
      "_________________________________________________________________\n",
      "dense_8 (Dense)              (None, 2)                 12        \n",
      "=================================================================\n",
      "Total params: 67\n",
      "Trainable params: 67\n",
      "Non-trainable params: 0\n",
      "_________________________________________________________________\n"
     ]
    }
   ],
   "source": [
    "model3 = Sequential()\n",
    "model3.add(Dense(5, input_dim=10, activation='relu'))\n",
    "model3.add(Dense(2, activation='softmax'))\n",
    "model3.summary()"
   ]
  },
  {
   "cell_type": "code",
   "execution_count": 41,
   "metadata": {},
   "outputs": [
    {
     "name": "stdout",
     "output_type": "stream",
     "text": [
      "Train on 800 samples, validate on 200 samples\n",
      "Epoch 1/50\n",
      "800/800 [==============================] - 0s 394us/step - loss: 2.8659 - acc: 0.6175 - val_loss: 2.3376 - val_acc: 0.6250\n",
      "Epoch 2/50\n",
      "800/800 [==============================] - 0s 37us/step - loss: 2.3240 - acc: 0.6163 - val_loss: 1.8308 - val_acc: 0.6250\n",
      "Epoch 3/50\n",
      "800/800 [==============================] - 0s 35us/step - loss: 1.7958 - acc: 0.6150 - val_loss: 1.3995 - val_acc: 0.6350\n",
      "Epoch 4/50\n",
      "800/800 [==============================] - 0s 35us/step - loss: 1.2616 - acc: 0.5925 - val_loss: 0.9194 - val_acc: 0.6450\n",
      "Epoch 5/50\n",
      "800/800 [==============================] - 0s 36us/step - loss: 0.8170 - acc: 0.6238 - val_loss: 0.6392 - val_acc: 0.6900\n",
      "Epoch 6/50\n",
      "800/800 [==============================] - 0s 38us/step - loss: 0.6473 - acc: 0.6600 - val_loss: 0.6249 - val_acc: 0.6900\n",
      "Epoch 7/50\n",
      "800/800 [==============================] - 0s 38us/step - loss: 0.6302 - acc: 0.6625 - val_loss: 0.6144 - val_acc: 0.6950\n",
      "Epoch 8/50\n",
      "800/800 [==============================] - 0s 38us/step - loss: 0.6218 - acc: 0.6663 - val_loss: 0.6065 - val_acc: 0.6900\n",
      "Epoch 9/50\n",
      "800/800 [==============================] - 0s 39us/step - loss: 0.6158 - acc: 0.6675 - val_loss: 0.5999 - val_acc: 0.6950\n",
      "Epoch 10/50\n",
      "800/800 [==============================] - 0s 38us/step - loss: 0.6136 - acc: 0.6738 - val_loss: 0.5911 - val_acc: 0.7150\n",
      "Epoch 11/50\n",
      "800/800 [==============================] - 0s 39us/step - loss: 0.6071 - acc: 0.6788 - val_loss: 0.5852 - val_acc: 0.7150\n",
      "Epoch 12/50\n",
      "800/800 [==============================] - 0s 41us/step - loss: 0.6034 - acc: 0.6825 - val_loss: 0.5815 - val_acc: 0.7300\n",
      "Epoch 13/50\n",
      "800/800 [==============================] - 0s 37us/step - loss: 0.5993 - acc: 0.6863 - val_loss: 0.5749 - val_acc: 0.7350\n",
      "Epoch 14/50\n",
      "800/800 [==============================] - 0s 37us/step - loss: 0.5971 - acc: 0.6913 - val_loss: 0.5723 - val_acc: 0.7350\n",
      "Epoch 15/50\n",
      "800/800 [==============================] - 0s 40us/step - loss: 0.5946 - acc: 0.6925 - val_loss: 0.5690 - val_acc: 0.7300\n",
      "Epoch 16/50\n",
      "800/800 [==============================] - 0s 36us/step - loss: 0.5919 - acc: 0.6950 - val_loss: 0.5635 - val_acc: 0.7400\n",
      "Epoch 17/50\n",
      "800/800 [==============================] - 0s 35us/step - loss: 0.5899 - acc: 0.6963 - val_loss: 0.5606 - val_acc: 0.7400\n",
      "Epoch 18/50\n",
      "800/800 [==============================] - 0s 38us/step - loss: 0.5879 - acc: 0.6938 - val_loss: 0.5557 - val_acc: 0.7400\n",
      "Epoch 19/50\n",
      "800/800 [==============================] - 0s 39us/step - loss: 0.5853 - acc: 0.6950 - val_loss: 0.5536 - val_acc: 0.7400\n",
      "Epoch 20/50\n",
      "800/800 [==============================] - 0s 36us/step - loss: 0.5835 - acc: 0.6950 - val_loss: 0.5503 - val_acc: 0.7400\n",
      "Epoch 21/50\n",
      "800/800 [==============================] - 0s 36us/step - loss: 0.5812 - acc: 0.6950 - val_loss: 0.5461 - val_acc: 0.7400\n",
      "Epoch 22/50\n",
      "800/800 [==============================] - 0s 39us/step - loss: 0.5805 - acc: 0.6938 - val_loss: 0.5450 - val_acc: 0.7400\n",
      "Epoch 23/50\n",
      "800/800 [==============================] - 0s 40us/step - loss: 0.5786 - acc: 0.6938 - val_loss: 0.5448 - val_acc: 0.7350\n",
      "Epoch 24/50\n",
      "800/800 [==============================] - 0s 35us/step - loss: 0.5772 - acc: 0.6975 - val_loss: 0.5405 - val_acc: 0.7350\n",
      "Epoch 25/50\n",
      "800/800 [==============================] - 0s 35us/step - loss: 0.5740 - acc: 0.6963 - val_loss: 0.5336 - val_acc: 0.7450\n",
      "Epoch 26/50\n",
      "800/800 [==============================] - 0s 36us/step - loss: 0.5723 - acc: 0.6962 - val_loss: 0.5325 - val_acc: 0.7450\n",
      "Epoch 27/50\n",
      "800/800 [==============================] - 0s 36us/step - loss: 0.5700 - acc: 0.7013 - val_loss: 0.5264 - val_acc: 0.7550\n",
      "Epoch 28/50\n",
      "800/800 [==============================] - 0s 38us/step - loss: 0.5682 - acc: 0.6988 - val_loss: 0.5240 - val_acc: 0.7500\n",
      "Epoch 29/50\n",
      "800/800 [==============================] - 0s 36us/step - loss: 0.5664 - acc: 0.7000 - val_loss: 0.5191 - val_acc: 0.7550\n",
      "Epoch 30/50\n",
      "800/800 [==============================] - 0s 36us/step - loss: 0.5665 - acc: 0.7063 - val_loss: 0.5215 - val_acc: 0.7400\n",
      "Epoch 31/50\n",
      "800/800 [==============================] - 0s 38us/step - loss: 0.5617 - acc: 0.7050 - val_loss: 0.5086 - val_acc: 0.7700\n",
      "Epoch 32/50\n",
      "800/800 [==============================] - 0s 41us/step - loss: 0.5610 - acc: 0.7050 - val_loss: 0.5104 - val_acc: 0.7550\n",
      "Epoch 33/50\n",
      "800/800 [==============================] - 0s 37us/step - loss: 0.5598 - acc: 0.7087 - val_loss: 0.5070 - val_acc: 0.7550\n",
      "Epoch 34/50\n",
      "800/800 [==============================] - 0s 39us/step - loss: 0.5597 - acc: 0.7175 - val_loss: 0.5102 - val_acc: 0.7650\n",
      "Epoch 35/50\n",
      "800/800 [==============================] - 0s 39us/step - loss: 0.5559 - acc: 0.7187 - val_loss: 0.4999 - val_acc: 0.7600\n",
      "Epoch 36/50\n",
      "800/800 [==============================] - 0s 35us/step - loss: 0.5563 - acc: 0.7063 - val_loss: 0.5073 - val_acc: 0.7650\n",
      "Epoch 37/50\n",
      "800/800 [==============================] - 0s 36us/step - loss: 0.5562 - acc: 0.7138 - val_loss: 0.4959 - val_acc: 0.7650\n",
      "Epoch 38/50\n",
      "800/800 [==============================] - 0s 36us/step - loss: 0.5519 - acc: 0.7175 - val_loss: 0.4974 - val_acc: 0.7700\n",
      "Epoch 39/50\n",
      "800/800 [==============================] - 0s 40us/step - loss: 0.5519 - acc: 0.7212 - val_loss: 0.4930 - val_acc: 0.7700\n",
      "Epoch 40/50\n",
      "800/800 [==============================] - 0s 40us/step - loss: 0.5481 - acc: 0.7263 - val_loss: 0.4848 - val_acc: 0.7850\n",
      "Epoch 41/50\n",
      "800/800 [==============================] - 0s 39us/step - loss: 0.5467 - acc: 0.7275 - val_loss: 0.4841 - val_acc: 0.7950\n",
      "Epoch 42/50\n",
      "800/800 [==============================] - 0s 40us/step - loss: 0.5444 - acc: 0.7300 - val_loss: 0.4790 - val_acc: 0.7850\n",
      "Epoch 43/50\n",
      "800/800 [==============================] - 0s 38us/step - loss: 0.5422 - acc: 0.7288 - val_loss: 0.4757 - val_acc: 0.7950\n",
      "Epoch 44/50\n",
      "800/800 [==============================] - 0s 37us/step - loss: 0.5394 - acc: 0.7388 - val_loss: 0.4752 - val_acc: 0.8000\n",
      "Epoch 45/50\n",
      "800/800 [==============================] - 0s 35us/step - loss: 0.5387 - acc: 0.7363 - val_loss: 0.4680 - val_acc: 0.8050\n",
      "Epoch 46/50\n",
      "800/800 [==============================] - 0s 36us/step - loss: 0.5369 - acc: 0.7438 - val_loss: 0.4629 - val_acc: 0.8000\n",
      "Epoch 47/50\n",
      "800/800 [==============================] - 0s 39us/step - loss: 0.5348 - acc: 0.7475 - val_loss: 0.4702 - val_acc: 0.7950\n",
      "Epoch 48/50\n",
      "800/800 [==============================] - 0s 40us/step - loss: 0.5347 - acc: 0.7438 - val_loss: 0.4646 - val_acc: 0.7950\n",
      "Epoch 49/50\n",
      "800/800 [==============================] - 0s 37us/step - loss: 0.5341 - acc: 0.7450 - val_loss: 0.4533 - val_acc: 0.8050\n",
      "Epoch 50/50\n",
      "800/800 [==============================] - 0s 37us/step - loss: 0.5294 - acc: 0.7450 - val_loss: 0.4580 - val_acc: 0.8000\n"
     ]
    }
   ],
   "source": [
    "model3.compile(loss='binary_crossentropy', optimizer='adam', metrics=['accuracy'])\n",
    "train_history3 = model3.fit(x=trainX2, y=trainY2, validation_split=0.2, epochs=50, batch_size=30, verbose=1)"
   ]
  },
  {
   "cell_type": "code",
   "execution_count": 42,
   "metadata": {},
   "outputs": [
    {
     "data": {
      "image/png": "[encoded data removed]",
      "text/plain": [
       "<Figure size 432x288 with 1 Axes>"
      ]
     },
     "metadata": {
      "needs_background": "light"
     },
     "output_type": "display_data"
    }
   ],
   "source": [
    "show_train_history(train_history3, 'acc', 'val_acc')"
   ]
  },
  {
   "cell_type": "code",
   "execution_count": 43,
   "metadata": {},
   "outputs": [
    {
     "data": {
      "image/png": "[encoded data removed]",
      "text/plain": [
       "<Figure size 432x288 with 1 Axes>"
      ]
     },
     "metadata": {
      "needs_background": "light"
     },
     "output_type": "display_data"
    }
   ],
   "source": [
    "show_train_history(train_history3, 'loss', 'val_loss')"
   ]
  },
  {
   "cell_type": "code",
   "execution_count": 44,
   "metadata": {},
   "outputs": [
    {
     "name": "stdout",
     "output_type": "stream",
     "text": [
      "309/309 [==============================] - 0s 22us/step\n"
     ]
    },
    {
     "data": {
      "text/plain": [
       "0.8349514570822608"
      ]
     },
     "execution_count": 44,
     "metadata": {},
     "output_type": "execute_result"
    }
   ],
   "source": [
    "scores = model3.evaluate(x=testX2, y=testY2)\n",
    "scores[1]"
   ]
  }
 ],
 "metadata": {
  "kernelspec": {
   "display_name": "Python 3",
   "language": "python",
   "name": "python3"
  },
  "language_info": {
   "codemirror_mode": {
    "name": "ipython",
    "version": 3
   },
   "file_extension": ".py",
   "mimetype": "text/x-python",
   "name": "python",
   "nbconvert_exporter": "python",
   "pygments_lexer": "ipython3",
   "version": "3.5.5"
  }
 },
 "nbformat": 4,
 "nbformat_minor": 2
}
