{
 "cells": [
  {
   "cell_type": "markdown",
   "metadata": {},
   "source": [
    "# CNN"
   ]
  },
  {
   "cell_type": "markdown",
   "metadata": {},
   "source": [
    "### 1. MNIST"
   ]
  },
  {
   "cell_type": "code",
   "execution_count": 1,
   "metadata": {},
   "outputs": [
    {
     "name": "stderr",
     "output_type": "stream",
     "text": [
      "Using TensorFlow backend.\n"
     ]
    }
   ],
   "source": [
    "%matplotlib inline\n",
    "import matplotlib.pyplot as plt\n",
    "import keras\n",
    "from keras.datasets import mnist\n",
    "from keras.models import Sequential\n",
    "from keras.layers import Dense, Dropout, Flatten\n",
    "from keras.layers import Conv2D, MaxPooling2D\n",
    "from keras import backend as K\n",
    "from PIL import Image\n",
    "import numpy as np"
   ]
  },
  {
   "cell_type": "code",
   "execution_count": 2,
   "metadata": {},
   "outputs": [],
   "source": [
    "batch_size = 128\n",
    "num_classes = 10\n",
    "epochs = 12\n",
    "\n",
    "# input image dimensions\n",
    "img_rows, img_cols = 28, 28"
   ]
  },
  {
   "cell_type": "code",
   "execution_count": 3,
   "metadata": {},
   "outputs": [],
   "source": [
    "# the data, split between train and test sets\n",
    "(x_train, y_train), (x_test, y_test) = mnist.load_data()"
   ]
  },
  {
   "cell_type": "code",
   "execution_count": 4,
   "metadata": {},
   "outputs": [],
   "source": [
    "# 轉換成CNN可接受的維度\n",
    "if K.image_data_format() == 'channels_first':\n",
    "    x_train = x_train.reshape(x_train.shape[0], 1, img_rows, img_cols)\n",
    "    x_test = x_test.reshape(x_test.shape[0], 1, img_rows, img_cols)\n",
    "    input_shape = (1, img_rows, img_cols)\n",
    "else:\n",
    "    x_train = x_train.reshape(x_train.shape[0], img_rows, img_cols, 1)\n",
    "    x_test = x_test.reshape(x_test.shape[0], img_rows, img_cols, 1)\n",
    "    input_shape = (img_rows, img_cols, 1)"
   ]
  },
  {
   "cell_type": "markdown",
   "metadata": {},
   "source": [
    "### 標準化 for CNN"
   ]
  },
  {
   "cell_type": "code",
   "execution_count": 5,
   "metadata": {},
   "outputs": [
    {
     "name": "stdout",
     "output_type": "stream",
     "text": [
      "x_train shape: (60000, 28, 28, 1)\n",
      "60000 train samples\n",
      "10000 test samples\n"
     ]
    }
   ],
   "source": [
    "x_train = x_train.astype('float32')\n",
    "x_test = x_test.astype('float32')\n",
    "x_train /= 255\n",
    "x_test /= 255\n",
    "print('x_train shape:', x_train.shape)\n",
    "print(x_train.shape[0], 'train samples')\n",
    "print(x_test.shape[0], 'test samples')"
   ]
  },
  {
   "cell_type": "markdown",
   "metadata": {},
   "source": [
    "### One Hot"
   ]
  },
  {
   "cell_type": "code",
   "execution_count": 6,
   "metadata": {},
   "outputs": [],
   "source": [
    "# convert class vectors to binary class matrices, one-hot\n",
    "y_train_ohe = keras.utils.to_categorical(y_train, num_classes)\n",
    "y_test_ohe = keras.utils.to_categorical(y_test, num_classes)"
   ]
  },
  {
   "cell_type": "code",
   "execution_count": 7,
   "metadata": {},
   "outputs": [
    {
     "data": {
      "text/plain": [
       "(10000,)"
      ]
     },
     "execution_count": 7,
     "metadata": {},
     "output_type": "execute_result"
    }
   ],
   "source": [
    "y_test.shape"
   ]
  },
  {
   "cell_type": "code",
   "execution_count": 8,
   "metadata": {},
   "outputs": [
    {
     "data": {
      "text/plain": [
       "2"
      ]
     },
     "execution_count": 8,
     "metadata": {},
     "output_type": "execute_result"
    }
   ],
   "source": [
    "y_test[1]"
   ]
  },
  {
   "cell_type": "code",
   "execution_count": 12,
   "metadata": {},
   "outputs": [
    {
     "data": {
      "text/plain": [
       "array([7, 2, 1, ..., 4, 5, 6], dtype=uint8)"
      ]
     },
     "execution_count": 12,
     "metadata": {},
     "output_type": "execute_result"
    }
   ],
   "source": [
    "# np array not Series\n",
    "y_test"
   ]
  },
  {
   "cell_type": "code",
   "execution_count": 7,
   "metadata": {},
   "outputs": [],
   "source": [
    "# 標記是6的\n",
    "index = np.where(y_train==6)[0]\n",
    "y_train6 = np.zeros(len(x_train))\n",
    "y_train6[index] = 1\n",
    "\n",
    "index_test = np.where(y_test==6)[0]\n",
    "y_test6 = np.zeros(len(x_test))\n",
    "y_test6[index_test] = 1"
   ]
  },
  {
   "cell_type": "code",
   "execution_count": 10,
   "metadata": {},
   "outputs": [
    {
     "data": {
      "image/png": "[encoded data removed]",
      "text/plain": [
       "<Figure size 432x288 with 1 Axes>"
      ]
     },
     "metadata": {
      "needs_background": "light"
     },
     "output_type": "display_data"
    }
   ],
   "source": [
    "def display_img(num):\n",
    "    # print(y_train[num])\n",
    "    label = y_train_ohe[num].argmax(axis=0)\n",
    "    image = x_train[num].reshape([28, 28])\n",
    "    plt.title('Sample: %d Label: %d' % (num, label))\n",
    "    plt.imshow(image, cmap='gray')\n",
    "    \n",
    "display_img(0)"
   ]
  },
  {
   "cell_type": "markdown",
   "metadata": {},
   "source": [
    "### DNN model/ MLP\n",
    "分辨六出來"
   ]
  },
  {
   "cell_type": "code",
   "execution_count": 8,
   "metadata": {},
   "outputs": [],
   "source": [
    "flat_img = img_rows * img_cols\n",
    "model_MLP = Sequential()\n",
    "model_MLP.add(Dense(256, input_dim=flat_img, activation='relu'))\n",
    "model_MLP.add(Dense(1, activation='sigmoid'))\n",
    "model_MLP.compile(loss='binary_crossentropy', optimizer='adam', metrics=['accuracy'])"
   ]
  },
  {
   "cell_type": "code",
   "execution_count": 9,
   "metadata": {},
   "outputs": [
    {
     "data": {
      "text/plain": [
       "(60000, 784)"
      ]
     },
     "execution_count": 9,
     "metadata": {},
     "output_type": "execute_result"
    }
   ],
   "source": [
    "# 將 training 的 input 資料轉為2維(照片被拉直)\n",
    "X_train_2D = x_train.reshape(60000, 28 * 28).astype('float32')\n",
    "X_test_2D = x_test.reshape(10000, 28 * 28).astype('float32')\n",
    "X_train_2D.shape"
   ]
  },
  {
   "cell_type": "code",
   "execution_count": 10,
   "metadata": {},
   "outputs": [],
   "source": [
    "# Split the dataset into the training set and the validation set\n",
    "# X_train_2D的每個像素都是0-255, 將其縮小成0-1\n",
    "x_Train_norm = X_train_2D / 255\n",
    "x_Test_norm = X_test_2D / 255"
   ]
  },
  {
   "cell_type": "code",
   "execution_count": 11,
   "metadata": {},
   "outputs": [
    {
     "name": "stdout",
     "output_type": "stream",
     "text": [
      "Train on 48000 samples, validate on 12000 samples\n",
      "Epoch 1/10\n",
      "48000/48000 [==============================] - 1s 12us/step - loss: 0.5155 - acc: 0.8900 - val_loss: 0.3558 - val_acc: 0.9025\n",
      "Epoch 2/10\n",
      "48000/48000 [==============================] - 0s 9us/step - loss: 0.3226 - acc: 0.9011 - val_loss: 0.3047 - val_acc: 0.9025\n",
      "Epoch 3/10\n",
      "48000/48000 [==============================] - 0s 9us/step - loss: 0.2985 - acc: 0.9011 - val_loss: 0.2845 - val_acc: 0.9025\n",
      "Epoch 4/10\n",
      "48000/48000 [==============================] - 0s 9us/step - loss: 0.2771 - acc: 0.9011 - val_loss: 0.2608 - val_acc: 0.9025\n",
      "Epoch 5/10\n",
      "48000/48000 [==============================] - 0s 9us/step - loss: 0.2510 - acc: 0.9011 - val_loss: 0.2310 - val_acc: 0.9025\n",
      "Epoch 6/10\n",
      "48000/48000 [==============================] - 0s 9us/step - loss: 0.2191 - acc: 0.9011 - val_loss: 0.1968 - val_acc: 0.9025\n",
      "Epoch 7/10\n",
      "48000/48000 [==============================] - 0s 9us/step - loss: 0.1871 - acc: 0.9011 - val_loss: 0.1675 - val_acc: 0.9025\n",
      "Epoch 8/10\n",
      "48000/48000 [==============================] - 0s 9us/step - loss: 0.1635 - acc: 0.9011 - val_loss: 0.1486 - val_acc: 0.9025\n",
      "Epoch 9/10\n",
      "48000/48000 [==============================] - 0s 9us/step - loss: 0.1480 - acc: 0.9011 - val_loss: 0.1362 - val_acc: 0.9025\n",
      "Epoch 10/10\n",
      "48000/48000 [==============================] - 0s 9us/step - loss: 0.1374 - acc: 0.9011 - val_loss: 0.1270 - val_acc: 0.9025\n"
     ]
    }
   ],
   "source": [
    "train_history_MLP = model_MLP.fit(x=x_Train_norm, y=y_train6, validation_split=0.2, epochs=10, batch_size=800, verbose=1)"
   ]
  },
  {
   "cell_type": "markdown",
   "metadata": {},
   "source": [
    "#### 分辨0到9"
   ]
  },
  {
   "cell_type": "code",
   "execution_count": 43,
   "metadata": {},
   "outputs": [
    {
     "name": "stdout",
     "output_type": "stream",
     "text": [
      "Train on 48000 samples, validate on 12000 samples\n",
      "Epoch 1/10\n",
      "48000/48000 [==============================] - 1s 15us/step - loss: 2.1994 - acc: 0.3630 - val_loss: 1.9279 - val_acc: 0.5463\n",
      "Epoch 2/10\n",
      "48000/48000 [==============================] - 0s 10us/step - loss: 1.4387 - acc: 0.6171 - val_loss: 1.0047 - val_acc: 0.7263\n",
      "Epoch 3/10\n",
      "48000/48000 [==============================] - 0s 10us/step - loss: 0.8534 - acc: 0.7500 - val_loss: 0.7014 - val_acc: 0.7997\n",
      "Epoch 4/10\n",
      "48000/48000 [==============================] - 0s 10us/step - loss: 0.6648 - acc: 0.7986 - val_loss: 0.5772 - val_acc: 0.8310\n",
      "Epoch 5/10\n",
      "48000/48000 [==============================] - 0s 10us/step - loss: 0.5670 - acc: 0.8293 - val_loss: 0.5001 - val_acc: 0.8567\n",
      "Epoch 6/10\n",
      "48000/48000 [==============================] - 0s 10us/step - loss: 0.5016 - acc: 0.8512 - val_loss: 0.4470 - val_acc: 0.8728\n",
      "Epoch 7/10\n",
      "48000/48000 [==============================] - 0s 10us/step - loss: 0.4508 - acc: 0.8683 - val_loss: 0.4073 - val_acc: 0.8839\n",
      "Epoch 8/10\n",
      "48000/48000 [==============================] - 0s 10us/step - loss: 0.4160 - acc: 0.8782 - val_loss: 0.3776 - val_acc: 0.8913\n",
      "Epoch 9/10\n",
      "48000/48000 [==============================] - 0s 10us/step - loss: 0.3903 - acc: 0.8872 - val_loss: 0.3583 - val_acc: 0.8969\n",
      "Epoch 10/10\n",
      "48000/48000 [==============================] - 0s 10us/step - loss: 0.3711 - acc: 0.8920 - val_loss: 0.3413 - val_acc: 0.9011\n"
     ]
    }
   ],
   "source": [
    "model_MLP2 = Sequential()\n",
    "model_MLP2.add(Dense(256, input_dim=flat_img, activation='relu'))\n",
    "model_MLP2.add(Dense(128, activation='relu'))\n",
    "model_MLP2.add(Dense(10, activation='softmax'))\n",
    "model_MLP2.compile(loss='categorical_crossentropy', optimizer='adam', metrics=['accuracy'])\n",
    "train_history_MLP2 = model_MLP2.fit(x=x_Train_norm, y=y_train_ohe, validation_split=0.2, epochs=10, batch_size=800, verbose=1)"
   ]
  },
  {
   "cell_type": "markdown",
   "metadata": {},
   "source": [
    "### 用sparse當loss, 這樣就不用自行做one hot"
   ]
  },
  {
   "cell_type": "code",
   "execution_count": 48,
   "metadata": {},
   "outputs": [
    {
     "name": "stdout",
     "output_type": "stream",
     "text": [
      "Train on 42000 samples, validate on 18000 samples\n",
      "Epoch 1/10\n",
      "42000/42000 [==============================] - 2s 39us/step - loss: 1.1451 - acc: 0.6777 - val_loss: 0.5566 - val_acc: 0.8426\n",
      "Epoch 2/10\n",
      "42000/42000 [==============================] - 1s 32us/step - loss: 0.4700 - acc: 0.8653 - val_loss: 0.4039 - val_acc: 0.8791\n",
      "Epoch 3/10\n",
      "42000/42000 [==============================] - 1s 32us/step - loss: 0.3821 - acc: 0.8891 - val_loss: 0.3517 - val_acc: 0.8954\n",
      "Epoch 4/10\n",
      "42000/42000 [==============================] - 1s 32us/step - loss: 0.3447 - acc: 0.9004 - val_loss: 0.3259 - val_acc: 0.9038\n",
      "Epoch 5/10\n",
      "42000/42000 [==============================] - 1s 32us/step - loss: 0.3172 - acc: 0.9082 - val_loss: 0.2995 - val_acc: 0.9126\n",
      "Epoch 6/10\n",
      "42000/42000 [==============================] - 1s 33us/step - loss: 0.2946 - acc: 0.9147 - val_loss: 0.2847 - val_acc: 0.9157\n",
      "Epoch 7/10\n",
      "42000/42000 [==============================] - 1s 33us/step - loss: 0.2735 - acc: 0.9207 - val_loss: 0.2656 - val_acc: 0.9221\n",
      "Epoch 8/10\n",
      "42000/42000 [==============================] - 1s 33us/step - loss: 0.2518 - acc: 0.9275 - val_loss: 0.2495 - val_acc: 0.9276\n",
      "Epoch 9/10\n",
      "42000/42000 [==============================] - 1s 33us/step - loss: 0.2315 - acc: 0.9326 - val_loss: 0.2324 - val_acc: 0.9323\n",
      "Epoch 10/10\n",
      "42000/42000 [==============================] - 1s 33us/step - loss: 0.2139 - acc: 0.9374 - val_loss: 0.2133 - val_acc: 0.9384\n"
     ]
    }
   ],
   "source": [
    "model_MLP3 = Sequential()\n",
    "model_MLP3.add(Dense(256, input_dim=flat_img, activation='relu'))\n",
    "model_MLP3.add(Dense(128, activation='relu'))\n",
    "model_MLP3.add(Dense(10, activation='softmax'))\n",
    "model_MLP3.compile(loss='sparse_categorical_crossentropy', optimizer='adam', metrics=['accuracy'])\n",
    "train_history_MLP3 = model_MLP3.fit(x=x_Train_norm, y=y_train, validation_split=0.3, epochs=10, batch_size=100, verbose=1)"
   ]
  },
  {
   "cell_type": "markdown",
   "metadata": {},
   "source": [
    "### 作圖"
   ]
  },
  {
   "cell_type": "code",
   "execution_count": 12,
   "metadata": {},
   "outputs": [],
   "source": [
    "def show_train_history(train_history, train, validation):\n",
    "    plt.plot(train_history.history[train])\n",
    "    plt.plot(train_history.history[validation])\n",
    "    plt.title('Train History')\n",
    "    plt.ylabel(train)\n",
    "    plt.xlabel('Epoch')\n",
    "    plt.legend(['train', 'validation'], loc='center right')\n",
    "    plt.show()"
   ]
  },
  {
   "cell_type": "code",
   "execution_count": 13,
   "metadata": {},
   "outputs": [
    {
     "data": {
      "image/png": "[encoded data removed]",
      "text/plain": [
       "<Figure size 432x288 with 1 Axes>"
      ]
     },
     "metadata": {
      "needs_background": "light"
     },
     "output_type": "display_data"
    }
   ],
   "source": [
    "show_train_history(train_history_MLP, 'loss', 'val_loss')"
   ]
  },
  {
   "cell_type": "code",
   "execution_count": 14,
   "metadata": {},
   "outputs": [
    {
     "data": {
      "image/png": "[encoded data removed]",
      "text/plain": [
       "<Figure size 432x288 with 1 Axes>"
      ]
     },
     "metadata": {
      "needs_background": "light"
     },
     "output_type": "display_data"
    }
   ],
   "source": [
    "show_train_history(train_history_MLP, 'acc', 'val_acc')"
   ]
  },
  {
   "cell_type": "markdown",
   "metadata": {},
   "source": [
    "### 分辨0-9"
   ]
  },
  {
   "cell_type": "code",
   "execution_count": 45,
   "metadata": {},
   "outputs": [
    {
     "data": {
      "image/png": "[encoded data removed]",
      "text/plain": [
       "<Figure size 432x288 with 1 Axes>"
      ]
     },
     "metadata": {
      "needs_background": "light"
     },
     "output_type": "display_data"
    }
   ],
   "source": [
    "show_train_history(train_history_MLP2, 'loss', 'val_loss')"
   ]
  },
  {
   "cell_type": "code",
   "execution_count": 46,
   "metadata": {},
   "outputs": [
    {
     "data": {
      "image/png": "[encoded data removed]",
      "text/plain": [
       "<Figure size 432x288 with 1 Axes>"
      ]
     },
     "metadata": {
      "needs_background": "light"
     },
     "output_type": "display_data"
    }
   ],
   "source": [
    "show_train_history(train_history_MLP2, 'acc', 'val_acc')"
   ]
  },
  {
   "cell_type": "code",
   "execution_count": 15,
   "metadata": {},
   "outputs": [
    {
     "data": {
      "text/plain": [
       "array([0.00694644], dtype=float32)"
      ]
     },
     "execution_count": 15,
     "metadata": {},
     "output_type": "execute_result"
    }
   ],
   "source": [
    "prediction = model_MLP.predict(x_Test_norm )\n",
    "prediction[0]"
   ]
  },
  {
   "cell_type": "code",
   "execution_count": 21,
   "metadata": {},
   "outputs": [
    {
     "data": {
      "text/plain": [
       "(10000, 1)"
      ]
     },
     "execution_count": 21,
     "metadata": {},
     "output_type": "execute_result"
    }
   ],
   "source": [
    "prediction.shape"
   ]
  },
  {
   "cell_type": "markdown",
   "metadata": {},
   "source": [
    "### Confusion Matrix"
   ]
  },
  {
   "cell_type": "code",
   "execution_count": 16,
   "metadata": {},
   "outputs": [
    {
     "data": {
      "text/html": [
       "<div>\n",
       "<style scoped>\n",
       "    .dataframe tbody tr th:only-of-type {\n",
       "        vertical-align: middle;\n",
       "    }\n",
       "\n",
       "    .dataframe tbody tr th {\n",
       "        vertical-align: top;\n",
       "    }\n",
       "\n",
       "    .dataframe thead th {\n",
       "        text-align: right;\n",
       "    }\n",
       "</style>\n",
       "<table border=\"1\" class=\"dataframe\">\n",
       "  <thead>\n",
       "    <tr style=\"text-align: right;\">\n",
       "      <th>Predict</th>\n",
       "      <th>0.0003191999567206949</th>\n",
       "      <th>0.00041234149830415845</th>\n",
       "      <th>0.00049004697939381</th>\n",
       "      <th>0.0005154496757313609</th>\n",
       "      <th>0.0005177756538614631</th>\n",
       "      <th>0.0005429120501503348</th>\n",
       "      <th>0.0005489735049195588</th>\n",
       "      <th>0.0005670791724696755</th>\n",
       "      <th>0.0005676188156940043</th>\n",
       "      <th>0.000583227607421577</th>\n",
       "      <th>...</th>\n",
       "      <th>0.4962927997112274</th>\n",
       "      <th>0.49630168080329895</th>\n",
       "      <th>0.49630501866340637</th>\n",
       "      <th>0.49630942940711975</th>\n",
       "      <th>0.4963096082210541</th>\n",
       "      <th>0.49631601572036743</th>\n",
       "      <th>0.4963165819644928</th>\n",
       "      <th>0.4963430166244507</th>\n",
       "      <th>0.49634531140327454</th>\n",
       "      <th>0.49634602665901184</th>\n",
       "    </tr>\n",
       "    <tr>\n",
       "      <th>Label</th>\n",
       "      <th></th>\n",
       "      <th></th>\n",
       "      <th></th>\n",
       "      <th></th>\n",
       "      <th></th>\n",
       "      <th></th>\n",
       "      <th></th>\n",
       "      <th></th>\n",
       "      <th></th>\n",
       "      <th></th>\n",
       "      <th></th>\n",
       "      <th></th>\n",
       "      <th></th>\n",
       "      <th></th>\n",
       "      <th></th>\n",
       "      <th></th>\n",
       "      <th></th>\n",
       "      <th></th>\n",
       "      <th></th>\n",
       "      <th></th>\n",
       "      <th></th>\n",
       "    </tr>\n",
       "  </thead>\n",
       "  <tbody>\n",
       "    <tr>\n",
       "      <th>0.0</th>\n",
       "      <td>1</td>\n",
       "      <td>1</td>\n",
       "      <td>1</td>\n",
       "      <td>1</td>\n",
       "      <td>1</td>\n",
       "      <td>1</td>\n",
       "      <td>1</td>\n",
       "      <td>1</td>\n",
       "      <td>1</td>\n",
       "      <td>1</td>\n",
       "      <td>...</td>\n",
       "      <td>0</td>\n",
       "      <td>0</td>\n",
       "      <td>0</td>\n",
       "      <td>0</td>\n",
       "      <td>0</td>\n",
       "      <td>0</td>\n",
       "      <td>0</td>\n",
       "      <td>0</td>\n",
       "      <td>0</td>\n",
       "      <td>5</td>\n",
       "    </tr>\n",
       "    <tr>\n",
       "      <th>1.0</th>\n",
       "      <td>0</td>\n",
       "      <td>0</td>\n",
       "      <td>0</td>\n",
       "      <td>0</td>\n",
       "      <td>0</td>\n",
       "      <td>0</td>\n",
       "      <td>0</td>\n",
       "      <td>0</td>\n",
       "      <td>0</td>\n",
       "      <td>0</td>\n",
       "      <td>...</td>\n",
       "      <td>1</td>\n",
       "      <td>1</td>\n",
       "      <td>1</td>\n",
       "      <td>1</td>\n",
       "      <td>1</td>\n",
       "      <td>1</td>\n",
       "      <td>1</td>\n",
       "      <td>1</td>\n",
       "      <td>1</td>\n",
       "      <td>484</td>\n",
       "    </tr>\n",
       "  </tbody>\n",
       "</table>\n",
       "<p>2 rows × 9507 columns</p>\n",
       "</div>"
      ],
      "text/plain": [
       "Predict  0.000319  0.000412  0.000490  0.000515  0.000518  0.000543  0.000549  \\\n",
       "Label                                                                           \n",
       "0.0             1         1         1         1         1         1         1   \n",
       "1.0             0         0         0         0         0         0         0   \n",
       "\n",
       "Predict  0.000567  0.000568  0.000583    ...     0.496293  0.496302  0.496305  \\\n",
       "Label                                    ...                                    \n",
       "0.0             1         1         1    ...            0         0         0   \n",
       "1.0             0         0         0    ...            1         1         1   \n",
       "\n",
       "Predict  0.496309  0.496310  0.496316  0.496317  0.496343  0.496345  0.496346  \n",
       "Label                                                                          \n",
       "0.0             0         0         0         0         0         0         5  \n",
       "1.0             1         1         1         1         1         1       484  \n",
       "\n",
       "[2 rows x 9507 columns]"
      ]
     },
     "execution_count": 16,
     "metadata": {},
     "output_type": "execute_result"
    }
   ],
   "source": [
    "import pandas as pd\n",
    "\n",
    "pd.crosstab(y_test6, prediction[:, 0], rownames=['Label'], colnames=['Predict'])"
   ]
  },
  {
   "cell_type": "markdown",
   "metadata": {},
   "source": [
    "### ROC\n",
    "> http://blog.changyy.org/2017/09/python-roc-receiver-operating.html"
   ]
  },
  {
   "cell_type": "code",
   "execution_count": 19,
   "metadata": {},
   "outputs": [],
   "source": [
    "from sklearn.metrics import roc_curve, auc\n",
    "fpr, tpr, threshold = roc_curve(y_test6, prediction[:, 0])\n",
    "roc_auc = auc(fpr, tpr)"
   ]
  },
  {
   "cell_type": "code",
   "execution_count": 38,
   "metadata": {},
   "outputs": [
    {
     "name": "stdout",
     "output_type": "stream",
     "text": [
      "0.9882711577010832\n"
     ]
    }
   ],
   "source": [
    "# print(fpr)\n",
    "# print(tpr)\n",
    "print(roc_auc)"
   ]
  },
  {
   "cell_type": "code",
   "execution_count": 21,
   "metadata": {},
   "outputs": [
    {
     "data": {
      "text/plain": [
       "<matplotlib.legend.Legend at 0x11c513828>"
      ]
     },
     "execution_count": 21,
     "metadata": {},
     "output_type": "execute_result"
    },
    {
     "data": {
      "image/png": "[encoded data removed]",
      "text/plain": [
       "<Figure size 432x288 with 1 Axes>"
      ]
     },
     "metadata": {
      "needs_background": "light"
     },
     "output_type": "display_data"
    }
   ],
   "source": [
    "fig = plt.figure()\n",
    "lw = 2\n",
    "plt.plot(fpr, tpr, color='darkorange', lw=lw, label='ROC curve (area = %0.2f)' % roc_auc)\n",
    "plt.plot([0, 1], [0, 1], color='navy', lw=lw, linestyle='--')\n",
    "# plt.xlim([0.0, 1.0])\n",
    "# plt.ylim([0.0, 1.05])\n",
    "plt.xlabel('False Positive Rate')\n",
    "plt.ylabel('True Positive Rate')\n",
    "plt.title('Receiver operating characteristic example')\n",
    "plt.legend(loc=\"lower right\")"
   ]
  },
  {
   "cell_type": "code",
   "execution_count": 41,
   "metadata": {},
   "outputs": [
    {
     "name": "stderr",
     "output_type": "stream",
     "text": [
      "/anaconda3/lib/python3.5/site-packages/sklearn/metrics/classification.py:1135: UndefinedMetricWarning: F-score is ill-defined and being set to 0.0 in labels with no predicted samples.\n",
      "  'precision', 'predicted', average, warn_for)\n"
     ]
    },
    {
     "data": {
      "text/plain": [
       "array([0.94969016, 0.        ])"
      ]
     },
     "execution_count": 41,
     "metadata": {},
     "output_type": "execute_result"
    }
   ],
   "source": [
    "from sklearn.metrics import f1_score\n",
    "f1_score(y_test6, (prediction > 0.5).astype(int), average=None)"
   ]
  },
  {
   "cell_type": "markdown",
   "metadata": {},
   "source": [
    "### 手算TP/ TN等 (待補)"
   ]
  },
  {
   "cell_type": "markdown",
   "metadata": {},
   "source": [
    "### CNN model"
   ]
  },
  {
   "cell_type": "markdown",
   "metadata": {},
   "source": [
    "#### 官方推薦參數"
   ]
  },
  {
   "cell_type": "code",
   "execution_count": 55,
   "metadata": {},
   "outputs": [
    {
     "name": "stdout",
     "output_type": "stream",
     "text": [
      "_________________________________________________________________\n",
      "Layer (type)                 Output Shape              Param #   \n",
      "=================================================================\n",
      "conv2d_11 (Conv2D)           (None, 26, 26, 32)        320       \n",
      "_________________________________________________________________\n",
      "conv2d_12 (Conv2D)           (None, 24, 24, 64)        18496     \n",
      "_________________________________________________________________\n",
      "max_pooling2d_11 (MaxPooling (None, 12, 12, 64)        0         \n",
      "_________________________________________________________________\n",
      "dropout_11 (Dropout)         (None, 12, 12, 64)        0         \n",
      "_________________________________________________________________\n",
      "flatten_6 (Flatten)          (None, 9216)              0         \n",
      "_________________________________________________________________\n",
      "dense_27 (Dense)             (None, 128)               1179776   \n",
      "_________________________________________________________________\n",
      "dropout_12 (Dropout)         (None, 128)               0         \n",
      "_________________________________________________________________\n",
      "dense_28 (Dense)             (None, 10)                1290      \n",
      "=================================================================\n",
      "Total params: 1,199,882\n",
      "Trainable params: 1,199,882\n",
      "Non-trainable params: 0\n",
      "_________________________________________________________________\n"
     ]
    }
   ],
   "source": [
    "model_CNN = Sequential()\n",
    "model_CNN.add(Conv2D(32, kernel_size=(3, 3),\n",
    "                 activation='relu',\n",
    "                 input_shape=input_shape))\n",
    "model_CNN.add(Conv2D(64, (3, 3), activation='relu'))\n",
    "model_CNN.add(MaxPooling2D(pool_size=(2, 2)))\n",
    "model_CNN.add(Dropout(0.25))\n",
    "model_CNN.add(Flatten())\n",
    "# fully connect network\n",
    "model_CNN.add(Dense(128, activation='relu'))\n",
    "model_CNN.add(Dropout(0.5))\n",
    "model_CNN.add(Dense(num_classes, activation='softmax'))\n",
    "\n",
    "model_CNN.summary()"
   ]
  },
  {
   "cell_type": "code",
   "execution_count": null,
   "metadata": {},
   "outputs": [],
   "source": [
    "model.compile(loss=keras.losses.categorical_crossentropy,\n",
    "              optimizer=keras.optimizers.Adadelta(),\n",
    "              metrics=['accuracy'])\n",
    "\n",
    "train_history_CNN = model.fit(x_Train_norm, y_train_ohe,\n",
    "                          batch_size=batch_size,\n",
    "                          epochs=epochs,\n",
    "                          verbose=1,\n",
    "                          validation_data=(x_test, y_test))"
   ]
  },
  {
   "cell_type": "code",
   "execution_count": null,
   "metadata": {},
   "outputs": [],
   "source": [
    "score = model.evaluate(x_Test_norm, y_test, verbose=0)\n",
    "print('Test loss:', score[0])\n",
    "print('Test accuracy:', score[1])"
   ]
  },
  {
   "cell_type": "markdown",
   "metadata": {},
   "source": [
    "### 上課EX版"
   ]
  },
  {
   "cell_type": "code",
   "execution_count": 64,
   "metadata": {},
   "outputs": [
    {
     "name": "stdout",
     "output_type": "stream",
     "text": [
      "_________________________________________________________________\n",
      "Layer (type)                 Output Shape              Param #   \n",
      "=================================================================\n",
      "conv2d_19 (Conv2D)           (None, 26, 26, 5)         50        \n",
      "_________________________________________________________________\n",
      "max_pooling2d_16 (MaxPooling (None, 13, 13, 5)         0         \n",
      "_________________________________________________________________\n",
      "conv2d_20 (Conv2D)           (None, 11, 11, 10)        460       \n",
      "_________________________________________________________________\n",
      "max_pooling2d_17 (MaxPooling (None, 5, 5, 10)          0         \n",
      "_________________________________________________________________\n",
      "dropout_17 (Dropout)         (None, 5, 5, 10)          0         \n",
      "_________________________________________________________________\n",
      "conv2d_21 (Conv2D)           (None, 3, 3, 15)          1365      \n",
      "_________________________________________________________________\n",
      "flatten_9 (Flatten)          (None, 135)               0         \n",
      "_________________________________________________________________\n",
      "dense_33 (Dense)             (None, 128)               17408     \n",
      "_________________________________________________________________\n",
      "dropout_18 (Dropout)         (None, 128)               0         \n",
      "_________________________________________________________________\n",
      "dense_34 (Dense)             (None, 10)                1290      \n",
      "=================================================================\n",
      "Total params: 20,573\n",
      "Trainable params: 20,573\n",
      "Non-trainable params: 0\n",
      "_________________________________________________________________\n"
     ]
    }
   ],
   "source": [
    "model_CNN2 = Sequential()\n",
    "\n",
    "# param: 1(channel)*5*3*3 + 5(bias)\n",
    "model_CNN2.add(Conv2D(filters=5, kernel_size=(3, 3),\n",
    "                 activation='relu',\n",
    "                 input_shape=input_shape))\n",
    "# size/ 2\n",
    "model_CNN2.add(MaxPooling2D(pool_size=(2, 2)))\n",
    "\n",
    "# 縮寫, param: 3*3*5(前filter)*10 + 10\n",
    "model_CNN2.add(Conv2D(10, (3, 3), activation='relu'))\n",
    "model_CNN2.add(MaxPooling2D(pool_size=(2, 2)))\n",
    "model_CNN2.add(Dropout(0.25))\n",
    "\n",
    "# param: (3*3*10)*15 + 15\n",
    "model_CNN2.add(Conv2D(15, (3, 3), activation='relu'))\n",
    "\n",
    "model_CNN2.add(Flatten())\n",
    "# 15*128 + 128\n",
    "model_CNN2.add(Dense(128, activation='relu'))\n",
    "model_CNN2.add(Dropout(0.5))\n",
    "model_CNN2.add(Dense(num_classes, activation='softmax'))\n",
    "\n",
    "model_CNN2.summary()"
   ]
  },
  {
   "cell_type": "code",
   "execution_count": 70,
   "metadata": {},
   "outputs": [
    {
     "name": "stdout",
     "output_type": "stream",
     "text": [
      "Train on 48000 samples, validate on 12000 samples\n",
      "Epoch 1/12\n",
      "48000/48000 [==============================] - 5s 111us/step - loss: 0.8048 - acc: 0.7382 - val_loss: 0.1763 - val_acc: 0.9480\n",
      "Epoch 2/12\n",
      "48000/48000 [==============================] - 5s 96us/step - loss: 0.2881 - acc: 0.9121 - val_loss: 0.1246 - val_acc: 0.9620\n",
      "Epoch 3/12\n",
      "48000/48000 [==============================] - 5s 99us/step - loss: 0.2236 - acc: 0.9316 - val_loss: 0.1032 - val_acc: 0.9678\n",
      "Epoch 4/12\n",
      "48000/48000 [==============================] - 5s 98us/step - loss: 0.1913 - acc: 0.9414 - val_loss: 0.0924 - val_acc: 0.9714\n",
      "Epoch 5/12\n",
      "48000/48000 [==============================] - 5s 98us/step - loss: 0.1718 - acc: 0.9471 - val_loss: 0.0820 - val_acc: 0.9746\n",
      "Epoch 6/12\n",
      "48000/48000 [==============================] - 5s 99us/step - loss: 0.1614 - acc: 0.9503 - val_loss: 0.0755 - val_acc: 0.9775\n",
      "Epoch 7/12\n",
      "48000/48000 [==============================] - 5s 100us/step - loss: 0.1472 - acc: 0.9556 - val_loss: 0.0752 - val_acc: 0.9783\n",
      "Epoch 8/12\n",
      "48000/48000 [==============================] - 5s 101us/step - loss: 0.1466 - acc: 0.9554 - val_loss: 0.0704 - val_acc: 0.9788\n",
      "Epoch 9/12\n",
      "48000/48000 [==============================] - 5s 100us/step - loss: 0.1380 - acc: 0.9577 - val_loss: 0.0673 - val_acc: 0.9788\n",
      "Epoch 10/12\n",
      "48000/48000 [==============================] - 5s 100us/step - loss: 0.1301 - acc: 0.9608 - val_loss: 0.0630 - val_acc: 0.9804\n",
      "Epoch 11/12\n",
      "48000/48000 [==============================] - 5s 100us/step - loss: 0.1236 - acc: 0.9618 - val_loss: 0.0624 - val_acc: 0.9813\n",
      "Epoch 12/12\n",
      "48000/48000 [==============================] - 5s 100us/step - loss: 0.1231 - acc: 0.9622 - val_loss: 0.0599 - val_acc: 0.9807\n"
     ]
    }
   ],
   "source": [
    "model_CNN2.compile(loss='categorical_crossentropy',\n",
    "              optimizer='adam',\n",
    "              metrics=['accuracy'])\n",
    "\n",
    "train_history_CNN2 = model_CNN2.fit(x=x_train, y=y_train_ohe,\n",
    "                          batch_size=batch_size,\n",
    "                          epochs=epochs,\n",
    "                          verbose=1,\n",
    "                          validation_split=0.2)"
   ]
  },
  {
   "cell_type": "code",
   "execution_count": 71,
   "metadata": {},
   "outputs": [
    {
     "data": {
      "image/png": "[encoded data removed]",
      "text/plain": [
       "<Figure size 432x288 with 1 Axes>"
      ]
     },
     "metadata": {
      "needs_background": "light"
     },
     "output_type": "display_data"
    }
   ],
   "source": [
    "show_train_history(train_history_CNN2, 'loss', 'val_loss')"
   ]
  },
  {
   "cell_type": "code",
   "execution_count": 72,
   "metadata": {},
   "outputs": [
    {
     "data": {
      "image/png": "[encoded data removed]",
      "text/plain": [
       "<Figure size 432x288 with 1 Axes>"
      ]
     },
     "metadata": {
      "needs_background": "light"
     },
     "output_type": "display_data"
    }
   ],
   "source": [
    "show_train_history(train_history_CNN2, 'acc', 'val_acc')"
   ]
  },
  {
   "cell_type": "markdown",
   "metadata": {},
   "source": [
    "### 參數計算練習"
   ]
  },
  {
   "cell_type": "code",
   "execution_count": 74,
   "metadata": {},
   "outputs": [
    {
     "name": "stdout",
     "output_type": "stream",
     "text": [
      "_________________________________________________________________\n",
      "Layer (type)                 Output Shape              Param #   \n",
      "=================================================================\n",
      "conv2d_25 (Conv2D)           (None, 25, 25, 8)         392       \n",
      "_________________________________________________________________\n",
      "max_pooling2d_20 (MaxPooling (None, 12, 12, 8)         0         \n",
      "_________________________________________________________________\n",
      "conv2d_26 (Conv2D)           (None, 11, 10, 12)        588       \n",
      "_________________________________________________________________\n",
      "max_pooling2d_21 (MaxPooling (None, 5, 5, 12)          0         \n",
      "_________________________________________________________________\n",
      "conv2d_27 (Conv2D)           (None, 2, 3, 16)          2320      \n",
      "_________________________________________________________________\n",
      "max_pooling2d_22 (MaxPooling (None, 1, 1, 16)          0         \n",
      "_________________________________________________________________\n",
      "flatten_11 (Flatten)         (None, 16)                0         \n",
      "_________________________________________________________________\n",
      "dense_37 (Dense)             (None, 100)               1700      \n",
      "_________________________________________________________________\n",
      "dense_38 (Dense)             (None, 10)                1010      \n",
      "=================================================================\n",
      "Total params: 6,010\n",
      "Trainable params: 6,010\n",
      "Non-trainable params: 0\n",
      "_________________________________________________________________\n"
     ]
    }
   ],
   "source": [
    "model_CNN3 = Sequential()\n",
    "\n",
    "# conv output = input_size - kernel_size + 1\n",
    "\n",
    "# 3(rgb)*8*4*4* + 8 =392\n",
    "model_CNN3.add(Conv2D(filters=8, kernel_size=(4, 4),\n",
    "                 activation='relu',\n",
    "                 input_shape=(28,28,3)))\n",
    "# size/ 2\n",
    "model_CNN3.add(MaxPooling2D(pool_size=(2, 2)))\n",
    "\n",
    "# 縮寫, 8*(2*3*12) +12 \n",
    "model_CNN3.add(Conv2D(12, (2, 3), activation='relu'))\n",
    "model_CNN3.add(MaxPooling2D(pool_size=(2, 2)))\n",
    "\n",
    "# param: (4*3*16)*12 + 16 = 2320\n",
    "model_CNN3.add(Conv2D(16, (4, 3), activation='relu'))\n",
    "model_CNN3.add(MaxPooling2D(pool_size=(2, 2)))\n",
    "\n",
    "model_CNN3.add(Flatten())\n",
    "# 100*16 + 100\n",
    "model_CNN3.add(Dense(100, activation='relu'))\n",
    "# 100*10 + 10\n",
    "model_CNN3.add(Dense(num_classes, activation='softmax'))\n",
    "\n",
    "model_CNN3.summary()"
   ]
  },
  {
   "cell_type": "markdown",
   "metadata": {},
   "source": [
    "### 預測"
   ]
  },
  {
   "cell_type": "code",
   "execution_count": 77,
   "metadata": {},
   "outputs": [
    {
     "data": {
      "text/html": [
       "<div>\n",
       "<style scoped>\n",
       "    .dataframe tbody tr th:only-of-type {\n",
       "        vertical-align: middle;\n",
       "    }\n",
       "\n",
       "    .dataframe tbody tr th {\n",
       "        vertical-align: top;\n",
       "    }\n",
       "\n",
       "    .dataframe thead th {\n",
       "        text-align: right;\n",
       "    }\n",
       "</style>\n",
       "<table border=\"1\" class=\"dataframe\">\n",
       "  <thead>\n",
       "    <tr style=\"text-align: right;\">\n",
       "      <th>Predict</th>\n",
       "      <th>0</th>\n",
       "      <th>1</th>\n",
       "      <th>2</th>\n",
       "      <th>3</th>\n",
       "      <th>4</th>\n",
       "      <th>5</th>\n",
       "      <th>6</th>\n",
       "      <th>7</th>\n",
       "      <th>8</th>\n",
       "      <th>9</th>\n",
       "    </tr>\n",
       "    <tr>\n",
       "      <th>Label</th>\n",
       "      <th></th>\n",
       "      <th></th>\n",
       "      <th></th>\n",
       "      <th></th>\n",
       "      <th></th>\n",
       "      <th></th>\n",
       "      <th></th>\n",
       "      <th></th>\n",
       "      <th></th>\n",
       "      <th></th>\n",
       "    </tr>\n",
       "  </thead>\n",
       "  <tbody>\n",
       "    <tr>\n",
       "      <th>0</th>\n",
       "      <td>976</td>\n",
       "      <td>0</td>\n",
       "      <td>1</td>\n",
       "      <td>0</td>\n",
       "      <td>0</td>\n",
       "      <td>0</td>\n",
       "      <td>0</td>\n",
       "      <td>1</td>\n",
       "      <td>2</td>\n",
       "      <td>0</td>\n",
       "    </tr>\n",
       "    <tr>\n",
       "      <th>1</th>\n",
       "      <td>0</td>\n",
       "      <td>1128</td>\n",
       "      <td>1</td>\n",
       "      <td>1</td>\n",
       "      <td>0</td>\n",
       "      <td>0</td>\n",
       "      <td>1</td>\n",
       "      <td>2</td>\n",
       "      <td>2</td>\n",
       "      <td>0</td>\n",
       "    </tr>\n",
       "    <tr>\n",
       "      <th>2</th>\n",
       "      <td>1</td>\n",
       "      <td>1</td>\n",
       "      <td>1017</td>\n",
       "      <td>2</td>\n",
       "      <td>1</td>\n",
       "      <td>0</td>\n",
       "      <td>0</td>\n",
       "      <td>6</td>\n",
       "      <td>4</td>\n",
       "      <td>0</td>\n",
       "    </tr>\n",
       "    <tr>\n",
       "      <th>3</th>\n",
       "      <td>0</td>\n",
       "      <td>0</td>\n",
       "      <td>2</td>\n",
       "      <td>997</td>\n",
       "      <td>0</td>\n",
       "      <td>3</td>\n",
       "      <td>0</td>\n",
       "      <td>6</td>\n",
       "      <td>2</td>\n",
       "      <td>0</td>\n",
       "    </tr>\n",
       "    <tr>\n",
       "      <th>4</th>\n",
       "      <td>1</td>\n",
       "      <td>2</td>\n",
       "      <td>1</td>\n",
       "      <td>1</td>\n",
       "      <td>963</td>\n",
       "      <td>0</td>\n",
       "      <td>1</td>\n",
       "      <td>1</td>\n",
       "      <td>2</td>\n",
       "      <td>10</td>\n",
       "    </tr>\n",
       "    <tr>\n",
       "      <th>5</th>\n",
       "      <td>2</td>\n",
       "      <td>0</td>\n",
       "      <td>0</td>\n",
       "      <td>14</td>\n",
       "      <td>0</td>\n",
       "      <td>871</td>\n",
       "      <td>1</td>\n",
       "      <td>1</td>\n",
       "      <td>1</td>\n",
       "      <td>2</td>\n",
       "    </tr>\n",
       "    <tr>\n",
       "      <th>6</th>\n",
       "      <td>9</td>\n",
       "      <td>3</td>\n",
       "      <td>1</td>\n",
       "      <td>0</td>\n",
       "      <td>1</td>\n",
       "      <td>3</td>\n",
       "      <td>939</td>\n",
       "      <td>0</td>\n",
       "      <td>2</td>\n",
       "      <td>0</td>\n",
       "    </tr>\n",
       "    <tr>\n",
       "      <th>7</th>\n",
       "      <td>2</td>\n",
       "      <td>3</td>\n",
       "      <td>9</td>\n",
       "      <td>5</td>\n",
       "      <td>0</td>\n",
       "      <td>0</td>\n",
       "      <td>0</td>\n",
       "      <td>1005</td>\n",
       "      <td>1</td>\n",
       "      <td>3</td>\n",
       "    </tr>\n",
       "    <tr>\n",
       "      <th>8</th>\n",
       "      <td>7</td>\n",
       "      <td>0</td>\n",
       "      <td>4</td>\n",
       "      <td>5</td>\n",
       "      <td>0</td>\n",
       "      <td>3</td>\n",
       "      <td>0</td>\n",
       "      <td>6</td>\n",
       "      <td>942</td>\n",
       "      <td>7</td>\n",
       "    </tr>\n",
       "    <tr>\n",
       "      <th>9</th>\n",
       "      <td>4</td>\n",
       "      <td>4</td>\n",
       "      <td>0</td>\n",
       "      <td>5</td>\n",
       "      <td>5</td>\n",
       "      <td>5</td>\n",
       "      <td>0</td>\n",
       "      <td>9</td>\n",
       "      <td>2</td>\n",
       "      <td>975</td>\n",
       "    </tr>\n",
       "  </tbody>\n",
       "</table>\n",
       "</div>"
      ],
      "text/plain": [
       "Predict    0     1     2    3    4    5    6     7    8    9\n",
       "Label                                                       \n",
       "0        976     0     1    0    0    0    0     1    2    0\n",
       "1          0  1128     1    1    0    0    1     2    2    0\n",
       "2          1     1  1017    2    1    0    0     6    4    0\n",
       "3          0     0     2  997    0    3    0     6    2    0\n",
       "4          1     2     1    1  963    0    1     1    2   10\n",
       "5          2     0     0   14    0  871    1     1    1    2\n",
       "6          9     3     1    0    1    3  939     0    2    0\n",
       "7          2     3     9    5    0    0    0  1005    1    3\n",
       "8          7     0     4    5    0    3    0     6  942    7\n",
       "9          4     4     0    5    5    5    0     9    2  975"
      ]
     },
     "execution_count": 77,
     "metadata": {},
     "output_type": "execute_result"
    }
   ],
   "source": [
    "CNN_prediction = model_CNN2.predict_classes(x_test)\n",
    "pd.crosstab(y_test, CNN_prediction, rownames=['Label'], colnames=['Predict'])"
   ]
  },
  {
   "cell_type": "code",
   "execution_count": 78,
   "metadata": {},
   "outputs": [
    {
     "data": {
      "text/plain": [
       "array([7, 2, 1, ..., 4, 5, 6])"
      ]
     },
     "execution_count": 78,
     "metadata": {},
     "output_type": "execute_result"
    }
   ],
   "source": [
    "# 反轉one hot回來\n",
    "np.argmax(y_test_ohe, axis=1)"
   ]
  },
  {
   "cell_type": "markdown",
   "metadata": {},
   "source": [
    "### 印預測與實際的比較"
   ]
  },
  {
   "cell_type": "code",
   "execution_count": 79,
   "metadata": {},
   "outputs": [
    {
     "data": {
      "image/png": "[encoded data removed]",
      "text/plain": [
       "<Figure size 432x288 with 1 Axes>"
      ]
     },
     "metadata": {
      "needs_background": "light"
     },
     "output_type": "display_data"
    }
   ],
   "source": [
    "def print_predict(num):\n",
    "    label = y_test_ohe[num].argmax(axis=0)\n",
    "    image = x_test[num].reshape([28, 28])\n",
    "    predict = CNN_prediction[num]\n",
    "    plt.title('Sample: %d Label: %d Predict: %d' % (num, label, predict))\n",
    "    plt.imshow(image, cmap='gray')\n",
    "    \n",
    "print_predict(0)"
   ]
  },
  {
   "cell_type": "code",
   "execution_count": null,
   "metadata": {},
   "outputs": [],
   "source": []
  }
 ],
 "metadata": {
  "kernelspec": {
   "display_name": "Python 3",
   "language": "python",
   "name": "python3"
  },
  "language_info": {
   "codemirror_mode": {
    "name": "ipython",
    "version": 3
   },
   "file_extension": ".py",
   "mimetype": "text/x-python",
   "name": "python",
   "nbconvert_exporter": "python",
   "pygments_lexer": "ipython3",
   "version": "3.5.5"
  }
 },
 "nbformat": 4,
 "nbformat_minor": 2
}
