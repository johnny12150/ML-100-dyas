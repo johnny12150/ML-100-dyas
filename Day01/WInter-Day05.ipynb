{
 "cells": [
  {
   "cell_type": "markdown",
   "metadata": {},
   "source": [
    "### Keras MLP/ RNN/ LSTM - 分析情緒\n",
    "> https://ithelp.ithome.com.tw/articles/10206312\n"
   ]
  },
  {
   "cell_type": "markdown",
   "metadata": {},
   "source": [
    "### A.直接使用keras import dataset"
   ]
  },
  {
   "cell_type": "code",
   "execution_count": 1,
   "metadata": {},
   "outputs": [
    {
     "name": "stderr",
     "output_type": "stream",
     "text": [
      "Using TensorFlow backend.\n"
     ]
    }
   ],
   "source": [
    "from keras.models import Sequential\n",
    "from keras.layers.core import Dense, Dropout, Activation,Flatten\n",
    "from keras.layers.embeddings import Embedding\n",
    "from keras.datasets import imdb\n",
    "from keras.preprocessing import sequence\n",
    "from keras.preprocessing.text import Tokenizer\n",
    "import numpy as np\n",
    "import pandas as pd"
   ]
  },
  {
   "cell_type": "markdown",
   "metadata": {},
   "source": [
    "### B.另一種匯入資料方式(需要做以下區間)\n",
    "---"
   ]
  },
  {
   "cell_type": "code",
   "execution_count": null,
   "metadata": {},
   "outputs": [],
   "source": [
    "import urllib.request\n",
    "import os\n",
    "import tarfile\n",
    "\n",
    "url=\"http://ai.stanford.edu/~amaas/data/sentiment/aclImdb_v1.tar.gz\"\n",
    "filepath=\"IMDb/aclImdb_v1.tar.gz\"\n",
    "if not os.path.isfile(filepath):\n",
    "    result=urllib.request.urlretrieve(url,filepath)\n",
    "    print('downloaded:',result)"
   ]
  },
  {
   "cell_type": "markdown",
   "metadata": {},
   "source": [
    "#### 處理資料(將html的標籤刪除)"
   ]
  },
  {
   "cell_type": "code",
   "execution_count": null,
   "metadata": {},
   "outputs": [],
   "source": [
    "import re\n",
    "re_tag = re.compile(r'<[^>]+>')\n",
    "\n",
    "def rm_tags(text):\n",
    "    return re_tag.sub('', text)"
   ]
  },
  {
   "cell_type": "markdown",
   "metadata": {},
   "source": [
    "#### 確認資料是否存在(使用另一種載入資料時才需要)"
   ]
  },
  {
   "cell_type": "code",
   "execution_count": null,
   "metadata": {},
   "outputs": [],
   "source": [
    "import os\n",
    "def read_files(filetype):\n",
    "    path = \"data/aclImdb/\"\n",
    "    file_list=[]\n",
    "\n",
    "    positive_path=path + filetype+\"/pos/\"\n",
    "    for f in os.listdir(positive_path):\n",
    "        file_list+=[positive_path+f]\n",
    "    \n",
    "    negative_path=path + filetype+\"/neg/\"\n",
    "    for f in os.listdir(negative_path):\n",
    "        file_list+=[negative_path+f]\n",
    "        \n",
    "    print('read',filetype, 'files:',len(file_list))\n",
    "       \n",
    "    all_labels = ([1] * 12500 + [0] * 12500) \n",
    "    \n",
    "    all_texts  = []\n",
    "    \n",
    "    for fi in file_list:\n",
    "        with open(fi,encoding='utf8') as file_input:\n",
    "            all_texts += [rm_tags(\" \".join(file_input.readlines()))]\n",
    "            \n",
    "    return all_labels,all_texts"
   ]
  },
  {
   "cell_type": "markdown",
   "metadata": {},
   "source": [
    "#### 切割訓練&測試"
   ]
  },
  {
   "cell_type": "code",
   "execution_count": null,
   "metadata": {},
   "outputs": [],
   "source": [
    "y_train,train_text=read_files(\"train\")"
   ]
  },
  {
   "cell_type": "code",
   "execution_count": null,
   "metadata": {},
   "outputs": [],
   "source": [
    "y_test,test_text=read_files(\"test\")"
   ]
  },
  {
   "cell_type": "markdown",
   "metadata": {},
   "source": [
    "#### 建立字典(token)\n",
    "將`文字`轉化為`數字 list`"
   ]
  },
  {
   "cell_type": "code",
   "execution_count": null,
   "metadata": {},
   "outputs": [],
   "source": [
    "#先讀取所有文章建立dic，限制dic數量為nb_words=2500\n",
    "token = Tokenizer(num_words=2500)\n",
    "token.fit_on_texts(train_text)"
   ]
  },
  {
   "cell_type": "code",
   "execution_count": null,
   "metadata": {},
   "outputs": [],
   "source": [
    "token.word_index"
   ]
  },
  {
   "cell_type": "markdown",
   "metadata": {},
   "source": [
    "透過texts_to_sequences可以將訓練和測試集資料中的影評文字轉換為數字list"
   ]
  },
  {
   "cell_type": "code",
   "execution_count": null,
   "metadata": {},
   "outputs": [],
   "source": [
    "x_train_seq = token.texts_to_sequences(train_text)\n",
    "x_test_seq = token.texts_to_sequences(test_text)"
   ]
  },
  {
   "cell_type": "markdown",
   "metadata": {},
   "source": [
    "#### 截長補短"
   ]
  },
  {
   "cell_type": "markdown",
   "metadata": {},
   "source": [
    "maxlen設定一個句子的長度上限"
   ]
  },
  {
   "cell_type": "code",
   "execution_count": null,
   "metadata": {},
   "outputs": [],
   "source": [
    "x_train = sequence.pad_sequences(x_train_seq, maxlen=100)\n",
    "x_test  = sequence.pad_sequences(x_test_seq,  maxlen=100)"
   ]
  },
  {
   "cell_type": "markdown",
   "metadata": {},
   "source": [
    "---\n",
    "### 使用keras import dataset的, 以上都不用做"
   ]
  },
  {
   "cell_type": "markdown",
   "metadata": {},
   "source": [
    "#### 參數設定"
   ]
  },
  {
   "cell_type": "code",
   "execution_count": 7,
   "metadata": {},
   "outputs": [],
   "source": [
    "max_features = 25000\n",
    "# cut texts after this number of words (among top max_features most common words)\n",
    "maxlen = 100\n",
    "batch_size = 10"
   ]
  },
  {
   "cell_type": "markdown",
   "metadata": {},
   "source": [
    "#### Train, Test"
   ]
  },
  {
   "cell_type": "code",
   "execution_count": 3,
   "metadata": {},
   "outputs": [
    {
     "name": "stdout",
     "output_type": "stream",
     "text": [
      "Downloading data from https://s3.amazonaws.com/text-datasets/imdb.npz\n",
      "17465344/17464789 [==============================] - 27s 2us/step\n",
      "25000 train sequences\n"
     ]
    }
   ],
   "source": [
    "(x_train, y_train), (x_test, y_test) = imdb.load_data(num_words=max_features)\n",
    "print(len(x_train), 'train sequences')"
   ]
  },
  {
   "cell_type": "markdown",
   "metadata": {},
   "source": [
    "#### 截長補短"
   ]
  },
  {
   "cell_type": "code",
   "execution_count": 4,
   "metadata": {},
   "outputs": [
    {
     "name": "stdout",
     "output_type": "stream",
     "text": [
      "x_train shape: (25000, 100)\n"
     ]
    }
   ],
   "source": [
    "x_train = sequence.pad_sequences(x_train, maxlen=maxlen)\n",
    "x_test = sequence.pad_sequences(x_test, maxlen=maxlen)\n",
    "print('x_train shape:', x_train.shape)"
   ]
  },
  {
   "cell_type": "markdown",
   "metadata": {},
   "source": [
    "#### Embedding layer\n",
    "將`數字list`轉化為`vector list`"
   ]
  },
  {
   "cell_type": "markdown",
   "metadata": {},
   "source": [
    "### 1. MLP Model"
   ]
  },
  {
   "cell_type": "code",
   "execution_count": 8,
   "metadata": {},
   "outputs": [
    {
     "name": "stdout",
     "output_type": "stream",
     "text": [
      "_________________________________________________________________\n",
      "Layer (type)                 Output Shape              Param #   \n",
      "=================================================================\n",
      "embedding_2 (Embedding)      (None, 100, 32)           800000    \n",
      "_________________________________________________________________\n",
      "dropout_3 (Dropout)          (None, 100, 32)           0         \n",
      "_________________________________________________________________\n",
      "flatten_2 (Flatten)          (None, 3200)              0         \n",
      "_________________________________________________________________\n",
      "dense_3 (Dense)              (None, 256)               819456    \n",
      "_________________________________________________________________\n",
      "dropout_4 (Dropout)          (None, 256)               0         \n",
      "_________________________________________________________________\n",
      "dense_4 (Dense)              (None, 1)                 257       \n",
      "=================================================================\n",
      "Total params: 1,619,713\n",
      "Trainable params: 1,619,713\n",
      "Non-trainable params: 0\n",
      "_________________________________________________________________\n"
     ]
    }
   ],
   "source": [
    "model_MLP = Sequential()\n",
    "\n",
    "# input length由句子長度決定, input dim由字典數決定\n",
    "model_MLP.add(Embedding(output_dim=32, input_dim=max_features, input_length=100))\n",
    "model_MLP.add(Dropout(0.2))\n",
    "\n",
    "model_MLP.add(Flatten())\n",
    "\n",
    "model_MLP.add(Dense(units=256, activation='relu' ))\n",
    "model_MLP.add(Dropout(0.2))\n",
    "\n",
    "model_MLP.add(Dense(units=1, activation='sigmoid' ))\n",
    "\n",
    "model_MLP.summary()"
   ]
  },
  {
   "cell_type": "code",
   "execution_count": null,
   "metadata": {},
   "outputs": [],
   "source": [
    "model_MLP.compile(loss='binary_crossentropy', optimizer='adam', metrics=['accuracy'])\n",
    "train_history_MLP =model_MLP.fit(x_train, y_train,batch_size=100, epochs=epochs,verbose=2, validation_split=0.2)"
   ]
  },
  {
   "cell_type": "markdown",
   "metadata": {},
   "source": [
    "### 2. RNN Model"
   ]
  },
  {
   "cell_type": "markdown",
   "metadata": {},
   "source": [
    "### 3. LSTM Model"
   ]
  },
  {
   "cell_type": "markdown",
   "metadata": {},
   "source": [
    "#### LSTM\n",
    "* sigmoid 用在了各種gate上，產生0~1之間的值，這個一般只有sigmoid最直接了。\n",
    "* tanh 用在了狀態和輸出上，是對數據的處理，這個用其他激活函數或許也可以。\n",
    "\n",
    "![](https://github.com/c1mone/Tensorflow-101/blob/master/notebooks/images/11_Char_RNN/lstm_inner3.jpg?raw=true)"
   ]
  },
  {
   "cell_type": "code",
   "execution_count": null,
   "metadata": {},
   "outputs": [],
   "source": [
    "regressor = Sequential()\n",
    "# Adding the first LSTM layer and some Dropout regularisation\n",
    "regressor.add(LSTM(units = 50, return_sequences = True, input_shape = (X_train.shape[1], 1)))\n",
    "regressor.add(Dropout(0.2))\n",
    "\n",
    "# Adding a second LSTM layer and some Dropout regularisation\n",
    "regressor.add(LSTM(units = 50, return_sequences = True))\n",
    "regressor.add(Dropout(0.2))\n",
    "\n",
    "# Adding a third LSTM layer and some Dropout regularisation\n",
    "regressor.add(LSTM(units = 50, return_sequences = True))\n",
    "regressor.add(Dropout(0.2))\n",
    "\n",
    "# Adding a fourth LSTM layer and some Dropout regularisation\n",
    "regressor.add(LSTM(units = 50))\n",
    "regressor.add(Dropout(0.2))\n",
    "\n",
    "regressor.summary()"
   ]
  },
  {
   "cell_type": "markdown",
   "metadata": {},
   "source": [
    "### 作圖"
   ]
  },
  {
   "cell_type": "code",
   "execution_count": 12,
   "metadata": {},
   "outputs": [],
   "source": [
    "%matplotlib inline\n",
    "import matplotlib.pyplot as plt\n",
    "def show_train_history(train_history, train, validation):\n",
    "    plt.plot(train_history.history[train])\n",
    "    plt.plot(train_history.history[validation])\n",
    "    plt.title('Train History')\n",
    "    plt.ylabel(train)\n",
    "    plt.xlabel('Epoch')\n",
    "    plt.legend(['train', 'validation'], loc='center right')\n",
    "    plt.show()"
   ]
  },
  {
   "cell_type": "markdown",
   "metadata": {},
   "source": [
    "## EX02:Sine Wave"
   ]
  },
  {
   "cell_type": "code",
   "execution_count": 14,
   "metadata": {},
   "outputs": [
    {
     "data": {
      "text/plain": [
       "(3501, 100, 1)"
      ]
     },
     "execution_count": 14,
     "metadata": {},
     "output_type": "execute_result"
    }
   ],
   "source": [
    "X_Train, Y_Train, X_Test, Y_Test = np.load('X_train.npy'), np.load('y_train.npy'), np.load('X_test.npy'), \\\n",
    "                                   np.load('y_test.npy')\n",
    "X_Train.shape"
   ]
  },
  {
   "cell_type": "markdown",
   "metadata": {},
   "source": [
    "### Data為加過noise的sin波"
   ]
  },
  {
   "cell_type": "code",
   "execution_count": 13,
   "metadata": {},
   "outputs": [
    {
     "data": {
      "text/plain": [
       "[<matplotlib.lines.Line2D at 0x119b68940>]"
      ]
     },
     "execution_count": 13,
     "metadata": {},
     "output_type": "execute_result"
    },
    {
     "data": {
      "image/png": "[encoded data removed]",
      "text/plain": [
       "<Figure size 432x288 with 1 Axes>"
      ]
     },
     "metadata": {
      "needs_background": "light"
     },
     "output_type": "display_data"
    }
   ],
   "source": [
    "plt.plot(X_Train[0])"
   ]
  },
  {
   "cell_type": "markdown",
   "metadata": {},
   "source": [
    "![](./img/50151313_389894408240600_5542942560080625664_n.jpg)\n",
    "![](./img/50523390_380196406090325_379230223368978432_n.jpg)\n",
    "![](./img/50311043_372149636696120_8973390375993475072_n.jpg)\n",
    "![](./img/50407327_253654025531398_8837457100616499200_n.jpg)\n",
    "![](./img/50849936_322935635230775_5743113174517809152_n.jpg)"
   ]
  },
  {
   "cell_type": "code",
   "execution_count": 15,
   "metadata": {},
   "outputs": [],
   "source": [
    "inputNode = 1\n",
    "outputNode = 1\n",
    "# 一個node裡面會有10個cell, 讓輸出是10個數的vector\n",
    "hiddenNode = 10\n",
    "# recurrent 100次\n",
    "warmUp = 100"
   ]
  },
  {
   "cell_type": "code",
   "execution_count": 23,
   "metadata": {},
   "outputs": [
    {
     "name": "stdout",
     "output_type": "stream",
     "text": [
      "_________________________________________________________________\n",
      "Layer (type)                 Output Shape              Param #   \n",
      "=================================================================\n",
      "simple_rnn_4 (SimpleRNN)     (None, 10)                120       \n",
      "_________________________________________________________________\n",
      "dense_8 (Dense)              (None, 1)                 11        \n",
      "=================================================================\n",
      "Total params: 131\n",
      "Trainable params: 131\n",
      "Non-trainable params: 0\n",
      "_________________________________________________________________\n"
     ]
    }
   ],
   "source": [
    "from keras.layers.recurrent import SimpleRNN\n",
    "model_RNN2 = Sequential()\n",
    "\n",
    "# warmUp當timeStamp用, 看了100個後才predict 101, param: 11*10 + 10\n",
    "model_RNN2.add(SimpleRNN(hiddenNode, input_shape=(warmUp, inputNode), return_sequences=False))\n",
    "\n",
    "# sin wave的值域是1到-1\n",
    "model_RNN2.add(Dense(outputNode, activation='tanh'))\n",
    "\n",
    "model_RNN2.summary()\n",
    "\n",
    "model_RNN2.compile(loss='mse', optimizer='adam', metrics=['accuracy'])"
   ]
  },
  {
   "cell_type": "code",
   "execution_count": 24,
   "metadata": {},
   "outputs": [
    {
     "name": "stdout",
     "output_type": "stream",
     "text": [
      "Train on 3325 samples, validate on 176 samples\n",
      "Epoch 1/10\n",
      " - 2s - loss: 0.0548 - val_loss: 0.0154\n",
      "Epoch 2/10\n",
      " - 2s - loss: 0.0128 - val_loss: 0.0104\n",
      "Epoch 3/10\n",
      " - 2s - loss: 0.0101 - val_loss: 0.0089\n",
      "Epoch 4/10\n",
      " - 2s - loss: 0.0091 - val_loss: 0.0081\n",
      "Epoch 5/10\n",
      " - 2s - loss: 0.0084 - val_loss: 0.0074\n",
      "Epoch 6/10\n",
      " - 2s - loss: 0.0078 - val_loss: 0.0069\n",
      "Epoch 7/10\n",
      " - 2s - loss: 0.0074 - val_loss: 0.0064\n",
      "Epoch 8/10\n",
      " - 2s - loss: 0.0068 - val_loss: 0.0057\n",
      "Epoch 9/10\n",
      " - 2s - loss: 0.0060 - val_loss: 0.0052\n",
      "Epoch 10/10\n",
      " - 2s - loss: 0.0054 - val_loss: 0.0048\n"
     ]
    }
   ],
   "source": [
    "train_history_RNN2 = model_RNN2.fit(X_Train, Y_Train, batch_size=30, epochs=10, verbose=2, validation_split=0.05)"
   ]
  },
  {
   "cell_type": "code",
   "execution_count": 25,
   "metadata": {},
   "outputs": [],
   "source": [
    "prediction = model_RNN2.predict(X_Test)"
   ]
  },
  {
   "cell_type": "code",
   "execution_count": 26,
   "metadata": {},
   "outputs": [
    {
     "data": {
      "text/plain": [
       "[<matplotlib.lines.Line2D at 0xb2d285320>,\n",
       " <matplotlib.lines.Line2D at 0xb2d285470>]"
      ]
     },
     "execution_count": 26,
     "metadata": {},
     "output_type": "execute_result"
    },
    {
     "data": {
      "image/png": "[encoded data removed]",
      "text/plain": [
       "<Figure size 1080x360 with 1 Axes>"
      ]
     },
     "metadata": {
      "needs_background": "light"
     },
     "output_type": "display_data"
    }
   ],
   "source": [
    "dataDF = pd.DataFrame(prediction[:150])\n",
    "dataDF.columns = ['predict']\n",
    "dataDF['input'] = Y_Test[:150]\n",
    "plt.figure(figsize=(15, 5))\n",
    "plt.plot(dataDF)"
   ]
  },
  {
   "cell_type": "code",
   "execution_count": 28,
   "metadata": {},
   "outputs": [
    {
     "name": "stdout",
     "output_type": "stream",
     "text": [
      "_________________________________________________________________\n",
      "Layer (type)                 Output Shape              Param #   \n",
      "=================================================================\n",
      "lstm_1 (LSTM)                (None, 10)                480       \n",
      "_________________________________________________________________\n",
      "dense_9 (Dense)              (None, 1)                 11        \n",
      "=================================================================\n",
      "Total params: 491\n",
      "Trainable params: 491\n",
      "Non-trainable params: 0\n",
      "_________________________________________________________________\n"
     ]
    }
   ],
   "source": [
    "from keras.layers.recurrent import LSTM\n",
    "model_LSTM2 = Sequential()\n",
    "\n",
    "# warmUp當timeStamp用, 看了100個後才predict 101, param: 11*10 + 10\n",
    "model_LSTM2.add(LSTM(hiddenNode, input_shape=(warmUp, inputNode), return_sequences=False))\n",
    "\n",
    "# sin wave的值域是1到-1\n",
    "model_LSTM2.add(Dense(outputNode, activation='tanh'))\n",
    "\n",
    "model_LSTM2.summary()\n",
    "\n",
    "model_LSTM2.compile(loss='mse', optimizer='adam', metrics=['accuracy'])"
   ]
  },
  {
   "cell_type": "code",
   "execution_count": 31,
   "metadata": {},
   "outputs": [
    {
     "name": "stdout",
     "output_type": "stream",
     "text": [
      "Train on 3325 samples, validate on 176 samples\n",
      "Epoch 1/10\n",
      " - 6s - loss: 0.2782 - acc: 0.0000e+00 - val_loss: 0.1059 - val_acc: 0.0000e+00\n",
      "Epoch 2/10\n",
      " - 6s - loss: 0.0650 - acc: 3.0075e-04 - val_loss: 0.0279 - val_acc: 0.0000e+00\n",
      "Epoch 3/10\n",
      " - 6s - loss: 0.0181 - acc: 3.0075e-04 - val_loss: 0.0121 - val_acc: 0.0000e+00\n",
      "Epoch 4/10\n",
      " - 6s - loss: 0.0091 - acc: 3.0075e-04 - val_loss: 0.0066 - val_acc: 0.0000e+00\n",
      "Epoch 5/10\n",
      " - 6s - loss: 0.0051 - acc: 3.0075e-04 - val_loss: 0.0036 - val_acc: 0.0000e+00\n",
      "Epoch 6/10\n",
      " - 6s - loss: 0.0029 - acc: 3.0075e-04 - val_loss: 0.0022 - val_acc: 0.0000e+00\n",
      "Epoch 7/10\n",
      " - 6s - loss: 0.0020 - acc: 3.0075e-04 - val_loss: 0.0018 - val_acc: 0.0000e+00\n",
      "Epoch 8/10\n",
      " - 6s - loss: 0.0017 - acc: 3.0075e-04 - val_loss: 0.0016 - val_acc: 0.0000e+00\n",
      "Epoch 9/10\n",
      " - 6s - loss: 0.0015 - acc: 3.0075e-04 - val_loss: 0.0013 - val_acc: 0.0000e+00\n",
      "Epoch 10/10\n",
      " - 6s - loss: 0.0013 - acc: 3.0075e-04 - val_loss: 0.0012 - val_acc: 0.0000e+00\n"
     ]
    }
   ],
   "source": [
    "train_history_LSTM2 = model_LSTM2.fit(X_Train, Y_Train, batch_size=35, epochs=10, verbose=2, validation_split=0.05)"
   ]
  },
  {
   "cell_type": "code",
   "execution_count": 32,
   "metadata": {},
   "outputs": [],
   "source": [
    "prediction2 = model_LSTM2.predict(X_Test)"
   ]
  },
  {
   "cell_type": "code",
   "execution_count": 33,
   "metadata": {},
   "outputs": [
    {
     "data": {
      "text/plain": [
       "[<matplotlib.lines.Line2D at 0xb34443a20>,\n",
       " <matplotlib.lines.Line2D at 0xb34443b70>]"
      ]
     },
     "execution_count": 33,
     "metadata": {},
     "output_type": "execute_result"
    },
    {
     "data": {
      "image/png": "[encoded data removed]",
      "text/plain": [
       "<Figure size 1080x360 with 1 Axes>"
      ]
     },
     "metadata": {
      "needs_background": "light"
     },
     "output_type": "display_data"
    }
   ],
   "source": [
    "dataDF2 = pd.DataFrame(prediction2[:150])\n",
    "dataDF2.columns = ['predict']\n",
    "dataDF2['input'] = Y_Test[:150]\n",
    "plt.figure(figsize=(15, 5))\n",
    "plt.plot(dataDF)"
   ]
  },
  {
   "cell_type": "code",
   "execution_count": null,
   "metadata": {},
   "outputs": [],
   "source": []
  }
 ],
 "metadata": {
  "kernelspec": {
   "display_name": "Python 3",
   "language": "python",
   "name": "python3"
  },
  "language_info": {
   "codemirror_mode": {
    "name": "ipython",
    "version": 3
   },
   "file_extension": ".py",
   "mimetype": "text/x-python",
   "name": "python",
   "nbconvert_exporter": "python",
   "pygments_lexer": "ipython3",
   "version": "3.5.5"
  }
 },
 "nbformat": 4,
 "nbformat_minor": 2
}
