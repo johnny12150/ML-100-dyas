{
 "cells": [
  {
   "cell_type": "code",
   "execution_count": 1,
   "metadata": {},
   "outputs": [
    {
     "name": "stderr",
     "output_type": "stream",
     "text": [
      "Using TensorFlow backend.\n"
     ]
    }
   ],
   "source": [
    "%matplotlib inline\n",
    "import matplotlib.pyplot as plt\n",
    "import keras\n",
    "from keras.datasets import mnist\n",
    "from keras.models import Sequential\n",
    "from keras.layers import Dense, Dropout, Flatten\n",
    "from keras.layers import Conv2D, MaxPooling2D\n",
    "from keras import backend as K\n",
    "from PIL import Image\n",
    "import numpy as np\n",
    "import pandas as pd\n",
    "from sklearn.model_selection import train_test_split"
   ]
  },
  {
   "cell_type": "code",
   "execution_count": 2,
   "metadata": {},
   "outputs": [
    {
     "data": {
      "text/html": [
       "<div>\n",
       "<style scoped>\n",
       "    .dataframe tbody tr th:only-of-type {\n",
       "        vertical-align: middle;\n",
       "    }\n",
       "\n",
       "    .dataframe tbody tr th {\n",
       "        vertical-align: top;\n",
       "    }\n",
       "\n",
       "    .dataframe thead th {\n",
       "        text-align: right;\n",
       "    }\n",
       "</style>\n",
       "<table border=\"1\" class=\"dataframe\">\n",
       "  <thead>\n",
       "    <tr style=\"text-align: right;\">\n",
       "      <th></th>\n",
       "      <th>label</th>\n",
       "      <th>feature</th>\n",
       "    </tr>\n",
       "  </thead>\n",
       "  <tbody>\n",
       "    <tr>\n",
       "      <th>0</th>\n",
       "      <td>0</td>\n",
       "      <td>70 80 82 72 58 58 60 63 54 58 60 48 89 115 121...</td>\n",
       "    </tr>\n",
       "    <tr>\n",
       "      <th>1</th>\n",
       "      <td>0</td>\n",
       "      <td>151 150 147 155 148 133 111 140 170 174 182 15...</td>\n",
       "    </tr>\n",
       "    <tr>\n",
       "      <th>2</th>\n",
       "      <td>2</td>\n",
       "      <td>231 212 156 164 174 138 161 173 182 200 106 38...</td>\n",
       "    </tr>\n",
       "    <tr>\n",
       "      <th>3</th>\n",
       "      <td>4</td>\n",
       "      <td>24 32 36 30 32 23 19 20 30 41 21 22 32 34 21 1...</td>\n",
       "    </tr>\n",
       "    <tr>\n",
       "      <th>4</th>\n",
       "      <td>6</td>\n",
       "      <td>4 0 0 0 0 0 0 0 0 0 0 0 3 15 23 28 48 50 58 84...</td>\n",
       "    </tr>\n",
       "  </tbody>\n",
       "</table>\n",
       "</div>"
      ],
      "text/plain": [
       "   label                                            feature\n",
       "0      0  70 80 82 72 58 58 60 63 54 58 60 48 89 115 121...\n",
       "1      0  151 150 147 155 148 133 111 140 170 174 182 15...\n",
       "2      2  231 212 156 164 174 138 161 173 182 200 106 38...\n",
       "3      4  24 32 36 30 32 23 19 20 30 41 21 22 32 34 21 1...\n",
       "4      6  4 0 0 0 0 0 0 0 0 0 0 0 3 15 23 28 48 50 58 84..."
      ]
     },
     "execution_count": 2,
     "metadata": {},
     "output_type": "execute_result"
    }
   ],
   "source": [
    "face_df = pd.read_csv('SentimentImage.csv')\n",
    "Y = face_df['label']\n",
    "face_df.head()"
   ]
  },
  {
   "cell_type": "code",
   "execution_count": 3,
   "metadata": {},
   "outputs": [
    {
     "data": {
      "text/plain": [
       "array([[ 70,  80,  82, ...,  52,  43,  41],\n",
       "       [ 65,  61,  58, ...,  56,  52,  44],\n",
       "       [ 50,  43,  54, ...,  49,  56,  47],\n",
       "       ...,\n",
       "       [ 91,  65,  42, ...,  72,  56,  43],\n",
       "       [ 77,  82,  79, ..., 105,  70,  46],\n",
       "       [ 77,  72,  84, ..., 106, 109,  82]])"
      ]
     },
     "execution_count": 3,
     "metadata": {},
     "output_type": "execute_result"
    }
   ],
   "source": [
    "test0 = face_df['feature'][0].split()\n",
    "test0 =np.asarray(test0)\n",
    "test0.astype(int).reshape([48, 48])"
   ]
  },
  {
   "cell_type": "code",
   "execution_count": 4,
   "metadata": {},
   "outputs": [
    {
     "data": {
      "text/plain": [
       "28700"
      ]
     },
     "execution_count": 4,
     "metadata": {},
     "output_type": "execute_result"
    }
   ],
   "source": [
    "len(face_df['feature'])"
   ]
  },
  {
   "cell_type": "markdown",
   "metadata": {},
   "source": [
    "### 前處理"
   ]
  },
  {
   "cell_type": "code",
   "execution_count": 5,
   "metadata": {},
   "outputs": [],
   "source": [
    "X = np.array(face_df['feature'].str.split(\" \", expand=True)).reshape(len(face_df), 48, 48, 1).astype('float32')\n",
    "X = X/255"
   ]
  },
  {
   "cell_type": "code",
   "execution_count": 6,
   "metadata": {},
   "outputs": [],
   "source": [
    "X_train, X_test, y_train, y_test = train_test_split(X, Y, test_size=0.2, random_state=101)"
   ]
  },
  {
   "cell_type": "code",
   "execution_count": 6,
   "metadata": {},
   "outputs": [
    {
     "data": {
      "text/plain": [
       "(22960, 48, 48, 1)"
      ]
     },
     "execution_count": 6,
     "metadata": {},
     "output_type": "execute_result"
    }
   ],
   "source": [
    "X_train.shape"
   ]
  },
  {
   "cell_type": "markdown",
   "metadata": {},
   "source": [
    "### CNN Model"
   ]
  },
  {
   "cell_type": "code",
   "execution_count": 7,
   "metadata": {},
   "outputs": [
    {
     "name": "stdout",
     "output_type": "stream",
     "text": [
      "_________________________________________________________________\n",
      "Layer (type)                 Output Shape              Param #   \n",
      "=================================================================\n",
      "conv2d_1 (Conv2D)            (None, 46, 46, 48)        480       \n",
      "_________________________________________________________________\n",
      "conv2d_2 (Conv2D)            (None, 42, 42, 96)        115296    \n",
      "_________________________________________________________________\n",
      "max_pooling2d_1 (MaxPooling2 (None, 21, 21, 96)        0         \n",
      "_________________________________________________________________\n",
      "dropout_1 (Dropout)          (None, 21, 21, 96)        0         \n",
      "_________________________________________________________________\n",
      "conv2d_3 (Conv2D)            (None, 19, 19, 48)        41520     \n",
      "_________________________________________________________________\n",
      "max_pooling2d_2 (MaxPooling2 (None, 9, 9, 48)          0         \n",
      "_________________________________________________________________\n",
      "flatten_1 (Flatten)          (None, 3888)              0         \n",
      "_________________________________________________________________\n",
      "dense_1 (Dense)              (None, 128)               497792    \n",
      "_________________________________________________________________\n",
      "dropout_2 (Dropout)          (None, 128)               0         \n",
      "_________________________________________________________________\n",
      "dense_2 (Dense)              (None, 7)                 903       \n",
      "=================================================================\n",
      "Total params: 655,991\n",
      "Trainable params: 655,991\n",
      "Non-trainable params: 0\n",
      "_________________________________________________________________\n"
     ]
    }
   ],
   "source": [
    "model_CNN = Sequential()\n",
    "model_CNN.add(Conv2D(48, kernel_size=(3, 3),\n",
    "                 activation='relu',\n",
    "                 input_shape=(48, 48, 1)))\n",
    "model_CNN.add(Conv2D(96, (5, 5), activation='relu'))\n",
    "model_CNN.add(MaxPooling2D(pool_size=(2, 2)))\n",
    "model_CNN.add(Dropout(0.25))\n",
    "model_CNN.add(Conv2D(48, (3, 3), activation='relu'))\n",
    "model_CNN.add(MaxPooling2D(pool_size=(2, 2)))\n",
    "\n",
    "model_CNN.add(Flatten())\n",
    "model_CNN.add(Dense(128, activation='relu'))\n",
    "model_CNN.add(Dropout(0.5))\n",
    "model_CNN.add(Dense(7, activation='softmax'))\n",
    "\n",
    "model_CNN.summary()"
   ]
  },
  {
   "cell_type": "code",
   "execution_count": 8,
   "metadata": {},
   "outputs": [
    {
     "name": "stdout",
     "output_type": "stream",
     "text": [
      "Train on 17220 samples, validate on 5740 samples\n",
      "Epoch 1/30\n",
      "17220/17220 [==============================] - 9s 516us/step - loss: 1.8100 - acc: 0.2481 - val_loss: 1.7067 - val_acc: 0.3005\n",
      "Epoch 2/30\n",
      "17220/17220 [==============================] - 7s 412us/step - loss: 1.6847 - acc: 0.3246 - val_loss: 1.6053 - val_acc: 0.3754\n",
      "Epoch 3/30\n",
      "17220/17220 [==============================] - 7s 414us/step - loss: 1.5583 - acc: 0.3905 - val_loss: 1.4454 - val_acc: 0.4436\n",
      "Epoch 4/30\n",
      "17220/17220 [==============================] - 7s 413us/step - loss: 1.4583 - acc: 0.4328 - val_loss: 1.3679 - val_acc: 0.4784\n",
      "Epoch 5/30\n",
      "17220/17220 [==============================] - 7s 414us/step - loss: 1.3939 - acc: 0.4624 - val_loss: 1.3249 - val_acc: 0.4838\n",
      "Epoch 6/30\n",
      "17220/17220 [==============================] - 7s 414us/step - loss: 1.3329 - acc: 0.4902 - val_loss: 1.3073 - val_acc: 0.5012\n",
      "Epoch 7/30\n",
      "17220/17220 [==============================] - 7s 413us/step - loss: 1.2784 - acc: 0.5053 - val_loss: 1.2767 - val_acc: 0.5051\n",
      "Epoch 8/30\n",
      "17220/17220 [==============================] - 7s 413us/step - loss: 1.2423 - acc: 0.5202 - val_loss: 1.2634 - val_acc: 0.5192\n",
      "Epoch 9/30\n",
      "17220/17220 [==============================] - 7s 413us/step - loss: 1.1981 - acc: 0.5425 - val_loss: 1.2705 - val_acc: 0.5145\n",
      "Epoch 10/30\n",
      "17220/17220 [==============================] - 7s 413us/step - loss: 1.1608 - acc: 0.5563 - val_loss: 1.2783 - val_acc: 0.5172\n",
      "Epoch 11/30\n",
      "17220/17220 [==============================] - 7s 413us/step - loss: 1.1187 - acc: 0.5706 - val_loss: 1.2810 - val_acc: 0.5145\n",
      "Epoch 12/30\n",
      "17220/17220 [==============================] - 7s 413us/step - loss: 1.0820 - acc: 0.5834 - val_loss: 1.2498 - val_acc: 0.5305\n",
      "Epoch 13/30\n",
      "17220/17220 [==============================] - 7s 414us/step - loss: 1.0467 - acc: 0.5969 - val_loss: 1.2577 - val_acc: 0.5286\n",
      "Epoch 14/30\n",
      "17220/17220 [==============================] - 7s 413us/step - loss: 1.0158 - acc: 0.6078 - val_loss: 1.2528 - val_acc: 0.5343\n",
      "Epoch 15/30\n",
      "17220/17220 [==============================] - 7s 413us/step - loss: 0.9766 - acc: 0.6168 - val_loss: 1.3035 - val_acc: 0.5294\n",
      "Epoch 16/30\n",
      "17220/17220 [==============================] - 7s 413us/step - loss: 0.9456 - acc: 0.6316 - val_loss: 1.3131 - val_acc: 0.5263\n",
      "Epoch 17/30\n",
      "17220/17220 [==============================] - 7s 415us/step - loss: 0.9251 - acc: 0.6393 - val_loss: 1.3398 - val_acc: 0.5291\n",
      "Epoch 18/30\n",
      "17220/17220 [==============================] - 7s 417us/step - loss: 0.8888 - acc: 0.6564 - val_loss: 1.3285 - val_acc: 0.5336\n",
      "Epoch 19/30\n",
      "17220/17220 [==============================] - 7s 414us/step - loss: 0.8759 - acc: 0.6595 - val_loss: 1.3472 - val_acc: 0.5319\n",
      "Epoch 20/30\n",
      "17220/17220 [==============================] - 7s 413us/step - loss: 0.8478 - acc: 0.6711 - val_loss: 1.4051 - val_acc: 0.5359\n",
      "Epoch 21/30\n",
      "17220/17220 [==============================] - 7s 414us/step - loss: 0.8287 - acc: 0.6754 - val_loss: 1.4071 - val_acc: 0.5341\n",
      "Epoch 22/30\n",
      "17220/17220 [==============================] - 7s 414us/step - loss: 0.8218 - acc: 0.6790 - val_loss: 1.3817 - val_acc: 0.5357\n",
      "Epoch 23/30\n",
      "17220/17220 [==============================] - 7s 414us/step - loss: 0.7890 - acc: 0.6908 - val_loss: 1.4229 - val_acc: 0.5270\n",
      "Epoch 24/30\n",
      "17220/17220 [==============================] - 7s 414us/step - loss: 0.7762 - acc: 0.6963 - val_loss: 1.4461 - val_acc: 0.5312\n",
      "Epoch 25/30\n",
      "17220/17220 [==============================] - 7s 413us/step - loss: 0.7629 - acc: 0.6984 - val_loss: 1.4488 - val_acc: 0.5301\n",
      "Epoch 26/30\n",
      "17220/17220 [==============================] - 7s 415us/step - loss: 0.7420 - acc: 0.7055 - val_loss: 1.5078 - val_acc: 0.5326\n",
      "Epoch 27/30\n",
      "17220/17220 [==============================] - 7s 413us/step - loss: 0.7290 - acc: 0.7107 - val_loss: 1.5413 - val_acc: 0.5315\n",
      "Epoch 28/30\n",
      "17220/17220 [==============================] - 7s 415us/step - loss: 0.7038 - acc: 0.7215 - val_loss: 1.5765 - val_acc: 0.5347\n",
      "Epoch 29/30\n",
      "17220/17220 [==============================] - 7s 413us/step - loss: 0.7021 - acc: 0.7243 - val_loss: 1.5336 - val_acc: 0.5308\n",
      "Epoch 30/30\n",
      "17220/17220 [==============================] - 7s 414us/step - loss: 0.6927 - acc: 0.7275 - val_loss: 1.5337 - val_acc: 0.5310\n"
     ]
    }
   ],
   "source": [
    "model_CNN.compile(loss='sparse_categorical_crossentropy',\n",
    "              optimizer='adam',\n",
    "              metrics=['accuracy'])\n",
    "\n",
    "train_history_CNN = model_CNN.fit(x=X_train, y=y_train,\n",
    "                          batch_size=30,\n",
    "                          epochs=30,\n",
    "                          verbose=1,\n",
    "                          validation_split=0.25)"
   ]
  },
  {
   "cell_type": "code",
   "execution_count": 9,
   "metadata": {},
   "outputs": [],
   "source": [
    "def show_train_history(train_history, train, validation):\n",
    "    plt.plot(train_history.history[train])\n",
    "    plt.plot(train_history.history[validation])\n",
    "    plt.title('Train History')\n",
    "    plt.ylabel(train)\n",
    "    plt.xlabel('Epoch')\n",
    "    plt.legend(['train', 'validation'], loc='center right')\n",
    "    plt.show()"
   ]
  },
  {
   "cell_type": "code",
   "execution_count": 10,
   "metadata": {},
   "outputs": [
    {
     "data": {
      "image/png": "[encoded data removed]",
      "text/plain": [
       "<Figure size 432x288 with 1 Axes>"
      ]
     },
     "metadata": {
      "needs_background": "light"
     },
     "output_type": "display_data"
    }
   ],
   "source": [
    "show_train_history(train_history_CNN, 'loss', 'val_loss')"
   ]
  },
  {
   "cell_type": "code",
   "execution_count": 11,
   "metadata": {},
   "outputs": [
    {
     "data": {
      "image/png": "[encoded data removed]",
      "text/plain": [
       "<Figure size 432x288 with 1 Axes>"
      ]
     },
     "metadata": {
      "needs_background": "light"
     },
     "output_type": "display_data"
    }
   ],
   "source": [
    "show_train_history(train_history_CNN, 'acc', 'val_acc')"
   ]
  },
  {
   "cell_type": "code",
   "execution_count": 12,
   "metadata": {},
   "outputs": [
    {
     "data": {
      "text/html": [
       "<div>\n",
       "<style scoped>\n",
       "    .dataframe tbody tr th:only-of-type {\n",
       "        vertical-align: middle;\n",
       "    }\n",
       "\n",
       "    .dataframe tbody tr th {\n",
       "        vertical-align: top;\n",
       "    }\n",
       "\n",
       "    .dataframe thead th {\n",
       "        text-align: right;\n",
       "    }\n",
       "</style>\n",
       "<table border=\"1\" class=\"dataframe\">\n",
       "  <thead>\n",
       "    <tr style=\"text-align: right;\">\n",
       "      <th>Predict</th>\n",
       "      <th>0</th>\n",
       "      <th>1</th>\n",
       "      <th>2</th>\n",
       "      <th>3</th>\n",
       "      <th>4</th>\n",
       "      <th>5</th>\n",
       "      <th>6</th>\n",
       "    </tr>\n",
       "    <tr>\n",
       "      <th>Label</th>\n",
       "      <th></th>\n",
       "      <th></th>\n",
       "      <th></th>\n",
       "      <th></th>\n",
       "      <th></th>\n",
       "      <th></th>\n",
       "      <th></th>\n",
       "    </tr>\n",
       "  </thead>\n",
       "  <tbody>\n",
       "    <tr>\n",
       "      <th>0</th>\n",
       "      <td>342</td>\n",
       "      <td>1</td>\n",
       "      <td>83</td>\n",
       "      <td>58</td>\n",
       "      <td>156</td>\n",
       "      <td>16</td>\n",
       "      <td>114</td>\n",
       "    </tr>\n",
       "    <tr>\n",
       "      <th>1</th>\n",
       "      <td>20</td>\n",
       "      <td>20</td>\n",
       "      <td>11</td>\n",
       "      <td>3</td>\n",
       "      <td>22</td>\n",
       "      <td>2</td>\n",
       "      <td>6</td>\n",
       "    </tr>\n",
       "    <tr>\n",
       "      <th>2</th>\n",
       "      <td>108</td>\n",
       "      <td>2</td>\n",
       "      <td>292</td>\n",
       "      <td>73</td>\n",
       "      <td>194</td>\n",
       "      <td>73</td>\n",
       "      <td>114</td>\n",
       "    </tr>\n",
       "    <tr>\n",
       "      <th>3</th>\n",
       "      <td>61</td>\n",
       "      <td>0</td>\n",
       "      <td>47</td>\n",
       "      <td>1122</td>\n",
       "      <td>108</td>\n",
       "      <td>21</td>\n",
       "      <td>122</td>\n",
       "    </tr>\n",
       "    <tr>\n",
       "      <th>4</th>\n",
       "      <td>110</td>\n",
       "      <td>1</td>\n",
       "      <td>114</td>\n",
       "      <td>82</td>\n",
       "      <td>451</td>\n",
       "      <td>10</td>\n",
       "      <td>196</td>\n",
       "    </tr>\n",
       "    <tr>\n",
       "      <th>5</th>\n",
       "      <td>27</td>\n",
       "      <td>0</td>\n",
       "      <td>84</td>\n",
       "      <td>43</td>\n",
       "      <td>28</td>\n",
       "      <td>394</td>\n",
       "      <td>43</td>\n",
       "    </tr>\n",
       "    <tr>\n",
       "      <th>6</th>\n",
       "      <td>81</td>\n",
       "      <td>0</td>\n",
       "      <td>60</td>\n",
       "      <td>93</td>\n",
       "      <td>198</td>\n",
       "      <td>7</td>\n",
       "      <td>527</td>\n",
       "    </tr>\n",
       "  </tbody>\n",
       "</table>\n",
       "</div>"
      ],
      "text/plain": [
       "Predict    0   1    2     3    4    5    6\n",
       "Label                                     \n",
       "0        342   1   83    58  156   16  114\n",
       "1         20  20   11     3   22    2    6\n",
       "2        108   2  292    73  194   73  114\n",
       "3         61   0   47  1122  108   21  122\n",
       "4        110   1  114    82  451   10  196\n",
       "5         27   0   84    43   28  394   43\n",
       "6         81   0   60    93  198    7  527"
      ]
     },
     "execution_count": 12,
     "metadata": {},
     "output_type": "execute_result"
    }
   ],
   "source": [
    "CNN_prediction = model_CNN.predict_classes(Ｘ_test)\n",
    "pd.crosstab(y_test, CNN_prediction, rownames=['Label'], colnames=['Predict'])"
   ]
  },
  {
   "cell_type": "code",
   "execution_count": 17,
   "metadata": {},
   "outputs": [
    {
     "data": {
      "text/plain": [
       "22960"
      ]
     },
     "execution_count": 17,
     "metadata": {},
     "output_type": "execute_result"
    }
   ],
   "source": [
    "X_train.shape[0]"
   ]
  },
  {
   "cell_type": "markdown",
   "metadata": {},
   "source": [
    "### MLP"
   ]
  },
  {
   "cell_type": "code",
   "execution_count": 18,
   "metadata": {},
   "outputs": [],
   "source": [
    "X_train_2D = X_train.reshape(X_train.shape[0], 48 * 48).astype('float32')\n",
    "X_test_2D = X_test.reshape(X_test.shape[0], 48 * 48).astype('float32')"
   ]
  },
  {
   "cell_type": "code",
   "execution_count": 14,
   "metadata": {},
   "outputs": [
    {
     "name": "stdout",
     "output_type": "stream",
     "text": [
      "_________________________________________________________________\n",
      "Layer (type)                 Output Shape              Param #   \n",
      "=================================================================\n",
      "dense_6 (Dense)              (None, 256)               590080    \n",
      "_________________________________________________________________\n",
      "dense_7 (Dense)              (None, 128)               32896     \n",
      "_________________________________________________________________\n",
      "dense_8 (Dense)              (None, 64)                8256      \n",
      "_________________________________________________________________\n",
      "dense_9 (Dense)              (None, 7)                 455       \n",
      "=================================================================\n",
      "Total params: 631,687\n",
      "Trainable params: 631,687\n",
      "Non-trainable params: 0\n",
      "_________________________________________________________________\n"
     ]
    }
   ],
   "source": [
    "model_MLP = Sequential()\n",
    "model_MLP.add(Dense(256, input_dim=2304, activation='relu'))\n",
    "model_MLP.add(Dense(128, activation='relu'))\n",
    "model_MLP.add(Dense(64, activation='relu'))\n",
    "model_MLP.add(Dense(7, activation='softmax'))\n",
    "model_MLP.summary()"
   ]
  },
  {
   "cell_type": "code",
   "execution_count": 22,
   "metadata": {},
   "outputs": [
    {
     "name": "stdout",
     "output_type": "stream",
     "text": [
      "Train on 18368 samples, validate on 4592 samples\n",
      "Epoch 1/100\n",
      "18368/18368 [==============================] - 1s 46us/step - loss: 1.2895 - acc: 0.5076 - val_loss: 1.6650 - val_acc: 0.3872\n",
      "Epoch 2/100\n",
      "18368/18368 [==============================] - 1s 30us/step - loss: 1.2806 - acc: 0.5111 - val_loss: 1.6597 - val_acc: 0.3822\n",
      "Epoch 3/100\n",
      "18368/18368 [==============================] - 1s 31us/step - loss: 1.2711 - acc: 0.5175 - val_loss: 1.6758 - val_acc: 0.3743\n",
      "Epoch 4/100\n",
      "18368/18368 [==============================] - 1s 30us/step - loss: 1.2718 - acc: 0.5167 - val_loss: 1.6235 - val_acc: 0.3911\n",
      "Epoch 5/100\n",
      "18368/18368 [==============================] - 1s 30us/step - loss: 1.2551 - acc: 0.5273 - val_loss: 1.6893 - val_acc: 0.3804\n",
      "Epoch 6/100\n",
      "18368/18368 [==============================] - 1s 30us/step - loss: 1.2516 - acc: 0.5250 - val_loss: 1.6525 - val_acc: 0.3946\n",
      "Epoch 7/100\n",
      "18368/18368 [==============================] - 1s 30us/step - loss: 1.2330 - acc: 0.5336 - val_loss: 1.6631 - val_acc: 0.3898\n",
      "Epoch 8/100\n",
      "18368/18368 [==============================] - 1s 31us/step - loss: 1.2278 - acc: 0.5352 - val_loss: 1.7147 - val_acc: 0.3796\n",
      "Epoch 9/100\n",
      "18368/18368 [==============================] - 1s 30us/step - loss: 1.2219 - acc: 0.5385 - val_loss: 1.6814 - val_acc: 0.3776\n",
      "Epoch 10/100\n",
      "18368/18368 [==============================] - 1s 31us/step - loss: 1.2102 - acc: 0.5422 - val_loss: 1.7298 - val_acc: 0.3987\n",
      "Epoch 11/100\n",
      "18368/18368 [==============================] - 1s 30us/step - loss: 1.2058 - acc: 0.5463 - val_loss: 1.7184 - val_acc: 0.3802\n",
      "Epoch 12/100\n",
      "18368/18368 [==============================] - 1s 31us/step - loss: 1.2058 - acc: 0.5444 - val_loss: 1.6734 - val_acc: 0.3780\n",
      "Epoch 13/100\n",
      "18368/18368 [==============================] - 1s 31us/step - loss: 1.1909 - acc: 0.5516 - val_loss: 1.7030 - val_acc: 0.3887\n",
      "Epoch 14/100\n",
      "18368/18368 [==============================] - 1s 30us/step - loss: 1.1755 - acc: 0.5559 - val_loss: 1.7069 - val_acc: 0.3822\n",
      "Epoch 15/100\n",
      "18368/18368 [==============================] - 1s 31us/step - loss: 1.1656 - acc: 0.5567 - val_loss: 1.8042 - val_acc: 0.3571\n",
      "Epoch 16/100\n",
      "18368/18368 [==============================] - 1s 30us/step - loss: 1.1860 - acc: 0.5536 - val_loss: 1.7544 - val_acc: 0.3787\n",
      "Epoch 17/100\n",
      "18368/18368 [==============================] - 1s 30us/step - loss: 1.1649 - acc: 0.5598 - val_loss: 1.7634 - val_acc: 0.3907\n",
      "Epoch 18/100\n",
      "18368/18368 [==============================] - 1s 30us/step - loss: 1.1493 - acc: 0.5689 - val_loss: 1.7348 - val_acc: 0.3916\n",
      "Epoch 19/100\n",
      "18368/18368 [==============================] - 1s 30us/step - loss: 1.1420 - acc: 0.5724 - val_loss: 1.7601 - val_acc: 0.3872\n",
      "Epoch 20/100\n",
      "18368/18368 [==============================] - 1s 30us/step - loss: 1.1346 - acc: 0.5738 - val_loss: 1.7567 - val_acc: 0.3870\n",
      "Epoch 21/100\n",
      "18368/18368 [==============================] - 1s 30us/step - loss: 1.1220 - acc: 0.5784 - val_loss: 1.8068 - val_acc: 0.3767\n",
      "Epoch 22/100\n",
      "18368/18368 [==============================] - 1s 31us/step - loss: 1.1234 - acc: 0.5778 - val_loss: 1.7861 - val_acc: 0.3824\n",
      "Epoch 23/100\n",
      "18368/18368 [==============================] - 1s 30us/step - loss: 1.1248 - acc: 0.5775 - val_loss: 1.8483 - val_acc: 0.3861\n",
      "Epoch 24/100\n",
      "18368/18368 [==============================] - 1s 31us/step - loss: 1.1175 - acc: 0.5803 - val_loss: 1.8085 - val_acc: 0.3900\n",
      "Epoch 25/100\n",
      "18368/18368 [==============================] - 1s 30us/step - loss: 1.1033 - acc: 0.5876 - val_loss: 1.7994 - val_acc: 0.3789\n",
      "Epoch 26/100\n",
      "18368/18368 [==============================] - 1s 30us/step - loss: 1.0850 - acc: 0.5958 - val_loss: 1.8251 - val_acc: 0.3935\n",
      "Epoch 27/100\n",
      "18368/18368 [==============================] - 1s 30us/step - loss: 1.0902 - acc: 0.5923 - val_loss: 1.8769 - val_acc: 0.3717\n",
      "Epoch 28/100\n",
      "18368/18368 [==============================] - 1s 30us/step - loss: 1.0774 - acc: 0.5957 - val_loss: 1.8706 - val_acc: 0.3898\n",
      "Epoch 29/100\n",
      "18368/18368 [==============================] - 1s 31us/step - loss: 1.0646 - acc: 0.6061 - val_loss: 1.9040 - val_acc: 0.3870\n",
      "Epoch 30/100\n",
      "18368/18368 [==============================] - 1s 30us/step - loss: 1.0538 - acc: 0.6067 - val_loss: 1.8953 - val_acc: 0.3898\n",
      "Epoch 31/100\n",
      "18368/18368 [==============================] - 1s 31us/step - loss: 1.0448 - acc: 0.6123 - val_loss: 1.8683 - val_acc: 0.3811\n",
      "Epoch 32/100\n",
      "18368/18368 [==============================] - 1s 31us/step - loss: 1.0489 - acc: 0.6083 - val_loss: 1.9488 - val_acc: 0.3765\n",
      "Epoch 33/100\n",
      "18368/18368 [==============================] - 1s 30us/step - loss: 1.0205 - acc: 0.6196 - val_loss: 1.9733 - val_acc: 0.3841\n",
      "Epoch 34/100\n",
      "18368/18368 [==============================] - 1s 30us/step - loss: 1.0217 - acc: 0.6202 - val_loss: 1.9092 - val_acc: 0.3837\n",
      "Epoch 35/100\n",
      "18368/18368 [==============================] - 1s 31us/step - loss: 1.0121 - acc: 0.6247 - val_loss: 1.9454 - val_acc: 0.3835\n",
      "Epoch 36/100\n",
      "18368/18368 [==============================] - 1s 30us/step - loss: 1.0359 - acc: 0.6122 - val_loss: 2.0419 - val_acc: 0.3667\n",
      "Epoch 37/100\n",
      "18368/18368 [==============================] - 1s 30us/step - loss: 1.0128 - acc: 0.6209 - val_loss: 1.9356 - val_acc: 0.3815\n",
      "Epoch 38/100\n",
      "18368/18368 [==============================] - 1s 30us/step - loss: 0.9987 - acc: 0.6288 - val_loss: 2.0123 - val_acc: 0.3689\n",
      "Epoch 39/100\n",
      "18368/18368 [==============================] - 1s 30us/step - loss: 0.9870 - acc: 0.6323 - val_loss: 2.0367 - val_acc: 0.3741\n",
      "Epoch 40/100\n",
      "18368/18368 [==============================] - 1s 30us/step - loss: 0.9809 - acc: 0.6350 - val_loss: 2.0136 - val_acc: 0.3815\n",
      "Epoch 41/100\n",
      "18368/18368 [==============================] - 1s 30us/step - loss: 0.9910 - acc: 0.6280 - val_loss: 1.9861 - val_acc: 0.3730\n",
      "Epoch 42/100\n",
      "18368/18368 [==============================] - 1s 30us/step - loss: 0.9790 - acc: 0.6345 - val_loss: 2.0004 - val_acc: 0.3685\n",
      "Epoch 43/100\n",
      "18368/18368 [==============================] - 1s 30us/step - loss: 0.9760 - acc: 0.6393 - val_loss: 2.0436 - val_acc: 0.3841\n",
      "Epoch 44/100\n",
      "18368/18368 [==============================] - 1s 30us/step - loss: 0.9613 - acc: 0.6420 - val_loss: 2.0828 - val_acc: 0.3746\n",
      "Epoch 45/100\n",
      "18368/18368 [==============================] - 1s 30us/step - loss: 0.9588 - acc: 0.6423 - val_loss: 2.0779 - val_acc: 0.3802\n",
      "Epoch 46/100\n",
      "18368/18368 [==============================] - 1s 30us/step - loss: 0.9551 - acc: 0.6429 - val_loss: 2.0508 - val_acc: 0.3726\n",
      "Epoch 47/100\n",
      "18368/18368 [==============================] - 1s 30us/step - loss: 0.9352 - acc: 0.6530 - val_loss: 2.0993 - val_acc: 0.3667\n",
      "Epoch 48/100\n",
      "18368/18368 [==============================] - 1s 30us/step - loss: 0.9377 - acc: 0.6534 - val_loss: 2.1113 - val_acc: 0.3676\n",
      "Epoch 49/100\n",
      "18368/18368 [==============================] - 1s 30us/step - loss: 0.9331 - acc: 0.6564 - val_loss: 2.1132 - val_acc: 0.3811\n",
      "Epoch 50/100\n",
      "18368/18368 [==============================] - 1s 31us/step - loss: 0.9252 - acc: 0.6583 - val_loss: 2.1495 - val_acc: 0.3828\n",
      "Epoch 51/100\n",
      "18368/18368 [==============================] - 1s 30us/step - loss: 0.9088 - acc: 0.6676 - val_loss: 2.1546 - val_acc: 0.3715\n",
      "Epoch 52/100\n",
      "18368/18368 [==============================] - 1s 30us/step - loss: 0.9237 - acc: 0.6582 - val_loss: 2.1570 - val_acc: 0.3911\n",
      "Epoch 53/100\n",
      "18368/18368 [==============================] - 1s 30us/step - loss: 0.8952 - acc: 0.6674 - val_loss: 2.1868 - val_acc: 0.3791\n",
      "Epoch 54/100\n",
      "18368/18368 [==============================] - 1s 30us/step - loss: 0.8972 - acc: 0.6672 - val_loss: 2.2190 - val_acc: 0.3757\n",
      "Epoch 55/100\n",
      "18368/18368 [==============================] - 1s 31us/step - loss: 0.8805 - acc: 0.6742 - val_loss: 2.2179 - val_acc: 0.3678\n",
      "Epoch 56/100\n",
      "18368/18368 [==============================] - 1s 30us/step - loss: 0.8852 - acc: 0.6725 - val_loss: 2.2013 - val_acc: 0.3796\n",
      "Epoch 57/100\n",
      "18368/18368 [==============================] - 1s 31us/step - loss: 0.8847 - acc: 0.6742 - val_loss: 2.3266 - val_acc: 0.3582\n",
      "Epoch 58/100\n",
      "18368/18368 [==============================] - 1s 30us/step - loss: 0.8760 - acc: 0.6756 - val_loss: 2.2312 - val_acc: 0.3767\n",
      "Epoch 59/100\n",
      "18368/18368 [==============================] - 1s 30us/step - loss: 0.8762 - acc: 0.6731 - val_loss: 2.3240 - val_acc: 0.3837\n",
      "Epoch 60/100\n",
      "18368/18368 [==============================] - 1s 30us/step - loss: 0.8662 - acc: 0.6797 - val_loss: 2.3177 - val_acc: 0.3831\n",
      "Epoch 61/100\n",
      "18368/18368 [==============================] - 1s 30us/step - loss: 0.8488 - acc: 0.6904 - val_loss: 2.3872 - val_acc: 0.3763\n",
      "Epoch 62/100\n",
      "18368/18368 [==============================] - 1s 31us/step - loss: 0.8515 - acc: 0.6843 - val_loss: 2.3980 - val_acc: 0.3774\n",
      "Epoch 63/100\n",
      "18368/18368 [==============================] - 1s 30us/step - loss: 0.8377 - acc: 0.6946 - val_loss: 2.3349 - val_acc: 0.3783\n",
      "Epoch 64/100\n",
      "18368/18368 [==============================] - 1s 30us/step - loss: 0.8443 - acc: 0.6908 - val_loss: 2.3011 - val_acc: 0.3757\n",
      "Epoch 65/100\n",
      "18368/18368 [==============================] - 1s 30us/step - loss: 0.8269 - acc: 0.6978 - val_loss: 2.3613 - val_acc: 0.3772\n",
      "Epoch 66/100\n",
      "18368/18368 [==============================] - 1s 30us/step - loss: 0.8174 - acc: 0.6999 - val_loss: 2.3644 - val_acc: 0.3706\n",
      "Epoch 67/100\n",
      "18368/18368 [==============================] - 1s 31us/step - loss: 0.8103 - acc: 0.7035 - val_loss: 2.4198 - val_acc: 0.3733\n",
      "Epoch 68/100\n",
      "18368/18368 [==============================] - 1s 30us/step - loss: 0.8166 - acc: 0.7003 - val_loss: 2.4152 - val_acc: 0.3794\n",
      "Epoch 69/100\n",
      "18368/18368 [==============================] - 1s 31us/step - loss: 0.8194 - acc: 0.6994 - val_loss: 2.3318 - val_acc: 0.3750\n",
      "Epoch 70/100\n",
      "18368/18368 [==============================] - 1s 30us/step - loss: 0.7985 - acc: 0.7072 - val_loss: 2.5036 - val_acc: 0.3720\n",
      "Epoch 71/100\n",
      "18368/18368 [==============================] - 1s 30us/step - loss: 0.8038 - acc: 0.7023 - val_loss: 2.4024 - val_acc: 0.3787\n",
      "Epoch 72/100\n",
      "18368/18368 [==============================] - 1s 30us/step - loss: 0.7962 - acc: 0.7081 - val_loss: 2.4498 - val_acc: 0.3752\n",
      "Epoch 73/100\n",
      "18368/18368 [==============================] - 1s 30us/step - loss: 0.8179 - acc: 0.6984 - val_loss: 2.4292 - val_acc: 0.3772\n",
      "Epoch 74/100\n",
      "18368/18368 [==============================] - 1s 31us/step - loss: 0.7850 - acc: 0.7134 - val_loss: 2.4413 - val_acc: 0.3846\n",
      "Epoch 75/100\n",
      "18368/18368 [==============================] - 1s 30us/step - loss: 0.7716 - acc: 0.7147 - val_loss: 2.4972 - val_acc: 0.3682\n",
      "Epoch 76/100\n",
      "18368/18368 [==============================] - 1s 31us/step - loss: 0.7994 - acc: 0.7079 - val_loss: 2.5444 - val_acc: 0.3706\n",
      "Epoch 77/100\n",
      "18368/18368 [==============================] - 1s 30us/step - loss: 0.7787 - acc: 0.7144 - val_loss: 2.5421 - val_acc: 0.3741\n",
      "Epoch 78/100\n",
      "18368/18368 [==============================] - 1s 30us/step - loss: 0.7630 - acc: 0.7202 - val_loss: 2.5681 - val_acc: 0.3772\n",
      "Epoch 79/100\n",
      "18368/18368 [==============================] - 1s 30us/step - loss: 0.7555 - acc: 0.7222 - val_loss: 2.6870 - val_acc: 0.3643\n",
      "Epoch 80/100\n",
      "18368/18368 [==============================] - 1s 30us/step - loss: 0.7600 - acc: 0.7216 - val_loss: 2.5143 - val_acc: 0.3837\n",
      "Epoch 81/100\n",
      "18368/18368 [==============================] - 1s 30us/step - loss: 0.7586 - acc: 0.7211 - val_loss: 2.5884 - val_acc: 0.3669\n",
      "Epoch 82/100\n",
      "18368/18368 [==============================] - 1s 30us/step - loss: 0.7669 - acc: 0.7186 - val_loss: 2.5885 - val_acc: 0.3611\n",
      "Epoch 83/100\n",
      "18368/18368 [==============================] - 1s 31us/step - loss: 0.7384 - acc: 0.7295 - val_loss: 2.6280 - val_acc: 0.3669\n",
      "Epoch 84/100\n",
      "18368/18368 [==============================] - 1s 30us/step - loss: 0.7375 - acc: 0.7348 - val_loss: 2.6866 - val_acc: 0.3689\n",
      "Epoch 85/100\n",
      "18368/18368 [==============================] - 1s 30us/step - loss: 0.7536 - acc: 0.7234 - val_loss: 2.6254 - val_acc: 0.3772\n",
      "Epoch 86/100\n",
      "18368/18368 [==============================] - 1s 30us/step - loss: 0.7469 - acc: 0.7270 - val_loss: 2.6580 - val_acc: 0.3733\n",
      "Epoch 87/100\n",
      "18368/18368 [==============================] - 1s 30us/step - loss: 0.7160 - acc: 0.7405 - val_loss: 2.5911 - val_acc: 0.3682\n",
      "Epoch 88/100\n",
      "18368/18368 [==============================] - 1s 31us/step - loss: 0.7201 - acc: 0.7369 - val_loss: 2.6747 - val_acc: 0.3785\n",
      "Epoch 89/100\n",
      "18368/18368 [==============================] - 1s 30us/step - loss: 0.7137 - acc: 0.7371 - val_loss: 2.7046 - val_acc: 0.3650\n",
      "Epoch 90/100\n",
      "18368/18368 [==============================] - 1s 30us/step - loss: 0.7114 - acc: 0.7407 - val_loss: 2.6973 - val_acc: 0.3737\n",
      "Epoch 91/100\n",
      "18368/18368 [==============================] - 1s 30us/step - loss: 0.6991 - acc: 0.7434 - val_loss: 2.6895 - val_acc: 0.3654\n",
      "Epoch 92/100\n",
      "18368/18368 [==============================] - 1s 30us/step - loss: 0.6984 - acc: 0.7462 - val_loss: 2.7414 - val_acc: 0.3711\n",
      "Epoch 93/100\n",
      "18368/18368 [==============================] - 1s 30us/step - loss: 0.6976 - acc: 0.7458 - val_loss: 2.7352 - val_acc: 0.3704\n",
      "Epoch 94/100\n",
      "18368/18368 [==============================] - 1s 30us/step - loss: 0.6952 - acc: 0.7470 - val_loss: 2.7748 - val_acc: 0.3700\n",
      "Epoch 95/100\n",
      "18368/18368 [==============================] - 1s 30us/step - loss: 0.6877 - acc: 0.7516 - val_loss: 2.8141 - val_acc: 0.3676\n",
      "Epoch 96/100\n",
      "18368/18368 [==============================] - 1s 30us/step - loss: 0.7034 - acc: 0.7427 - val_loss: 2.7125 - val_acc: 0.3652\n",
      "Epoch 97/100\n",
      "18368/18368 [==============================] - 1s 30us/step - loss: 0.6909 - acc: 0.7481 - val_loss: 2.8135 - val_acc: 0.3765\n",
      "Epoch 98/100\n",
      "18368/18368 [==============================] - 1s 30us/step - loss: 0.6801 - acc: 0.7536 - val_loss: 2.8249 - val_acc: 0.3709\n",
      "Epoch 99/100\n",
      "18368/18368 [==============================] - 1s 30us/step - loss: 0.6770 - acc: 0.7557 - val_loss: 2.8350 - val_acc: 0.3709\n",
      "Epoch 100/100\n",
      "18368/18368 [==============================] - 1s 31us/step - loss: 0.6680 - acc: 0.7580 - val_loss: 2.7968 - val_acc: 0.3680\n"
     ]
    }
   ],
   "source": [
    "model_MLP.compile(loss='sparse_categorical_crossentropy', optimizer='adam', metrics=['accuracy'])\n",
    "train_history_MLP = model_MLP.fit(x=X_train_2D, y=y_train, validation_split=0.2, epochs=100, batch_size=100, verbose=1)"
   ]
  },
  {
   "cell_type": "code",
   "execution_count": 23,
   "metadata": {},
   "outputs": [
    {
     "data": {
      "image/png": "[encoded data removed]",
      "text/plain": [
       "<Figure size 432x288 with 1 Axes>"
      ]
     },
     "metadata": {
      "needs_background": "light"
     },
     "output_type": "display_data"
    }
   ],
   "source": [
    "show_train_history(train_history_MLP, 'loss', 'val_loss')"
   ]
  },
  {
   "cell_type": "code",
   "execution_count": 24,
   "metadata": {},
   "outputs": [
    {
     "data": {
      "image/png": "[encoded data removed]",
      "text/plain": [
       "<Figure size 432x288 with 1 Axes>"
      ]
     },
     "metadata": {
      "needs_background": "light"
     },
     "output_type": "display_data"
    }
   ],
   "source": [
    "show_train_history(train_history_MLP, 'acc', 'val_acc')"
   ]
  },
  {
   "cell_type": "code",
   "execution_count": 30,
   "metadata": {},
   "outputs": [
    {
     "data": {
      "image/png": "[encoded data removed]",
      "text/plain": [
       "<Figure size 432x288 with 1 Axes>"
      ]
     },
     "metadata": {
      "needs_background": "light"
     },
     "output_type": "display_data"
    }
   ],
   "source": [
    "def display_img(num):\n",
    "    # print(y_train[num])\n",
    "    label = y_train[num]\n",
    "    image = X_train[num].reshape([48, 48])\n",
    "    plt.title('Sample: %d Label: %d' % (num, label))\n",
    "    plt.imshow(image, cmap='gray')\n",
    "    \n",
    "display_img(2672)"
   ]
  },
  {
   "cell_type": "code",
   "execution_count": 29,
   "metadata": {},
   "outputs": [
    {
     "data": {
      "text/plain": [
       "2672     2\n",
       "5007     4\n",
       "10950    0\n",
       "27783    3\n",
       "18624    0\n",
       "24333    4\n",
       "12268    4\n",
       "10687    6\n",
       "13565    3\n",
       "5777     3\n",
       "25764    6\n",
       "22604    6\n",
       "6113     0\n",
       "21057    0\n",
       "19233    0\n",
       "6330     0\n",
       "25743    2\n",
       "20345    3\n",
       "13465    2\n",
       "7826     1\n",
       "13290    4\n",
       "24847    0\n",
       "3232     2\n",
       "14078    3\n",
       "15467    3\n",
       "17860    4\n",
       "5738     0\n",
       "4694     4\n",
       "1381     2\n",
       "24650    4\n",
       "        ..\n",
       "18491    0\n",
       "19315    6\n",
       "1949     6\n",
       "20851    3\n",
       "26760    4\n",
       "26106    2\n",
       "12911    3\n",
       "49       2\n",
       "20957    3\n",
       "25484    0\n",
       "23557    2\n",
       "19566    6\n",
       "22208    0\n",
       "13020    0\n",
       "6460     2\n",
       "28405    0\n",
       "21416    3\n",
       "2623     6\n",
       "22148    2\n",
       "22056    0\n",
       "17357    4\n",
       "20463    6\n",
       "12363    4\n",
       "22525    3\n",
       "16983    3\n",
       "5695     4\n",
       "8006     2\n",
       "17745    0\n",
       "17931    2\n",
       "13151    2\n",
       "Name: label, Length: 22960, dtype: int64"
      ]
     },
     "execution_count": 29,
     "metadata": {},
     "output_type": "execute_result"
    }
   ],
   "source": [
    "y_train"
   ]
  },
  {
   "cell_type": "code",
   "execution_count": null,
   "metadata": {},
   "outputs": [],
   "source": []
  }
 ],
 "metadata": {
  "kernelspec": {
   "display_name": "Python 3",
   "language": "python",
   "name": "python3"
  },
  "language_info": {
   "codemirror_mode": {
    "name": "ipython",
    "version": 3
   },
   "file_extension": ".py",
   "mimetype": "text/x-python",
   "name": "python",
   "nbconvert_exporter": "python",
   "pygments_lexer": "ipython3",
   "version": "3.6.5"
  }
 },
 "nbformat": 4,
 "nbformat_minor": 2
}
